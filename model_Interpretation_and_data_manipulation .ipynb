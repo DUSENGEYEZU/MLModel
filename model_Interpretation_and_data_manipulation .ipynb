{
  "nbformat": 4,
  "nbformat_minor": 0,
  "metadata": {
    "kernelspec": {
      "display_name": "Python 3",
      "language": "python",
      "name": "python3"
    },
    "language_info": {
      "codemirror_mode": {
        "name": "ipython",
        "version": 3
      },
      "file_extension": ".py",
      "mimetype": "text/x-python",
      "name": "python",
      "nbconvert_exporter": "python",
      "pygments_lexer": "ipython3",
      "version": "3.6.8"
    },
    "colab": {
      "name": "DUSENGEYEZU_LONGIN_model Interpretation and data manipulation.ipynb",
      "provenance": [],
      "collapsed_sections": []
    }
  },
  "cells": [
    {
      "cell_type": "markdown",
      "metadata": {
        "id": "HtQ0DFYp2miM"
      },
      "source": [
        "# DAY 8: Model Interpretation and data manipulation\n",
        "\n",
        "### Machine Learning and Computational Statistics (DSC6232)\n",
        "\n",
        "#### Instructors: Weiwei Pan, Melanie Fernandez, Pavlos Protopapas\n",
        "\n",
        "#### Due: August 3rd, 2:00 pm Kigali Time"
      ]
    },
    {
      "cell_type": "markdown",
      "metadata": {
        "id": "DFSUf8okMF_U"
      },
      "source": [
        "**First name**: LONGIN\n",
        "\n",
        "**Last name**: DUSENGEYEZU\n",
        "\n",
        "**ID**:220020609"
      ]
    },
    {
      "cell_type": "markdown",
      "metadata": {
        "id": "-LDLhlLnMXlS"
      },
      "source": [
        "## Learning Goals:\n",
        "\n",
        "1. encode non-numerical data\n",
        "2. preprocess data: scaling covariates, outlier removal and data imputation\n",
        "3. model interpretation for down-stream application"
      ]
    },
    {
      "cell_type": "markdown",
      "metadata": {
        "id": "ZMa9rQe12miO"
      },
      "source": [
        "### Load necessary libraries"
      ]
    },
    {
      "cell_type": "code",
      "metadata": {
        "id": "qTS4Kr6_2miP"
      },
      "source": [
        "# as usual, let us load all the necessary libraries\n",
        "import numpy as np  # numerical computation with arrays\n",
        "import pandas as pd # library to manipulate datasets using dataframes\n",
        "import scipy as sp  # statistical library\n",
        "\n",
        "# below sklearn libraries for different models\n",
        "from sklearn.tree import DecisionTreeClassifier as DecisionTree\n",
        "from sklearn.ensemble import RandomForestClassifier as RandomForest\n",
        "from sklearn.preprocessing import PolynomialFeatures\n",
        "from sklearn.linear_model import LogisticRegression\n",
        "from sklearn.linear_model import LinearRegression\n",
        "from sklearn.impute import KNNImputer\n",
        "from sklearn.metrics import mean_squared_error\n",
        "from sklearn.preprocessing import MinMaxScaler\n",
        "\n",
        "# plot \n",
        "import matplotlib\n",
        "import matplotlib.pyplot as plt\n",
        "%matplotlib inline"
      ],
      "execution_count": null,
      "outputs": []
    },
    {
      "cell_type": "markdown",
      "metadata": {
        "id": "XjxU5UNs2miY"
      },
      "source": [
        "### We include auxiliary functions here that we will need to use later \n",
        "\n",
        "**No need to read in details!**"
      ]
    },
    {
      "cell_type": "code",
      "metadata": {
        "id": "MLafemFh2mia"
      },
      "source": [
        "# function to generate random splits\n",
        "def split_data(X, y ,seed=29):\n",
        "    ''' Function to split  randomly your dataset in train and test '''\n",
        "    N,D = X.shape\n",
        "    test_size=0.4\n",
        "    np.random.seed(seed)\n",
        "    permuted_idxs = np.random.permutation(N)\n",
        "    N_train = int(np.floor(N*(1-test_size)))\n",
        "    train_idxs = permuted_idxs[:N_train]\n",
        "    test_idxs = permuted_idxs[N_train:]\n",
        "    X_train = X[train_idxs,:]\n",
        "    X_test = X[test_idxs,:]\n",
        "    y_train = y[train_idxs]\n",
        "    y_test = y[test_idxs]\n",
        "    return X_train, X_test, y_train, y_test\n",
        "\n",
        "# function to print feature importances (size of coefficients)\n",
        "def print_sorted_feat_importance(weights, colnames):\n",
        "    feature_weights = pd.Series(weights, index=colnames)\n",
        "    feature_weights_sorted = feature_weights.apply(np.abs).sort_values(ascending=False)\n",
        "\n",
        "    for name in feature_weights_sorted.index:\n",
        "         print('{:23s}: {:.4f}'.format(name, feature_weights[name]))\n",
        "            \n",
        "# function to plot confidence intervals\n",
        "def plot_confidence_intervals(bootstrap_weights, ax):\n",
        "    rows = bootstrap_weights.shape[0]\n",
        "    columns = bootstrap_weights.shape[1]\n",
        "    bootstrap_weights = bootstrap_weights.reshape((rows, columns))\n",
        "    ax.set_title(\"Variation in weight across variations in train set\")\n",
        "    ax.boxplot(bootstrap_weights)\n",
        "    ax.set_ylabel('Weight values')\n",
        "    ax.set_xlabel('Features')\n",
        "    ax.set_xticklabels(X_colnames, rotation=90)\n",
        "    return ax\n",
        "\n",
        "# function to plot predictive intervals\n",
        "def plot_predictive_intervals(bootstrap_predictions, labels, ax):\n",
        "    rows = bootstrap_predictions.shape[0]\n",
        "    columns = bootstrap_predictions.shape[1]\n",
        "    bootstrap_predictions = bootstrap_predictions.reshape((rows, columns))\n",
        "    ax.set_title(\"Variation in prediction across variations in train set\")\n",
        "    ax.boxplot(bootstrap_predictions)\n",
        "    ax.set_ylabel('Predicted Sales')\n",
        "    ax.set_xlabel('Companies')\n",
        "    ax.set_xticklabels(labels, rotation=90)\n",
        "    return ax\n",
        "\n",
        "def get_data(messy_data=True):\n",
        "\n",
        "    # load the data using pandas\n",
        "    X_df = pd.read_csv('https://raw.githubusercontent.com/onefishy/Rwanda-course-2020/master/In-class/X.csv')\n",
        "    y_df = pd.read_csv('https://raw.githubusercontent.com/onefishy/Rwanda-course-2020/master/In-class/y.csv')\n",
        "\n",
        "    # change $ to cents\n",
        "    \n",
        "    X_df['bus_stops ($)'] *= 100.0\n",
        "    X_df.rename(columns={'bus_stops ($)': 'bus_stops (cents)'}, inplace=True)\n",
        "   \n",
        "    # add id\n",
        "    X_df['company id number'] = np.arange(X_df.shape[0])\n",
        "\n",
        "    # add country\n",
        "    r = X_df['TV ($)']\n",
        "    r += np.random.normal(scale=2.0, size=r.shape)\n",
        "    X_df['Country'] = r\n",
        "    X_df.loc[r < 25.0, 'Country'] = 'Mexico'\n",
        "    X_df.loc[(r > 25.0) & (r < 160.0), 'Country'] = 'USA'\n",
        "    X_df.loc[r > 160.0, 'Country'] = 'Rwanda'\n",
        "\n",
        "    X_df['Nationality'] = r\n",
        "    X_df.loc[r < 25.0, 'Nationality'] = 'Mexican'\n",
        "    X_df.loc[(r > 25.0) & (r < 160.0), 'Nationality'] = 'American'\n",
        "    X_df.loc[r > 160.0, 'Nationality'] = 'Rwandan'\n",
        "\n",
        "\n",
        "    if messy_data:    \n",
        "        # create outliers\n",
        "        p_outliers = 0.1\n",
        "        outlier_idx = X_df.sample(frac=p_outliers, replace=True).index\n",
        "        X_outliers = X_df.iloc[outlier_idx].copy()\n",
        "        X_outliers[['electricity (mega W)', 'water (10^3 m3)']] += 30.0\n",
        "        X_df = pd.concat([X_df, X_outliers], ignore_index=True)\n",
        "        y_df = pd.concat([y_df, y_df.iloc[outlier_idx]], ignore_index=True)\n",
        "\n",
        "        # add missing values\n",
        "        p_missing_per_columnn = 0.01\n",
        "        for c in X_df.columns:\n",
        "            missing_idx = X_df.sample(frac=p_missing_per_columnn, replace=False).index\n",
        "            X_missing = X_df.iloc[missing_idx].copy()\n",
        "            X_missing[c] = np.NaN\n",
        "\n",
        "            X_df = pd.concat([X_df, X_missing], ignore_index=True)\n",
        "            y_df = pd.concat([y_df, y_df.iloc[missing_idx]], ignore_index=True)\n",
        "\n",
        "    new_index = np.random.permutation(X_df.index)\n",
        "    X_df = X_df.reindex(new_index)\n",
        "    y_df = y_df.reindex(new_index)\n",
        "\n",
        "    return X_df, y_df"
      ],
      "execution_count": null,
      "outputs": []
    },
    {
      "cell_type": "markdown",
      "metadata": {
        "id": "Y1kJvEr-2mig"
      },
      "source": [
        "---\n",
        "\n",
        "## Predicting total sales from marketing strategy\n",
        "\n",
        "In this exercise, you are asked to build a machine learning model to predict the total sales of a company based on their marketing strategy (how much money they invest in advertisement and in which venues they choose to advertise) as well as a few additional features of the company.\n",
        "\n",
        "The goal is not only to predict how much sales a company should expect, the goal is to also make a recommendation to the company on how they should adjust their marketing strategy or internal operations (e.g. you might recommend, based on your model, that the company invests more in social media marketing)."
      ]
    },
    {
      "cell_type": "markdown",
      "metadata": {
        "id": "fjmY5evQ2mii"
      },
      "source": [
        "#### Load the dataset and examine it"
      ]
    },
    {
      "cell_type": "code",
      "metadata": {
        "id": "oCdfp3Dl2mij"
      },
      "source": [
        "# load the data using pandas\n",
        "X_df, y_df = get_data()"
      ],
      "execution_count": null,
      "outputs": []
    },
    {
      "cell_type": "code",
      "metadata": {
        "id": "psIHuZDl2mio",
        "colab": {
          "base_uri": "https://localhost:8080/",
          "height": 221
        },
        "outputId": "0cc117e6-9a08-4228-b5aa-1f4275ffb0e9"
      },
      "source": [
        "# print the first rows of the marketing strategies data\n",
        "X_df.head()"
      ],
      "execution_count": null,
      "outputs": [
        {
          "output_type": "execute_result",
          "data": {
            "text/html": [
              "<div>\n",
              "<style scoped>\n",
              "    .dataframe tbody tr th:only-of-type {\n",
              "        vertical-align: middle;\n",
              "    }\n",
              "\n",
              "    .dataframe tbody tr th {\n",
              "        vertical-align: top;\n",
              "    }\n",
              "\n",
              "    .dataframe thead th {\n",
              "        text-align: right;\n",
              "    }\n",
              "</style>\n",
              "<table border=\"1\" class=\"dataframe\">\n",
              "  <thead>\n",
              "    <tr style=\"text-align: right;\">\n",
              "      <th></th>\n",
              "      <th>electricity (mega W)</th>\n",
              "      <th>water (10^3 m3)</th>\n",
              "      <th>bus_stops (cents)</th>\n",
              "      <th>sport_events ($)</th>\n",
              "      <th>social_media ($)</th>\n",
              "      <th>TV ($)</th>\n",
              "      <th>radio ($)</th>\n",
              "      <th>newspaper ($)</th>\n",
              "      <th>company id number</th>\n",
              "      <th>Country</th>\n",
              "      <th>Nationality</th>\n",
              "    </tr>\n",
              "  </thead>\n",
              "  <tbody>\n",
              "    <tr>\n",
              "      <th>24</th>\n",
              "      <td>0.805950</td>\n",
              "      <td>2.194227</td>\n",
              "      <td>3364.974791</td>\n",
              "      <td>35.241950</td>\n",
              "      <td>12.327478</td>\n",
              "      <td>65.181941</td>\n",
              "      <td>12.6</td>\n",
              "      <td>18.3</td>\n",
              "      <td>24.0</td>\n",
              "      <td>USA</td>\n",
              "      <td>American</td>\n",
              "    </tr>\n",
              "    <tr>\n",
              "      <th>146</th>\n",
              "      <td>2.125383</td>\n",
              "      <td>1.380518</td>\n",
              "      <td>1562.070768</td>\n",
              "      <td>2.150076</td>\n",
              "      <td>19.467803</td>\n",
              "      <td>240.236336</td>\n",
              "      <td>7.3</td>\n",
              "      <td>8.7</td>\n",
              "      <td>146.0</td>\n",
              "      <td>Rwanda</td>\n",
              "      <td>Rwandan</td>\n",
              "    </tr>\n",
              "    <tr>\n",
              "      <th>149</th>\n",
              "      <td>1.585600</td>\n",
              "      <td>0.923946</td>\n",
              "      <td>3483.231230</td>\n",
              "      <td>15.573992</td>\n",
              "      <td>48.433076</td>\n",
              "      <td>46.832469</td>\n",
              "      <td>25.8</td>\n",
              "      <td>20.6</td>\n",
              "      <td>149.0</td>\n",
              "      <td>USA</td>\n",
              "      <td>American</td>\n",
              "    </tr>\n",
              "    <tr>\n",
              "      <th>44</th>\n",
              "      <td>2.339233</td>\n",
              "      <td>2.126285</td>\n",
              "      <td>3778.178962</td>\n",
              "      <td>18.378141</td>\n",
              "      <td>26.286682</td>\n",
              "      <td>23.577307</td>\n",
              "      <td>25.7</td>\n",
              "      <td>43.3</td>\n",
              "      <td>44.0</td>\n",
              "      <td>Mexico</td>\n",
              "      <td>Mexican</td>\n",
              "    </tr>\n",
              "    <tr>\n",
              "      <th>14</th>\n",
              "      <td>1.908918</td>\n",
              "      <td>1.870969</td>\n",
              "      <td>1082.428957</td>\n",
              "      <td>49.888656</td>\n",
              "      <td>35.972035</td>\n",
              "      <td>200.584604</td>\n",
              "      <td>32.9</td>\n",
              "      <td>46.0</td>\n",
              "      <td>14.0</td>\n",
              "      <td>Rwanda</td>\n",
              "      <td>Rwandan</td>\n",
              "    </tr>\n",
              "  </tbody>\n",
              "</table>\n",
              "</div>"
            ],
            "text/plain": [
              "     electricity (mega W)  water (10^3 m3)  ...  Country  Nationality\n",
              "24               0.805950         2.194227  ...      USA     American\n",
              "146              2.125383         1.380518  ...   Rwanda      Rwandan\n",
              "149              1.585600         0.923946  ...      USA     American\n",
              "44               2.339233         2.126285  ...   Mexico      Mexican\n",
              "14               1.908918         1.870969  ...   Rwanda      Rwandan\n",
              "\n",
              "[5 rows x 11 columns]"
            ]
          },
          "metadata": {
            "tags": []
          },
          "execution_count": 4
        }
      ]
    },
    {
      "cell_type": "markdown",
      "metadata": {
        "id": "QMihA969eLWH"
      },
      "source": [
        "**Exercise 1:** Are there any covariates we need to encode? If so, which ones?\n",
        "\n",
        "**Answer**: Yes. 'Country' and 'Nationality' need encoding. Because they contain text data, so no way you can use text data in predicting model that predict numerical values, we need technics of encoding like one-hot encoding to encode that covariates('Country' and 'Nationality')  "
      ]
    },
    {
      "cell_type": "code",
      "metadata": {
        "id": "I6JqYfH82miw",
        "colab": {
          "base_uri": "https://localhost:8080/",
          "height": 204
        },
        "outputId": "bcf7e950-85bd-48ea-91c5-8e569ab8d98c"
      },
      "source": [
        "# print the first rows of the outcomes (total sales)\n",
        "y_df.head()"
      ],
      "execution_count": null,
      "outputs": [
        {
          "output_type": "execute_result",
          "data": {
            "text/html": [
              "<div>\n",
              "<style scoped>\n",
              "    .dataframe tbody tr th:only-of-type {\n",
              "        vertical-align: middle;\n",
              "    }\n",
              "\n",
              "    .dataframe tbody tr th {\n",
              "        vertical-align: top;\n",
              "    }\n",
              "\n",
              "    .dataframe thead th {\n",
              "        text-align: right;\n",
              "    }\n",
              "</style>\n",
              "<table border=\"1\" class=\"dataframe\">\n",
              "  <thead>\n",
              "    <tr style=\"text-align: right;\">\n",
              "      <th></th>\n",
              "      <th>sales (10^3 units)</th>\n",
              "    </tr>\n",
              "  </thead>\n",
              "  <tbody>\n",
              "    <tr>\n",
              "      <th>24</th>\n",
              "      <td>9.7</td>\n",
              "    </tr>\n",
              "    <tr>\n",
              "      <th>146</th>\n",
              "      <td>13.2</td>\n",
              "    </tr>\n",
              "    <tr>\n",
              "      <th>149</th>\n",
              "      <td>10.1</td>\n",
              "    </tr>\n",
              "    <tr>\n",
              "      <th>44</th>\n",
              "      <td>8.5</td>\n",
              "    </tr>\n",
              "    <tr>\n",
              "      <th>14</th>\n",
              "      <td>19.0</td>\n",
              "    </tr>\n",
              "  </tbody>\n",
              "</table>\n",
              "</div>"
            ],
            "text/plain": [
              "     sales (10^3 units)\n",
              "24                  9.7\n",
              "146                13.2\n",
              "149                10.1\n",
              "44                  8.5\n",
              "14                 19.0"
            ]
          },
          "metadata": {
            "tags": []
          },
          "execution_count": 5
        }
      ]
    },
    {
      "cell_type": "code",
      "metadata": {
        "id": "F84CuONVco2Q",
        "colab": {
          "base_uri": "https://localhost:8080/"
        },
        "outputId": "3cf5be95-a906-44f7-cad0-510e389df4f2"
      },
      "source": [
        "# get a summary of how many rows in the dataset and how many missing values is in each column\n",
        "# the 'Non-Null Count' counts the number of values in each column that is not missing\n",
        "print(X_df.shape)\n",
        "print(X_df.info())"
      ],
      "execution_count": null,
      "outputs": [
        {
          "output_type": "stream",
          "text": [
            "(242, 11)\n",
            "<class 'pandas.core.frame.DataFrame'>\n",
            "Int64Index: 242 entries, 24 to 89\n",
            "Data columns (total 11 columns):\n",
            " #   Column                Non-Null Count  Dtype  \n",
            "---  ------                --------------  -----  \n",
            " 0   electricity (mega W)  240 non-null    float64\n",
            " 1   water (10^3 m3)       240 non-null    float64\n",
            " 2   bus_stops (cents)     239 non-null    float64\n",
            " 3   sport_events ($)      240 non-null    float64\n",
            " 4   social_media ($)      240 non-null    float64\n",
            " 5   TV ($)                240 non-null    float64\n",
            " 6   radio ($)             240 non-null    float64\n",
            " 7   newspaper ($)         240 non-null    float64\n",
            " 8   company id number     240 non-null    float64\n",
            " 9   Country               240 non-null    object \n",
            " 10  Nationality           240 non-null    object \n",
            "dtypes: float64(9), object(2)\n",
            "memory usage: 22.7+ KB\n",
            "None\n"
          ],
          "name": "stdout"
        }
      ]
    },
    {
      "cell_type": "markdown",
      "metadata": {
        "id": "bgu1etTidLtM"
      },
      "source": [
        "**Exercise 2:** How many companies are contained in this dataset? For each covariate or column in the dataset, how many values are missing?\n",
        "\n",
        "**Answer**:\n",
        " According to the computation below, the total number of companies is 200 and for each column, only 2 values are missing from my result.\n",
        " \n",
        "NB: when you run again result of null value could be change due to the randomness in dataset.\n"
      ]
    },
    {
      "cell_type": "code",
      "metadata": {
        "colab": {
          "base_uri": "https://localhost:8080/"
        },
        "id": "I6b4-78ELdgt",
        "outputId": "cc131b8c-b186-4e67-8d6c-ef2ca66bcc3c"
      },
      "source": [
        "unique_campa=X_df['company id number'].unique()\n",
        "company_number= X_df.agg({\"company id number\": \"nunique\"})\n",
        "print(company_number)\n",
        "print(X_df.isnull().sum())"
      ],
      "execution_count": null,
      "outputs": [
        {
          "output_type": "stream",
          "text": [
            "company id number    200\n",
            "dtype: int64\n",
            "electricity (mega W)    2\n",
            "water (10^3 m3)         2\n",
            "bus_stops (cents)       3\n",
            "sport_events ($)        2\n",
            "social_media ($)        2\n",
            "TV ($)                  2\n",
            "radio ($)               2\n",
            "newspaper ($)           2\n",
            "company id number       2\n",
            "Country                 2\n",
            "Nationality             2\n",
            "dtype: int64\n"
          ],
          "name": "stdout"
        }
      ]
    },
    {
      "cell_type": "code",
      "metadata": {
        "colab": {
          "base_uri": "https://localhost:8080/"
        },
        "id": "DhEe7A_Rwylr",
        "outputId": "43cc9648-9e22-496f-bffc-c7426f9a9bad"
      },
      "source": [
        "# Check number of companies\n",
        "n = pd.unique(X_df['company id number'])\n",
        "n\n"
      ],
      "execution_count": null,
      "outputs": [
        {
          "output_type": "execute_result",
          "data": {
            "text/plain": [
              "array([ 24., 146., 149.,  44.,  14.,  46.,  40.,   2.,  45.,  38., 192.,\n",
              "        96.,  10.,  17.,  72., 173., 140., 182., 133., 135.,  54.,  83.,\n",
              "       152.,   4., 161., 122.,   9., 166.,  52.,  61., 115., 162.,  59.,\n",
              "       174., 167.,  88., 194.,  41.,  92., 191.,  98., 106.,  36., 183.,\n",
              "         6.,  91.,  81.,  39., 180.,  86.,  99., 179., 185., 114., 134.,\n",
              "        68., 145., 128., 121.,  33.,  20., 153.,  82.,  16.,   3., 136.,\n",
              "        32., 156., 142., 172., 124., 113.,  27., 110., 177.,  18., 163.,\n",
              "        65., 186.,  31., 176.,  80., 125., 111., 131.,  97., 107., 103.,\n",
              "       109., 112.,  25., 129., 148.,   0., 159.,  79.,  84., 130.,  12.,\n",
              "        49., 144., 171., 104., 170.,  56.,  50., 108.,  78., 132., 126.,\n",
              "       101., 197.,  nan,  74., 147.,  76.,  29., 184.,  62.,  66.,  67.,\n",
              "       105., 123.,   1., 100.,  34., 165., 188., 189.,  60.,  15., 190.,\n",
              "        30.,  47., 196.,  90.,  19.,  22., 120.,   8., 187.,  35., 151.,\n",
              "        87., 143.,  77.,  58.,  26., 127.,  94., 139.,  42.,   7., 158.,\n",
              "        11., 168.,  64.,  69., 102., 116.,  43.,  71.,   5., 195.,  21.,\n",
              "       169., 198., 119.,  37.,  13., 150.,  85.,  51.,  73., 118.,  75.,\n",
              "        70., 193., 117.,  63., 155.,  55.,  28., 178., 157., 154.,  93.,\n",
              "       160., 175., 137., 138.,  57., 141., 199.,  95.,  48.,  53., 181.,\n",
              "       164.,  23.,  89.])"
            ]
          },
          "metadata": {
            "tags": []
          },
          "execution_count": 8
        }
      ]
    },
    {
      "cell_type": "code",
      "metadata": {
        "id": "d30Jt9C3dbr1",
        "colab": {
          "base_uri": "https://localhost:8080/",
          "height": 297
        },
        "outputId": "f448e618-0e35-48c9-d651-fdc815c38e87"
      },
      "source": [
        "# print a summary of the values for each covariate in the dataset\n",
        "X_df.describe()"
      ],
      "execution_count": null,
      "outputs": [
        {
          "output_type": "execute_result",
          "data": {
            "text/html": [
              "<div>\n",
              "<style scoped>\n",
              "    .dataframe tbody tr th:only-of-type {\n",
              "        vertical-align: middle;\n",
              "    }\n",
              "\n",
              "    .dataframe tbody tr th {\n",
              "        vertical-align: top;\n",
              "    }\n",
              "\n",
              "    .dataframe thead th {\n",
              "        text-align: right;\n",
              "    }\n",
              "</style>\n",
              "<table border=\"1\" class=\"dataframe\">\n",
              "  <thead>\n",
              "    <tr style=\"text-align: right;\">\n",
              "      <th></th>\n",
              "      <th>electricity (mega W)</th>\n",
              "      <th>water (10^3 m3)</th>\n",
              "      <th>bus_stops (cents)</th>\n",
              "      <th>sport_events ($)</th>\n",
              "      <th>social_media ($)</th>\n",
              "      <th>TV ($)</th>\n",
              "      <th>radio ($)</th>\n",
              "      <th>newspaper ($)</th>\n",
              "      <th>company id number</th>\n",
              "    </tr>\n",
              "  </thead>\n",
              "  <tbody>\n",
              "    <tr>\n",
              "      <th>count</th>\n",
              "      <td>240.000000</td>\n",
              "      <td>240.000000</td>\n",
              "      <td>239.000000</td>\n",
              "      <td>240.000000</td>\n",
              "      <td>240.000000</td>\n",
              "      <td>240.000000</td>\n",
              "      <td>240.000000</td>\n",
              "      <td>240.000000</td>\n",
              "      <td>240.000000</td>\n",
              "    </tr>\n",
              "    <tr>\n",
              "      <th>mean</th>\n",
              "      <td>4.429580</td>\n",
              "      <td>4.553451</td>\n",
              "      <td>2511.432707</td>\n",
              "      <td>25.221995</td>\n",
              "      <td>24.286494</td>\n",
              "      <td>145.075564</td>\n",
              "      <td>23.396250</td>\n",
              "      <td>31.257083</td>\n",
              "      <td>99.500000</td>\n",
              "    </tr>\n",
              "    <tr>\n",
              "      <th>std</th>\n",
              "      <td>9.043629</td>\n",
              "      <td>8.989447</td>\n",
              "      <td>1422.461675</td>\n",
              "      <td>15.172385</td>\n",
              "      <td>13.847237</td>\n",
              "      <td>86.852469</td>\n",
              "      <td>15.027418</td>\n",
              "      <td>21.612751</td>\n",
              "      <td>59.607994</td>\n",
              "    </tr>\n",
              "    <tr>\n",
              "      <th>min</th>\n",
              "      <td>0.041303</td>\n",
              "      <td>0.105909</td>\n",
              "      <td>68.892921</td>\n",
              "      <td>0.226549</td>\n",
              "      <td>0.010645</td>\n",
              "      <td>0.639647</td>\n",
              "      <td>0.000000</td>\n",
              "      <td>0.300000</td>\n",
              "      <td>0.000000</td>\n",
              "    </tr>\n",
              "    <tr>\n",
              "      <th>25%</th>\n",
              "      <td>0.829399</td>\n",
              "      <td>0.960950</td>\n",
              "      <td>1293.493718</td>\n",
              "      <td>12.777181</td>\n",
              "      <td>12.676538</td>\n",
              "      <td>67.671555</td>\n",
              "      <td>9.825000</td>\n",
              "      <td>13.625000</td>\n",
              "      <td>46.750000</td>\n",
              "    </tr>\n",
              "    <tr>\n",
              "      <th>50%</th>\n",
              "      <td>1.495832</td>\n",
              "      <td>1.536288</td>\n",
              "      <td>2432.286812</td>\n",
              "      <td>24.974554</td>\n",
              "      <td>24.060339</td>\n",
              "      <td>150.691237</td>\n",
              "      <td>22.900000</td>\n",
              "      <td>26.300000</td>\n",
              "      <td>102.500000</td>\n",
              "    </tr>\n",
              "    <tr>\n",
              "      <th>75%</th>\n",
              "      <td>2.376239</td>\n",
              "      <td>2.454275</td>\n",
              "      <td>3637.722595</td>\n",
              "      <td>38.174331</td>\n",
              "      <td>34.787002</td>\n",
              "      <td>219.285732</td>\n",
              "      <td>36.900000</td>\n",
              "      <td>45.100000</td>\n",
              "      <td>151.250000</td>\n",
              "    </tr>\n",
              "    <tr>\n",
              "      <th>max</th>\n",
              "      <td>32.852260</td>\n",
              "      <td>32.341130</td>\n",
              "      <td>4979.869199</td>\n",
              "      <td>49.888656</td>\n",
              "      <td>49.288811</td>\n",
              "      <td>297.678382</td>\n",
              "      <td>49.600000</td>\n",
              "      <td>114.000000</td>\n",
              "      <td>199.000000</td>\n",
              "    </tr>\n",
              "  </tbody>\n",
              "</table>\n",
              "</div>"
            ],
            "text/plain": [
              "       electricity (mega W)  water (10^3 m3)  ...  newspaper ($)  company id number\n",
              "count            240.000000       240.000000  ...     240.000000         240.000000\n",
              "mean               4.429580         4.553451  ...      31.257083          99.500000\n",
              "std                9.043629         8.989447  ...      21.612751          59.607994\n",
              "min                0.041303         0.105909  ...       0.300000           0.000000\n",
              "25%                0.829399         0.960950  ...      13.625000          46.750000\n",
              "50%                1.495832         1.536288  ...      26.300000         102.500000\n",
              "75%                2.376239         2.454275  ...      45.100000         151.250000\n",
              "max               32.852260        32.341130  ...     114.000000         199.000000\n",
              "\n",
              "[8 rows x 9 columns]"
            ]
          },
          "metadata": {
            "tags": []
          },
          "execution_count": 9
        }
      ]
    },
    {
      "cell_type": "markdown",
      "metadata": {
        "id": "sEDhV-gHdvl1"
      },
      "source": [
        "**Exercise 3:** Do we need to scale the covariates in this dataset? Why or why not?\n",
        "\n",
        "**Answer**: Yes we do. The features have different scales which affect proper training time and interpretation of the model. For example, the feature 'bus_stops' is recorded in cents while the other monetary features are in dollars. There are also features which haver other units like \"mega watts\" and \"m^3\". That would be a major setback in our model fitting, if the data is not rescaled because different scales distorts the truthfulness and reliability of model parameters. Also higher difference in magnitude number can also affect proper training. \n",
        "\n"
      ]
    },
    {
      "cell_type": "markdown",
      "metadata": {
        "id": "VhYDhUqacS7S"
      },
      "source": [
        "---\n",
        "## Pre-process the data\n",
        "\n",
        "We apply one-hot encoding to  categorical covariates, scale the values in the covariates, impute missingness and remove outliers.\n",
        "\n",
        "#### One-hot encode categorical variables"
      ]
    },
    {
      "cell_type": "code",
      "metadata": {
        "id": "Uc_sYqzScXKu",
        "colab": {
          "base_uri": "https://localhost:8080/",
          "height": 258
        },
        "outputId": "73237570-56ba-482c-a8e4-b8b2891feb62"
      },
      "source": [
        "# one hot encode the covariate 'Country'\n",
        "one_hot_country = pd.get_dummies(X_df['Country'], prefix='Country')\n",
        "\n",
        "# use pd.concat to join the new columns with your original dataframe\n",
        "X_df = pd.concat([X_df, one_hot_country], axis=1)\n",
        "\n",
        "# now drop the original 'country' column (you don't need it anymore)\n",
        "X_df.drop(['Country'], axis=1, inplace=True)\n",
        "\n",
        "# print the resultant dataframe\n",
        "X_df.head()"
      ],
      "execution_count": null,
      "outputs": [
        {
          "output_type": "execute_result",
          "data": {
            "text/html": [
              "<div>\n",
              "<style scoped>\n",
              "    .dataframe tbody tr th:only-of-type {\n",
              "        vertical-align: middle;\n",
              "    }\n",
              "\n",
              "    .dataframe tbody tr th {\n",
              "        vertical-align: top;\n",
              "    }\n",
              "\n",
              "    .dataframe thead th {\n",
              "        text-align: right;\n",
              "    }\n",
              "</style>\n",
              "<table border=\"1\" class=\"dataframe\">\n",
              "  <thead>\n",
              "    <tr style=\"text-align: right;\">\n",
              "      <th></th>\n",
              "      <th>electricity (mega W)</th>\n",
              "      <th>water (10^3 m3)</th>\n",
              "      <th>bus_stops (cents)</th>\n",
              "      <th>sport_events ($)</th>\n",
              "      <th>social_media ($)</th>\n",
              "      <th>TV ($)</th>\n",
              "      <th>radio ($)</th>\n",
              "      <th>newspaper ($)</th>\n",
              "      <th>company id number</th>\n",
              "      <th>Nationality</th>\n",
              "      <th>Country_Mexico</th>\n",
              "      <th>Country_Rwanda</th>\n",
              "      <th>Country_USA</th>\n",
              "    </tr>\n",
              "  </thead>\n",
              "  <tbody>\n",
              "    <tr>\n",
              "      <th>24</th>\n",
              "      <td>0.805950</td>\n",
              "      <td>2.194227</td>\n",
              "      <td>3364.974791</td>\n",
              "      <td>35.241950</td>\n",
              "      <td>12.327478</td>\n",
              "      <td>65.181941</td>\n",
              "      <td>12.6</td>\n",
              "      <td>18.3</td>\n",
              "      <td>24.0</td>\n",
              "      <td>American</td>\n",
              "      <td>0</td>\n",
              "      <td>0</td>\n",
              "      <td>1</td>\n",
              "    </tr>\n",
              "    <tr>\n",
              "      <th>146</th>\n",
              "      <td>2.125383</td>\n",
              "      <td>1.380518</td>\n",
              "      <td>1562.070768</td>\n",
              "      <td>2.150076</td>\n",
              "      <td>19.467803</td>\n",
              "      <td>240.236336</td>\n",
              "      <td>7.3</td>\n",
              "      <td>8.7</td>\n",
              "      <td>146.0</td>\n",
              "      <td>Rwandan</td>\n",
              "      <td>0</td>\n",
              "      <td>1</td>\n",
              "      <td>0</td>\n",
              "    </tr>\n",
              "    <tr>\n",
              "      <th>149</th>\n",
              "      <td>1.585600</td>\n",
              "      <td>0.923946</td>\n",
              "      <td>3483.231230</td>\n",
              "      <td>15.573992</td>\n",
              "      <td>48.433076</td>\n",
              "      <td>46.832469</td>\n",
              "      <td>25.8</td>\n",
              "      <td>20.6</td>\n",
              "      <td>149.0</td>\n",
              "      <td>American</td>\n",
              "      <td>0</td>\n",
              "      <td>0</td>\n",
              "      <td>1</td>\n",
              "    </tr>\n",
              "    <tr>\n",
              "      <th>44</th>\n",
              "      <td>2.339233</td>\n",
              "      <td>2.126285</td>\n",
              "      <td>3778.178962</td>\n",
              "      <td>18.378141</td>\n",
              "      <td>26.286682</td>\n",
              "      <td>23.577307</td>\n",
              "      <td>25.7</td>\n",
              "      <td>43.3</td>\n",
              "      <td>44.0</td>\n",
              "      <td>Mexican</td>\n",
              "      <td>1</td>\n",
              "      <td>0</td>\n",
              "      <td>0</td>\n",
              "    </tr>\n",
              "    <tr>\n",
              "      <th>14</th>\n",
              "      <td>1.908918</td>\n",
              "      <td>1.870969</td>\n",
              "      <td>1082.428957</td>\n",
              "      <td>49.888656</td>\n",
              "      <td>35.972035</td>\n",
              "      <td>200.584604</td>\n",
              "      <td>32.9</td>\n",
              "      <td>46.0</td>\n",
              "      <td>14.0</td>\n",
              "      <td>Rwandan</td>\n",
              "      <td>0</td>\n",
              "      <td>1</td>\n",
              "      <td>0</td>\n",
              "    </tr>\n",
              "  </tbody>\n",
              "</table>\n",
              "</div>"
            ],
            "text/plain": [
              "     electricity (mega W)  water (10^3 m3)  ...  Country_Rwanda  Country_USA\n",
              "24               0.805950         2.194227  ...               0            1\n",
              "146              2.125383         1.380518  ...               1            0\n",
              "149              1.585600         0.923946  ...               0            1\n",
              "44               2.339233         2.126285  ...               0            0\n",
              "14               1.908918         1.870969  ...               1            0\n",
              "\n",
              "[5 rows x 13 columns]"
            ]
          },
          "metadata": {
            "tags": []
          },
          "execution_count": 10
        }
      ]
    },
    {
      "cell_type": "markdown",
      "metadata": {
        "id": "QskxqkB0hP24"
      },
      "source": [
        "**Exercise 4:** Encode the remaining categorical variables."
      ]
    },
    {
      "cell_type": "code",
      "metadata": {
        "id": "kxd86ABWhfer",
        "colab": {
          "base_uri": "https://localhost:8080/",
          "height": 258
        },
        "outputId": "51829264-89f2-4a24-b55a-5d9bc46a3010"
      },
      "source": [
        "# Step 1: one hot encode the categorical covariate\n",
        "one_hot_nationality = pd.get_dummies(X_df['Nationality'], prefix='Nationality')\n",
        "# Step 2: use pd.concat to join the new columns with your original dataframe\n",
        "X_df = pd.concat([X_df, one_hot_nationality], axis=1)\n",
        "X_df.drop(['Nationality'], axis=1, inplace=True)\n",
        "\n",
        "# print the resultant dataframe\n",
        "X_df.head()"
      ],
      "execution_count": null,
      "outputs": [
        {
          "output_type": "execute_result",
          "data": {
            "text/html": [
              "<div>\n",
              "<style scoped>\n",
              "    .dataframe tbody tr th:only-of-type {\n",
              "        vertical-align: middle;\n",
              "    }\n",
              "\n",
              "    .dataframe tbody tr th {\n",
              "        vertical-align: top;\n",
              "    }\n",
              "\n",
              "    .dataframe thead th {\n",
              "        text-align: right;\n",
              "    }\n",
              "</style>\n",
              "<table border=\"1\" class=\"dataframe\">\n",
              "  <thead>\n",
              "    <tr style=\"text-align: right;\">\n",
              "      <th></th>\n",
              "      <th>electricity (mega W)</th>\n",
              "      <th>water (10^3 m3)</th>\n",
              "      <th>bus_stops (cents)</th>\n",
              "      <th>sport_events ($)</th>\n",
              "      <th>social_media ($)</th>\n",
              "      <th>TV ($)</th>\n",
              "      <th>radio ($)</th>\n",
              "      <th>newspaper ($)</th>\n",
              "      <th>company id number</th>\n",
              "      <th>Country_Mexico</th>\n",
              "      <th>Country_Rwanda</th>\n",
              "      <th>Country_USA</th>\n",
              "      <th>Nationality_American</th>\n",
              "      <th>Nationality_Mexican</th>\n",
              "      <th>Nationality_Rwandan</th>\n",
              "    </tr>\n",
              "  </thead>\n",
              "  <tbody>\n",
              "    <tr>\n",
              "      <th>24</th>\n",
              "      <td>0.805950</td>\n",
              "      <td>2.194227</td>\n",
              "      <td>3364.974791</td>\n",
              "      <td>35.241950</td>\n",
              "      <td>12.327478</td>\n",
              "      <td>65.181941</td>\n",
              "      <td>12.6</td>\n",
              "      <td>18.3</td>\n",
              "      <td>24.0</td>\n",
              "      <td>0</td>\n",
              "      <td>0</td>\n",
              "      <td>1</td>\n",
              "      <td>1</td>\n",
              "      <td>0</td>\n",
              "      <td>0</td>\n",
              "    </tr>\n",
              "    <tr>\n",
              "      <th>146</th>\n",
              "      <td>2.125383</td>\n",
              "      <td>1.380518</td>\n",
              "      <td>1562.070768</td>\n",
              "      <td>2.150076</td>\n",
              "      <td>19.467803</td>\n",
              "      <td>240.236336</td>\n",
              "      <td>7.3</td>\n",
              "      <td>8.7</td>\n",
              "      <td>146.0</td>\n",
              "      <td>0</td>\n",
              "      <td>1</td>\n",
              "      <td>0</td>\n",
              "      <td>0</td>\n",
              "      <td>0</td>\n",
              "      <td>1</td>\n",
              "    </tr>\n",
              "    <tr>\n",
              "      <th>149</th>\n",
              "      <td>1.585600</td>\n",
              "      <td>0.923946</td>\n",
              "      <td>3483.231230</td>\n",
              "      <td>15.573992</td>\n",
              "      <td>48.433076</td>\n",
              "      <td>46.832469</td>\n",
              "      <td>25.8</td>\n",
              "      <td>20.6</td>\n",
              "      <td>149.0</td>\n",
              "      <td>0</td>\n",
              "      <td>0</td>\n",
              "      <td>1</td>\n",
              "      <td>1</td>\n",
              "      <td>0</td>\n",
              "      <td>0</td>\n",
              "    </tr>\n",
              "    <tr>\n",
              "      <th>44</th>\n",
              "      <td>2.339233</td>\n",
              "      <td>2.126285</td>\n",
              "      <td>3778.178962</td>\n",
              "      <td>18.378141</td>\n",
              "      <td>26.286682</td>\n",
              "      <td>23.577307</td>\n",
              "      <td>25.7</td>\n",
              "      <td>43.3</td>\n",
              "      <td>44.0</td>\n",
              "      <td>1</td>\n",
              "      <td>0</td>\n",
              "      <td>0</td>\n",
              "      <td>0</td>\n",
              "      <td>1</td>\n",
              "      <td>0</td>\n",
              "    </tr>\n",
              "    <tr>\n",
              "      <th>14</th>\n",
              "      <td>1.908918</td>\n",
              "      <td>1.870969</td>\n",
              "      <td>1082.428957</td>\n",
              "      <td>49.888656</td>\n",
              "      <td>35.972035</td>\n",
              "      <td>200.584604</td>\n",
              "      <td>32.9</td>\n",
              "      <td>46.0</td>\n",
              "      <td>14.0</td>\n",
              "      <td>0</td>\n",
              "      <td>1</td>\n",
              "      <td>0</td>\n",
              "      <td>0</td>\n",
              "      <td>0</td>\n",
              "      <td>1</td>\n",
              "    </tr>\n",
              "  </tbody>\n",
              "</table>\n",
              "</div>"
            ],
            "text/plain": [
              "     electricity (mega W)  ...  Nationality_Rwandan\n",
              "24               0.805950  ...                    0\n",
              "146              2.125383  ...                    1\n",
              "149              1.585600  ...                    0\n",
              "44               2.339233  ...                    0\n",
              "14               1.908918  ...                    1\n",
              "\n",
              "[5 rows x 15 columns]"
            ]
          },
          "metadata": {
            "tags": []
          },
          "execution_count": 11
        }
      ]
    },
    {
      "cell_type": "markdown",
      "metadata": {
        "id": "GnIRFSHxj94o"
      },
      "source": [
        "**Exercise 5:** Inspect your DataFrame, are there any covariates that are irrelevant for prediction $y$? Drop unimportant covariates. \n",
        "\n",
        "***Hint:*** does the id number of the compny help predict total revenue?\n",
        "\n",
        "Are there any covariates that are redundant, i.e. they contain the exact information as other covariates? Drop redundant covariates.\n",
        "\n",
        "**Answer**: \n",
        "The dataFrame was inspected and the 'company id number' was found to be the only variable which is irrelevant for prediction of y. Apparently, it is only used to provide indenties for the companies which is already accomplished by the index, thus making it unimportant in our dataFrame and also we find that ‘Country and Nationality ‘ are redundant one need to be removed and we have decided to remove nationality variable.\n",
        " the columns was dropped using the code below.\n"
      ]
    },
    {
      "cell_type": "code",
      "metadata": {
        "id": "sZf4q4GTls1Q"
      },
      "source": [
        "# Step 1: Drop unimportant covariates\n",
        "# Hint: look up the documentation for pandas' .drop() function\n",
        "# COMPLETE\n",
        "X_df.drop(columns=['company id number'],inplace=True)\n",
        "\n",
        "# Step 2: Drop ALL redundant covariates\n",
        "# Hint: look up the documentation for pandas' .drop() function\n",
        "# COMPLETE\n",
        "X_df.drop(columns=['Nationality_American','Nationality_Mexican','Nationality_Rwandan'],inplace=True)"
      ],
      "execution_count": null,
      "outputs": []
    },
    {
      "cell_type": "markdown",
      "metadata": {
        "id": "MiAJcBoLhv1s"
      },
      "source": [
        "#### Impute missing values\n",
        "\n",
        "**Exercise 5:** Impute the missing values in each column using a k-Nearest Neighbor model.\n",
        "\n",
        "**Algorithm description**:The idea in kNN methods is to identify 'k' samples in the dataset that are similar or close in the space. Then we use these 'k' samples to estimate the value of the missing data points. Each sample's missing values are imputed using the mean value of the 'k'-neighbors found in the dataset.\n",
        "\n",
        "as you can see X_df.isnull().sum() return zeros for each variable means that all Missing value was filled by KNNimpute."
      ]
    },
    {
      "cell_type": "code",
      "metadata": {
        "id": "sGE7Hj7aiHqk",
        "colab": {
          "base_uri": "https://localhost:8080/"
        },
        "outputId": "ffd52ffe-3f06-442d-d4e7-8d7b548ae9fe"
      },
      "source": [
        "# Step 1: define an knn imputer using KNNImputer\n",
        "# Hint: look up the documentation for KNNImputer\n",
        "# COMPLETE\n",
        "imputer = KNNImputer(n_neighbors=10)\n",
        "\n",
        "# Step 2: impute the missing data\n",
        "X_df = pd.DataFrame(imputer.fit_transform(X_df), columns=X_df.columns, index=X_df.index)\n",
        "X_df.isnull().sum()"
      ],
      "execution_count": null,
      "outputs": [
        {
          "output_type": "execute_result",
          "data": {
            "text/plain": [
              "electricity (mega W)    0\n",
              "water (10^3 m3)         0\n",
              "bus_stops (cents)       0\n",
              "sport_events ($)        0\n",
              "social_media ($)        0\n",
              "TV ($)                  0\n",
              "radio ($)               0\n",
              "newspaper ($)           0\n",
              "Country_Mexico          0\n",
              "Country_Rwanda          0\n",
              "Country_USA             0\n",
              "dtype: int64"
            ]
          },
          "metadata": {
            "tags": []
          },
          "execution_count": 13
        }
      ]
    },
    {
      "cell_type": "markdown",
      "metadata": {
        "id": "SaWGh_7mjC-Z"
      },
      "source": [
        "#### Remove outliers\n",
        "\n",
        "**Exercise 6:** Remove the outlier values in each column of the dataset.\n",
        "\n",
        "**description**\n",
        "\n",
        "Outlier affect our model prediction so, we need same technics to remove all values deviate highly our data \n",
        "\n",
        " Codes for outlier removal were implemented and run as per the work below. Evidently, the highest proportion of the data points were not positioned centrally. Over 50% of the rows were removed since they were lower than 5th percentile and above 95th percentile. This technically means that the removed proportion of data was not centrally placed, hence considering them as outliers.\n"
      ]
    },
    {
      "cell_type": "code",
      "metadata": {
        "id": "4aOVIbZLjPj_",
        "colab": {
          "base_uri": "https://localhost:8080/",
          "height": 128
        },
        "outputId": "c89f91ec-6e07-4241-83f8-e6f25d362cf6"
      },
      "source": [
        "low = .05\n",
        "high = .95\n",
        "# Step 1: compute 5% percentile and the 95% percentile of each column in the dataset\n",
        "quantile_df = X_df.quantile([low, high])\n",
        "quantile_df"
      ],
      "execution_count": null,
      "outputs": [
        {
          "output_type": "execute_result",
          "data": {
            "text/html": [
              "<div>\n",
              "<style scoped>\n",
              "    .dataframe tbody tr th:only-of-type {\n",
              "        vertical-align: middle;\n",
              "    }\n",
              "\n",
              "    .dataframe tbody tr th {\n",
              "        vertical-align: top;\n",
              "    }\n",
              "\n",
              "    .dataframe thead th {\n",
              "        text-align: right;\n",
              "    }\n",
              "</style>\n",
              "<table border=\"1\" class=\"dataframe\">\n",
              "  <thead>\n",
              "    <tr style=\"text-align: right;\">\n",
              "      <th></th>\n",
              "      <th>electricity (mega W)</th>\n",
              "      <th>water (10^3 m3)</th>\n",
              "      <th>bus_stops (cents)</th>\n",
              "      <th>sport_events ($)</th>\n",
              "      <th>social_media ($)</th>\n",
              "      <th>TV ($)</th>\n",
              "      <th>radio ($)</th>\n",
              "      <th>newspaper ($)</th>\n",
              "      <th>Country_Mexico</th>\n",
              "      <th>Country_Rwanda</th>\n",
              "      <th>Country_USA</th>\n",
              "    </tr>\n",
              "  </thead>\n",
              "  <tbody>\n",
              "    <tr>\n",
              "      <th>0.05</th>\n",
              "      <td>0.175489</td>\n",
              "      <td>0.395286</td>\n",
              "      <td>393.365765</td>\n",
              "      <td>2.126516</td>\n",
              "      <td>3.816378</td>\n",
              "      <td>14.078267</td>\n",
              "      <td>2.10</td>\n",
              "      <td>4.05</td>\n",
              "      <td>0.0</td>\n",
              "      <td>0.0</td>\n",
              "      <td>0.0</td>\n",
              "    </tr>\n",
              "    <tr>\n",
              "      <th>0.95</th>\n",
              "      <td>31.195143</td>\n",
              "      <td>31.236773</td>\n",
              "      <td>4744.333038</td>\n",
              "      <td>48.484092</td>\n",
              "      <td>47.789942</td>\n",
              "      <td>278.114739</td>\n",
              "      <td>46.39</td>\n",
              "      <td>71.80</td>\n",
              "      <td>1.0</td>\n",
              "      <td>1.0</td>\n",
              "      <td>1.0</td>\n",
              "    </tr>\n",
              "  </tbody>\n",
              "</table>\n",
              "</div>"
            ],
            "text/plain": [
              "      electricity (mega W)  water (10^3 m3)  ...  Country_Rwanda  Country_USA\n",
              "0.05              0.175489         0.395286  ...             0.0          0.0\n",
              "0.95             31.195143        31.236773  ...             1.0          1.0\n",
              "\n",
              "[2 rows x 11 columns]"
            ]
          },
          "metadata": {
            "tags": []
          },
          "execution_count": 14
        }
      ]
    },
    {
      "cell_type": "code",
      "metadata": {
        "id": "fPmyUcp5zNRd",
        "colab": {
          "base_uri": "https://localhost:8080/"
        },
        "outputId": "b4d58bdc-d5c6-4b7f-ddb7-f783829c02d2"
      },
      "source": [
        "# Step 2: remove ouliers in 'water (10^3 m3)'\n",
        "\n",
        "# print the number of rows before outlier removal\n",
        "print('Number of rows before outlier removal: {}'.format(X_df.shape[0]))\n",
        "# select rows greater than the 5% and smaller than the 95% threshold\n",
        "X_df = X_df[(X_df['water (10^3 m3)'] > quantile_df.loc[0.05, 'water (10^3 m3)']) & (X_df['water (10^3 m3)'] < quantile_df.loc[0.95, 'water (10^3 m3)'])]\n",
        "# print the number of rows after outlier removal\n",
        "print('Number of rows after outlier removal: {}'.format(X_df.shape[0]))"
      ],
      "execution_count": null,
      "outputs": [
        {
          "output_type": "stream",
          "text": [
            "Number of rows before outlier removal: 242\n",
            "Number of rows after outlier removal: 216\n"
          ],
          "name": "stdout"
        }
      ]
    },
    {
      "cell_type": "code",
      "metadata": {
        "id": "W566kfl8ADCW"
      },
      "source": [
        "#X_df1 = X_df.apply(lambda x: x[(x>quantile_df.loc[low,x.name]) & \n",
        "                                    #(x < quantile_df.loc[high,x.name])], axis=0)\n",
        "#X_df1\n"
      ],
      "execution_count": null,
      "outputs": []
    },
    {
      "cell_type": "code",
      "metadata": {
        "id": "w5pf1CzU0Mw7",
        "colab": {
          "base_uri": "https://localhost:8080/",
          "height": 436
        },
        "outputId": "9f09ae54-f9b2-454c-b918-cd5e80b2639a"
      },
      "source": [
        "# Step 3: perform outlier removal for all columns\n",
        "# COMPLETE\n",
        "\n",
        "X_df = X_df[(X_df['electricity (mega W)'] > quantile_df.loc[0.05, 'electricity (mega W)']) & (X_df['electricity (mega W)'] < quantile_df.loc[0.95, 'electricity (mega W)'])]\n",
        "X_df = X_df[(X_df['bus_stops (cents)'] > quantile_df.loc[0.05, 'bus_stops (cents)']) & (X_df['bus_stops (cents)'] < quantile_df.loc[0.95, 'bus_stops (cents)'])]\n",
        "X_df = X_df[(X_df['sport_events ($)'] > quantile_df.loc[0.05, 'sport_events ($)']) & (X_df['sport_events ($)'] < quantile_df.loc[0.95, 'sport_events ($)'])]\n",
        "X_df = X_df[(X_df['social_media ($)'] > quantile_df.loc[0.05, 'social_media ($)']) & (X_df['social_media ($)'] < quantile_df.loc[0.95, 'social_media ($)'])]\n",
        "X_df = X_df[(X_df['TV ($)'] > quantile_df.loc[0.05, 'TV ($)']) & (X_df['TV ($)'] < quantile_df.loc[0.95, 'TV ($)'])]\n",
        "X_df = X_df[(X_df['radio ($)'] > quantile_df.loc[0.05, 'radio ($)']) & (X_df['radio ($)'] < quantile_df.loc[0.95, 'radio ($)'])]\n",
        "X_df = X_df[(X_df['newspaper ($)'] > quantile_df.loc[0.05, 'newspaper ($)']) & (X_df['newspaper ($)'] < quantile_df.loc[0.95, 'newspaper ($)'])]\n",
        "\n",
        "X_df = X_df[(X_df['radio ($)'] > quantile_df.loc[0.05, 'radio ($)']) & (X_df['radio ($)'] < quantile_df.loc[0.95, 'radio ($)'])]\n",
        "X_df\n"
      ],
      "execution_count": null,
      "outputs": [
        {
          "output_type": "execute_result",
          "data": {
            "text/html": [
              "<div>\n",
              "<style scoped>\n",
              "    .dataframe tbody tr th:only-of-type {\n",
              "        vertical-align: middle;\n",
              "    }\n",
              "\n",
              "    .dataframe tbody tr th {\n",
              "        vertical-align: top;\n",
              "    }\n",
              "\n",
              "    .dataframe thead th {\n",
              "        text-align: right;\n",
              "    }\n",
              "</style>\n",
              "<table border=\"1\" class=\"dataframe\">\n",
              "  <thead>\n",
              "    <tr style=\"text-align: right;\">\n",
              "      <th></th>\n",
              "      <th>electricity (mega W)</th>\n",
              "      <th>water (10^3 m3)</th>\n",
              "      <th>bus_stops (cents)</th>\n",
              "      <th>sport_events ($)</th>\n",
              "      <th>social_media ($)</th>\n",
              "      <th>TV ($)</th>\n",
              "      <th>radio ($)</th>\n",
              "      <th>newspaper ($)</th>\n",
              "      <th>Country_Mexico</th>\n",
              "      <th>Country_Rwanda</th>\n",
              "      <th>Country_USA</th>\n",
              "    </tr>\n",
              "  </thead>\n",
              "  <tbody>\n",
              "    <tr>\n",
              "      <th>24</th>\n",
              "      <td>0.805950</td>\n",
              "      <td>2.194227</td>\n",
              "      <td>3364.974791</td>\n",
              "      <td>35.241950</td>\n",
              "      <td>12.327478</td>\n",
              "      <td>65.181941</td>\n",
              "      <td>12.6</td>\n",
              "      <td>18.3</td>\n",
              "      <td>0.0</td>\n",
              "      <td>0.0</td>\n",
              "      <td>1.0</td>\n",
              "    </tr>\n",
              "    <tr>\n",
              "      <th>146</th>\n",
              "      <td>2.125383</td>\n",
              "      <td>1.380518</td>\n",
              "      <td>1562.070768</td>\n",
              "      <td>2.150076</td>\n",
              "      <td>19.467803</td>\n",
              "      <td>240.236336</td>\n",
              "      <td>7.3</td>\n",
              "      <td>8.7</td>\n",
              "      <td>0.0</td>\n",
              "      <td>1.0</td>\n",
              "      <td>0.0</td>\n",
              "    </tr>\n",
              "    <tr>\n",
              "      <th>44</th>\n",
              "      <td>2.339233</td>\n",
              "      <td>2.126285</td>\n",
              "      <td>3778.178962</td>\n",
              "      <td>18.378141</td>\n",
              "      <td>26.286682</td>\n",
              "      <td>23.577307</td>\n",
              "      <td>25.7</td>\n",
              "      <td>43.3</td>\n",
              "      <td>1.0</td>\n",
              "      <td>0.0</td>\n",
              "      <td>0.0</td>\n",
              "    </tr>\n",
              "    <tr>\n",
              "      <th>46</th>\n",
              "      <td>1.025859</td>\n",
              "      <td>1.291973</td>\n",
              "      <td>1558.575010</td>\n",
              "      <td>19.517553</td>\n",
              "      <td>16.135910</td>\n",
              "      <td>87.090026</td>\n",
              "      <td>9.9</td>\n",
              "      <td>35.7</td>\n",
              "      <td>0.0</td>\n",
              "      <td>0.0</td>\n",
              "      <td>1.0</td>\n",
              "    </tr>\n",
              "    <tr>\n",
              "      <th>45</th>\n",
              "      <td>0.524209</td>\n",
              "      <td>1.942389</td>\n",
              "      <td>1427.385412</td>\n",
              "      <td>5.017469</td>\n",
              "      <td>44.768665</td>\n",
              "      <td>172.447052</td>\n",
              "      <td>22.5</td>\n",
              "      <td>31.5</td>\n",
              "      <td>0.0</td>\n",
              "      <td>1.0</td>\n",
              "      <td>0.0</td>\n",
              "    </tr>\n",
              "    <tr>\n",
              "      <th>...</th>\n",
              "      <td>...</td>\n",
              "      <td>...</td>\n",
              "      <td>...</td>\n",
              "      <td>...</td>\n",
              "      <td>...</td>\n",
              "      <td>...</td>\n",
              "      <td>...</td>\n",
              "      <td>...</td>\n",
              "      <td>...</td>\n",
              "      <td>...</td>\n",
              "      <td>...</td>\n",
              "    </tr>\n",
              "    <tr>\n",
              "      <th>181</th>\n",
              "      <td>1.978035</td>\n",
              "      <td>1.936167</td>\n",
              "      <td>3239.150235</td>\n",
              "      <td>43.469991</td>\n",
              "      <td>41.806052</td>\n",
              "      <td>214.452528</td>\n",
              "      <td>5.4</td>\n",
              "      <td>27.4</td>\n",
              "      <td>0.0</td>\n",
              "      <td>1.0</td>\n",
              "      <td>0.0</td>\n",
              "    </tr>\n",
              "    <tr>\n",
              "      <th>47</th>\n",
              "      <td>0.433793</td>\n",
              "      <td>1.225361</td>\n",
              "      <td>1084.423209</td>\n",
              "      <td>30.003101</td>\n",
              "      <td>5.503025</td>\n",
              "      <td>236.712998</td>\n",
              "      <td>41.5</td>\n",
              "      <td>18.5</td>\n",
              "      <td>0.0</td>\n",
              "      <td>1.0</td>\n",
              "      <td>0.0</td>\n",
              "    </tr>\n",
              "    <tr>\n",
              "      <th>86</th>\n",
              "      <td>2.844898</td>\n",
              "      <td>0.474810</td>\n",
              "      <td>2665.764731</td>\n",
              "      <td>9.599912</td>\n",
              "      <td>38.629133</td>\n",
              "      <td>77.219716</td>\n",
              "      <td>27.5</td>\n",
              "      <td>16.0</td>\n",
              "      <td>0.0</td>\n",
              "      <td>0.0</td>\n",
              "      <td>1.0</td>\n",
              "    </tr>\n",
              "    <tr>\n",
              "      <th>164</th>\n",
              "      <td>1.510529</td>\n",
              "      <td>1.670866</td>\n",
              "      <td>1150.755604</td>\n",
              "      <td>25.251259</td>\n",
              "      <td>26.432076</td>\n",
              "      <td>118.180180</td>\n",
              "      <td>14.7</td>\n",
              "      <td>5.4</td>\n",
              "      <td>0.0</td>\n",
              "      <td>0.0</td>\n",
              "      <td>1.0</td>\n",
              "    </tr>\n",
              "    <tr>\n",
              "      <th>23</th>\n",
              "      <td>2.092107</td>\n",
              "      <td>2.053815</td>\n",
              "      <td>1107.453733</td>\n",
              "      <td>22.091215</td>\n",
              "      <td>22.344993</td>\n",
              "      <td>226.598600</td>\n",
              "      <td>16.9</td>\n",
              "      <td>26.2</td>\n",
              "      <td>0.0</td>\n",
              "      <td>1.0</td>\n",
              "      <td>0.0</td>\n",
              "    </tr>\n",
              "  </tbody>\n",
              "</table>\n",
              "<p>95 rows × 11 columns</p>\n",
              "</div>"
            ],
            "text/plain": [
              "     electricity (mega W)  water (10^3 m3)  ...  Country_Rwanda  Country_USA\n",
              "24               0.805950         2.194227  ...             0.0          1.0\n",
              "146              2.125383         1.380518  ...             1.0          0.0\n",
              "44               2.339233         2.126285  ...             0.0          0.0\n",
              "46               1.025859         1.291973  ...             0.0          1.0\n",
              "45               0.524209         1.942389  ...             1.0          0.0\n",
              "..                    ...              ...  ...             ...          ...\n",
              "181              1.978035         1.936167  ...             1.0          0.0\n",
              "47               0.433793         1.225361  ...             1.0          0.0\n",
              "86               2.844898         0.474810  ...             0.0          1.0\n",
              "164              1.510529         1.670866  ...             0.0          1.0\n",
              "23               2.092107         2.053815  ...             1.0          0.0\n",
              "\n",
              "[95 rows x 11 columns]"
            ]
          },
          "metadata": {
            "tags": []
          },
          "execution_count": 17
        }
      ]
    },
    {
      "cell_type": "markdown",
      "metadata": {
        "id": "TzHQ9Sx0jQFM"
      },
      "source": [
        "#### Scale the data\n",
        "\n",
        "**Exercise 7:** Scale the values of the covariates so that they all lie in the range of $[0, 1]$. "
      ]
    },
    {
      "cell_type": "code",
      "metadata": {
        "id": "af9PVt9sjhJQ",
        "colab": {
          "base_uri": "https://localhost:8080/",
          "height": 436
        },
        "outputId": "029ac305-0133-4fe2-c2d0-6391d5430715"
      },
      "source": [
        "# Step 1: define a MinMax scalar that will transform the data values into values in (0, 1)\n",
        "# Hint: Look up the documentation for MinMaxScaler\n",
        "# COMPLETE\n",
        "# scaler = ...\n",
        "scalar = MinMaxScaler()\n",
        "\n",
        "\n",
        "# Step 2: fit the MinMaxScaler using our data \n",
        "# Hint: use .fit()\n",
        "scalar.fit(X_df)\n",
        "# COMPLETE\n",
        "X_values = X_df.values\n",
        "# Step 3: scale the values in our dataset, X_values \n",
        "# Hint: use .transform()\n",
        "# COMPLETE\n",
        "X_values_scaled = scalar.transform(X_df)\n",
        "X_df = pd.DataFrame(X_values_scaled, columns=X_df.columns)\n",
        "X_df\n"
      ],
      "execution_count": null,
      "outputs": [
        {
          "output_type": "execute_result",
          "data": {
            "text/html": [
              "<div>\n",
              "<style scoped>\n",
              "    .dataframe tbody tr th:only-of-type {\n",
              "        vertical-align: middle;\n",
              "    }\n",
              "\n",
              "    .dataframe tbody tr th {\n",
              "        vertical-align: top;\n",
              "    }\n",
              "\n",
              "    .dataframe thead th {\n",
              "        text-align: right;\n",
              "    }\n",
              "</style>\n",
              "<table border=\"1\" class=\"dataframe\">\n",
              "  <thead>\n",
              "    <tr style=\"text-align: right;\">\n",
              "      <th></th>\n",
              "      <th>electricity (mega W)</th>\n",
              "      <th>water (10^3 m3)</th>\n",
              "      <th>bus_stops (cents)</th>\n",
              "      <th>sport_events ($)</th>\n",
              "      <th>social_media ($)</th>\n",
              "      <th>TV ($)</th>\n",
              "      <th>radio ($)</th>\n",
              "      <th>newspaper ($)</th>\n",
              "      <th>Country_Mexico</th>\n",
              "      <th>Country_Rwanda</th>\n",
              "      <th>Country_USA</th>\n",
              "    </tr>\n",
              "  </thead>\n",
              "  <tbody>\n",
              "    <tr>\n",
              "      <th>0</th>\n",
              "      <td>0.019685</td>\n",
              "      <td>0.056535</td>\n",
              "      <td>0.681135</td>\n",
              "      <td>0.719988</td>\n",
              "      <td>0.185836</td>\n",
              "      <td>0.200615</td>\n",
              "      <td>0.229358</td>\n",
              "      <td>0.206843</td>\n",
              "      <td>0.0</td>\n",
              "      <td>0.0</td>\n",
              "      <td>1.0</td>\n",
              "    </tr>\n",
              "    <tr>\n",
              "      <th>1</th>\n",
              "      <td>0.063342</td>\n",
              "      <td>0.030091</td>\n",
              "      <td>0.253363</td>\n",
              "      <td>0.000000</td>\n",
              "      <td>0.352371</td>\n",
              "      <td>0.904168</td>\n",
              "      <td>0.107798</td>\n",
              "      <td>0.057543</td>\n",
              "      <td>0.0</td>\n",
              "      <td>1.0</td>\n",
              "      <td>0.0</td>\n",
              "    </tr>\n",
              "    <tr>\n",
              "      <th>2</th>\n",
              "      <td>0.070418</td>\n",
              "      <td>0.054327</td>\n",
              "      <td>0.779176</td>\n",
              "      <td>0.353078</td>\n",
              "      <td>0.511409</td>\n",
              "      <td>0.033403</td>\n",
              "      <td>0.529817</td>\n",
              "      <td>0.595645</td>\n",
              "      <td>1.0</td>\n",
              "      <td>0.0</td>\n",
              "      <td>0.0</td>\n",
              "    </tr>\n",
              "    <tr>\n",
              "      <th>3</th>\n",
              "      <td>0.026962</td>\n",
              "      <td>0.027214</td>\n",
              "      <td>0.252534</td>\n",
              "      <td>0.377868</td>\n",
              "      <td>0.274661</td>\n",
              "      <td>0.288665</td>\n",
              "      <td>0.167431</td>\n",
              "      <td>0.477449</td>\n",
              "      <td>0.0</td>\n",
              "      <td>0.0</td>\n",
              "      <td>1.0</td>\n",
              "    </tr>\n",
              "    <tr>\n",
              "      <th>4</th>\n",
              "      <td>0.010363</td>\n",
              "      <td>0.048351</td>\n",
              "      <td>0.221407</td>\n",
              "      <td>0.062387</td>\n",
              "      <td>0.942468</td>\n",
              "      <td>0.631719</td>\n",
              "      <td>0.456422</td>\n",
              "      <td>0.412131</td>\n",
              "      <td>0.0</td>\n",
              "      <td>1.0</td>\n",
              "      <td>0.0</td>\n",
              "    </tr>\n",
              "    <tr>\n",
              "      <th>...</th>\n",
              "      <td>...</td>\n",
              "      <td>...</td>\n",
              "      <td>...</td>\n",
              "      <td>...</td>\n",
              "      <td>...</td>\n",
              "      <td>...</td>\n",
              "      <td>...</td>\n",
              "      <td>...</td>\n",
              "      <td>...</td>\n",
              "      <td>...</td>\n",
              "      <td>...</td>\n",
              "    </tr>\n",
              "    <tr>\n",
              "      <th>90</th>\n",
              "      <td>0.058467</td>\n",
              "      <td>0.048149</td>\n",
              "      <td>0.651281</td>\n",
              "      <td>0.899008</td>\n",
              "      <td>0.873371</td>\n",
              "      <td>0.800542</td>\n",
              "      <td>0.064220</td>\n",
              "      <td>0.348367</td>\n",
              "      <td>0.0</td>\n",
              "      <td>1.0</td>\n",
              "      <td>0.0</td>\n",
              "    </tr>\n",
              "    <tr>\n",
              "      <th>91</th>\n",
              "      <td>0.007372</td>\n",
              "      <td>0.025049</td>\n",
              "      <td>0.140033</td>\n",
              "      <td>0.606005</td>\n",
              "      <td>0.026668</td>\n",
              "      <td>0.890008</td>\n",
              "      <td>0.892202</td>\n",
              "      <td>0.209953</td>\n",
              "      <td>0.0</td>\n",
              "      <td>1.0</td>\n",
              "      <td>0.0</td>\n",
              "    </tr>\n",
              "    <tr>\n",
              "      <th>92</th>\n",
              "      <td>0.087149</td>\n",
              "      <td>0.000657</td>\n",
              "      <td>0.515235</td>\n",
              "      <td>0.162088</td>\n",
              "      <td>0.799275</td>\n",
              "      <td>0.248995</td>\n",
              "      <td>0.571101</td>\n",
              "      <td>0.171073</td>\n",
              "      <td>0.0</td>\n",
              "      <td>0.0</td>\n",
              "      <td>1.0</td>\n",
              "    </tr>\n",
              "    <tr>\n",
              "      <th>93</th>\n",
              "      <td>0.042998</td>\n",
              "      <td>0.039527</td>\n",
              "      <td>0.155771</td>\n",
              "      <td>0.502618</td>\n",
              "      <td>0.514800</td>\n",
              "      <td>0.413618</td>\n",
              "      <td>0.277523</td>\n",
              "      <td>0.006221</td>\n",
              "      <td>0.0</td>\n",
              "      <td>0.0</td>\n",
              "      <td>1.0</td>\n",
              "    </tr>\n",
              "    <tr>\n",
              "      <th>94</th>\n",
              "      <td>0.062241</td>\n",
              "      <td>0.051972</td>\n",
              "      <td>0.145497</td>\n",
              "      <td>0.433864</td>\n",
              "      <td>0.419476</td>\n",
              "      <td>0.849358</td>\n",
              "      <td>0.327982</td>\n",
              "      <td>0.329705</td>\n",
              "      <td>0.0</td>\n",
              "      <td>1.0</td>\n",
              "      <td>0.0</td>\n",
              "    </tr>\n",
              "  </tbody>\n",
              "</table>\n",
              "<p>95 rows × 11 columns</p>\n",
              "</div>"
            ],
            "text/plain": [
              "    electricity (mega W)  water (10^3 m3)  ...  Country_Rwanda  Country_USA\n",
              "0               0.019685         0.056535  ...             0.0          1.0\n",
              "1               0.063342         0.030091  ...             1.0          0.0\n",
              "2               0.070418         0.054327  ...             0.0          0.0\n",
              "3               0.026962         0.027214  ...             0.0          1.0\n",
              "4               0.010363         0.048351  ...             1.0          0.0\n",
              "..                   ...              ...  ...             ...          ...\n",
              "90              0.058467         0.048149  ...             1.0          0.0\n",
              "91              0.007372         0.025049  ...             1.0          0.0\n",
              "92              0.087149         0.000657  ...             0.0          1.0\n",
              "93              0.042998         0.039527  ...             0.0          1.0\n",
              "94              0.062241         0.051972  ...             1.0          0.0\n",
              "\n",
              "[95 rows x 11 columns]"
            ]
          },
          "metadata": {
            "tags": []
          },
          "execution_count": 18
        }
      ]
    },
    {
      "cell_type": "markdown",
      "metadata": {
        "id": "97BHGDShjh_M"
      },
      "source": [
        "---\n",
        "## Model the data\n",
        "\n",
        "Now that we have preprocessed the data, we are ready to build models to predict the label $y$ using the covariates $X$.\n"
      ]
    },
    {
      "cell_type": "markdown",
      "metadata": {
        "id": "3LL3h_K92mi1"
      },
      "source": [
        "#### Split the data into training and testing"
      ]
    },
    {
      "cell_type": "code",
      "metadata": {
        "id": "AYcu-Xpd2mi2"
      },
      "source": [
        "# transform the data into numpy arrays\n",
        "X = X_df.values\n",
        "y = y_df.values\n",
        "\n",
        "# store the names of the columns\n",
        "X_colnames = X_df.columns.values\n",
        "y_colnames = y_df.columns.values"
      ],
      "execution_count": null,
      "outputs": []
    },
    {
      "cell_type": "code",
      "metadata": {
        "id": "75_rY9DG2mi7"
      },
      "source": [
        "# split data into train and test\n",
        "X_train, X_test, y_train, y_test = split_data(X,y)\n",
        "# name the companies in the test set\n",
        "indices = ['company %d' % d for d in range(1,X_test.shape[0]+1)]\n",
        "X_test_df = pd.DataFrame(X_test, columns=X_colnames, index=indices)"
      ],
      "execution_count": null,
      "outputs": []
    },
    {
      "cell_type": "markdown",
      "metadata": {
        "id": "B7-KMe9I2mi_"
      },
      "source": [
        "#### Train a linear regression model\n",
        "\n",
        "**Exercise 8:** Train a linear regression model to predict the total sales $y$ from the marketing strategy data $X$. Evaluate the train and test MSE of you model. \n",
        "\n",
        "How is the fit of your model? Would you feel comfortable using this model to make real marketing decisions? Why or why not?\n",
        "\n",
        "**Answer**: The model was fit and the two MSEs were computed. Actually, I would not trust this model and be comfortable to implement in real market problems because the both MSES are two high and the difference between then is not small. This simply means that bias is so prevalent in both testing and training which lowers generalization. Models with high generalization errors are not supposed to be used to solve sensitive problems like monetary issues. As observer from result of Test and Training error  this model cannot used to predict sales "
      ]
    },
    {
      "cell_type": "code",
      "metadata": {
        "id": "6AkgYfm82mjA",
        "colab": {
          "base_uri": "https://localhost:8080/"
        },
        "outputId": "fb1a24e1-8e3c-45fd-d174-4eeed92872eb"
      },
      "source": [
        "# Step 1: create a sklearn linear regression model\n",
        "# COMPLETE\n",
        "linear_regressor = LinearRegression()\n",
        "\n",
        "# Step 2: fit the linear regression model on the data\n",
        "linear_regressor.fit(X_train,y_train)"
      ],
      "execution_count": null,
      "outputs": [
        {
          "output_type": "execute_result",
          "data": {
            "text/plain": [
              "LinearRegression(copy_X=True, fit_intercept=True, n_jobs=None, normalize=False)"
            ]
          },
          "metadata": {
            "tags": []
          },
          "execution_count": 21
        }
      ]
    },
    {
      "cell_type": "code",
      "metadata": {
        "id": "qqHiPoYu2mjE",
        "colab": {
          "base_uri": "https://localhost:8080/"
        },
        "outputId": "b6a6b3fe-2a87-4c2d-e266-d86ffd4bbbe3"
      },
      "source": [
        "# Step 3: compute MSE on train dataset\n",
        "# COMPLETE\n",
        "predict_train=linear_regressor.predict(X_train)\n",
        "mse_train = mean_squared_error(y_train,predict_train)\n",
        "\n",
        "# Step 4: compute MSE on test dataset\n",
        "# COMPLETE\n",
        "predict_test=linear_regressor.predict(X_test)\n",
        "mse_test = mean_squared_error(y_test,predict_test)\n",
        "\n",
        "print('MSE on train set: %.2f' % mse_train)\n",
        "print('MSE on test set: %.2f' % mse_test)"
      ],
      "execution_count": null,
      "outputs": [
        {
          "output_type": "stream",
          "text": [
            "MSE on train set: 24.09\n",
            "MSE on test set: 33.94\n"
          ],
          "name": "stdout"
        }
      ]
    },
    {
      "cell_type": "markdown",
      "metadata": {
        "id": "aKlYzXOroaR7"
      },
      "source": [
        "**Exercise 9:** There are three subgroups of companies in your dataset, \"USA\", \"Rwanda\" and \"Mexico\". Evaluate the test MSE on each subgroup of companies in your dataset. "
      ]
    },
    {
      "cell_type": "code",
      "metadata": {
        "id": "DidO4nkqouBL",
        "colab": {
          "base_uri": "https://localhost:8080/"
        },
        "outputId": "a6e81842-752a-401e-9757-c7a9722ba01e"
      },
      "source": [
        "X_train_df = pd.DataFrame(X_train, columns=X_colnames)\n",
        "# Step 1: select all companies from Rwanda\n",
        "country_is_rwanda = (X_test_df['Country_Rwanda'] == 1)\n",
        "country_is_rwanda_train = (X_train_df['Country_Rwanda'] == 1)\n",
        "country_is_USA = (X_train_df['Country_USA'] == 1)\n",
        "country_is_usa_test = (X_test_df['Country_USA'] == 1)\n",
        "country_is_Mexico = (X_train_df['Country_Mexico'] == 1)\n",
        "country_is_usa_Mexico = (X_test_df['Country_Mexico'] == 1)\n",
        "\n",
        "# Step 2: compute the test MSE for these companies\n",
        "score_test_train = mean_squared_error(y_train[country_is_rwanda_train], linear_regressor.predict(X_train_df[country_is_rwanda_train]))\n",
        "print('MSE on train set (Rwanda): %.2f' % score_test_train)\n",
        "score_test = mean_squared_error(y_test[country_is_rwanda], linear_regressor.predict(X_test_df[country_is_rwanda]))\n",
        "print('MSE on test set (Rwanda): %.2f' % score_test)\n",
        "print(\"   \")\n",
        "\n",
        "# Step 3: evaluate the train MSE for companies from the USA\n",
        "# COMPLETE\n",
        "score_test_train = mean_squared_error(y_train[country_is_USA], linear_regressor.predict(X_train_df[country_is_USA]))\n",
        "print('MSE on train set (USA): %.2f' % score_test_train)\n",
        "score_test_usa = mean_squared_error(y_test[country_is_usa_test], linear_regressor.predict(X_test_df[country_is_usa_test]))\n",
        "print('MSE on test set (usa): %.2f' % score_test_usa)\n",
        "print(\"   \")\n",
        "# Step 4: evaluate the train MSE for companies from Mexico\n",
        "# COMPLETE\n",
        "score_train_test = mean_squared_error(y_train[country_is_Mexico], linear_regressor.predict(X_train_df[country_is_Mexico]))\n",
        "print('MSE on train set (Mexico): %.2f' % score_train_test)\n",
        "score_test_mexico = mean_squared_error(y_test[country_is_usa_Mexico], linear_regressor.predict(X_test_df[country_is_usa_Mexico]))\n",
        "print('MSE on test set (mexico): %.2f' % score_test_mexico)"
      ],
      "execution_count": null,
      "outputs": [
        {
          "output_type": "stream",
          "text": [
            "MSE on train set (Rwanda): 28.27\n",
            "MSE on test set (Rwanda): 25.55\n",
            "   \n",
            "MSE on train set (USA): 21.78\n",
            "MSE on test set (usa): 46.63\n",
            "   \n",
            "MSE on train set (Mexico): 0.00\n",
            "MSE on test set (mexico): 30.65\n"
          ],
          "name": "stdout"
        }
      ]
    },
    {
      "cell_type": "markdown",
      "metadata": {
        "id": "Oo7Pd4ZypUxH"
      },
      "source": [
        "**Exercise 10:** For which group of companies does your model do the best? For which group of companies does your model do the worst? Explain why your model does well on some groups but not others.\n",
        "\n",
        "***Hint:*** Count the number of companies of each nationality.\n",
        "\n",
        "**Answer**: When we look at test and training score mse and also number of companies in Rwanda are higeher,  the model does its best on Rwandan companies and its worst on Mexican. This is because there is a huge class imblance among the groups, theoretically, we know that minority classes do not perform better in a model because the dominants ones overpower them. That is why the minority class from Mexico has not been to been able to perform in the model while the other two dominant classes did better."
      ]
    },
    {
      "cell_type": "code",
      "metadata": {
        "id": "WvLv0xE_p3Jg",
        "colab": {
          "base_uri": "https://localhost:8080/"
        },
        "outputId": "2ddc7fea-b81a-4515-a9e3-978cca6d1915"
      },
      "source": [
        "# count the number of data rows that has a 1 in the 'Country_Rwanda' column\n",
        "count_rwanda = X_df['Country_Rwanda'].sum()\n",
        "print('Number of entries from Rwanda', count_rwanda)\n",
        "count_us = X_df['Country_USA'].sum()\n",
        "print('Number of entries from us', count_us)\n",
        "count_Mexico = X_df['Country_Mexico'].sum()\n",
        "print('Number of entries from Mexico', count_Mexico)"
      ],
      "execution_count": null,
      "outputs": [
        {
          "output_type": "stream",
          "text": [
            "Number of entries from Rwanda 46.0\n",
            "Number of entries from us 39.0\n",
            "Number of entries from Mexico 8.0\n"
          ],
          "name": "stdout"
        }
      ]
    },
    {
      "cell_type": "markdown",
      "metadata": {
        "id": "V9KM5T6m2mjJ"
      },
      "source": [
        "---"
      ]
    },
    {
      "cell_type": "markdown",
      "metadata": {
        "id": "8brZ51aU2mjK"
      },
      "source": [
        "## Interpret the model\n",
        "\n",
        "Often, we are not just interested in obtaining a prediction from a model, we are also interested in why the model has made that prediction.\n",
        "\n",
        "For a linear regression model, $y = w_0 + w_1x_1 + w_2x_2 + \\ldots + w_Dx_D$, looking at the coefficients can help us determine which feature was an important factor in the prediction.\n",
        "\n",
        "The coefficients of `sklearn`'s linear regression model is stored in the model's `.coef_` parameter.\n",
        "\n",
        "**Exercise 11:** Based on your model coefficients, which feature do you think has the most effect on the total sales? Can you hypothesize why?\n",
        "\n",
        "**Answer**:\n",
        "\n",
        " \n",
        "The most effective is ' water (10^3 m3) and is affecting sales negatively sales’. Hypothetically, since most of the advertisement is supposed to be consuming too much water this can reduce sales. This mean that each company should look method of advertisement that is not consuming to much water   \n",
        " \n"
      ]
    },
    {
      "cell_type": "code",
      "metadata": {
        "id": "s0hpuiYd2mjL",
        "colab": {
          "base_uri": "https://localhost:8080/"
        },
        "outputId": "0fc9202a-7583-4850-bc01-8e2ffa187246"
      },
      "source": [
        "# Step 1: get the coefficients for the linear regression model\n",
        "weights = linear_regressor.coef_[0]\n",
        "\n",
        "# Step 2: print the coefficients in descending order (by absolute value)\n",
        "print_sorted_feat_importance(weights, X_colnames)"
      ],
      "execution_count": null,
      "outputs": [
        {
          "output_type": "stream",
          "text": [
            "water (10^3 m3)        : -21.6756\n",
            "electricity (mega W)   : 19.3404\n",
            "TV ($)                 : 5.6449\n",
            "social_media ($)       : 4.5249\n",
            "newspaper ($)          : -3.6027\n",
            "Country_Mexico         : -2.5934\n",
            "radio ($)              : 1.7520\n",
            "Country_Rwanda         : -0.5489\n",
            "Country_USA            : 0.5469\n",
            "sport_events ($)       : -0.2444\n",
            "bus_stops (cents)      : -0.0269\n"
          ],
          "name": "stdout"
        }
      ]
    },
    {
      "cell_type": "markdown",
      "metadata": {
        "id": "LBbw9fkP2mjP"
      },
      "source": [
        "#### Constructing Confident Intervals for Regression Coefficients\n",
        "\n",
        "Before we start making marketing recommendations based on the regression coefficients, let's determine if these coefficients are significant. That is, are the coefficients describing a rule that is particular only to our training data and cannot generalize to new data?\n",
        "\n",
        "To do this, we change the training data slightly (by bootstrapping) and see how much our regression coefficients change.\n",
        "\n",
        "**Exercise 12:** Based on the following box plot of the regression coefficient for models fitted on 5 bootstrapped training data sets, which feature do you think has the most effect on the total sales? Is this answer different from your answer in Exercise 1?\n",
        "\n",
        "**Answer**: \n",
        " According to the plots, feature 'social media' seems to be more effective than the others. The reason being the shortness of its box plot and the overlapping weights within the range of the plot. The shortness of the plot and the overlapping values of the coefficients over the bootstraps tells us how short it's confidence interval is, hats confidently being more effective than the others. And this is totally different to what I have seen in first exercise. But this one is the one that make sense in real life because as increase social media advertisement can also increase sales    \n"
      ]
    },
    {
      "cell_type": "code",
      "metadata": {
        "id": "F8tO17K82mjQ",
        "colab": {
          "base_uri": "https://localhost:8080/",
          "height": 441
        },
        "outputId": "37c0def3-c43f-4984-8cab-83fb20557fb7"
      },
      "source": [
        "# Step 1: Uncomment and run\n",
        "# ### we fit 5 regression models on 5 bootstrapped samples of our training data\n",
        "# # number of bootstrap samples to make\n",
        "n_bootstrap = 5\n",
        "# # a list to store the weights of each regression model\n",
        "bootstrap_weights = []\n",
        "for n in range(n_bootstrap):\n",
        "     # create new training data\n",
        "     X_train, _, y_train, _ = split_data(X, y, seed=n)\n",
        "     # train linear regressor model\n",
        "     linear_regressor.fit(X_train,y_train)\n",
        "     # save the regression weights\n",
        "     bootstrap_weights.append(linear_regressor.coef_[0])\n",
        "    \n",
        "bootstrap_weights = np.array(bootstrap_weights)\n",
        "\n",
        "# # make a box plot for the regression weights\n",
        "fig, ax = plt.subplots(1, 1, figsize=(10, 5))\n",
        "plot_confidence_intervals(bootstrap_weights, ax)\n",
        "plt.show()"
      ],
      "execution_count": null,
      "outputs": [
        {
          "output_type": "display_data",
          "data": {
            "image/png": "[encoded data removed]",
            "text/plain": [
              "<Figure size 720x360 with 1 Axes>"
            ]
          },
          "metadata": {
            "tags": [],
            "needs_background": "light"
          }
        }
      ]
    },
    {
      "cell_type": "markdown",
      "metadata": {
        "id": "8zO8D9He2mjU"
      },
      "source": [
        "#### Constructing the Predictive Interval of a Regression Model\n",
        "\n",
        "In test data, company 30 is **Coca-cola** and company 29 is **Inyange**.\n",
        "\n",
        "**Exercise 13:** Using your linear regression model predict which company will have a higher total sales based on their marketing strategy.\n",
        "\n",
        "Construct the predictive interval for each predicted total sales. \n",
        "\n",
        "How confident are you in your predictions? Support your answers using concepts from lecture.\n",
        "\n",
        "**Answer**:\n",
        "\n",
        "company will have a higher total sales based on their marketing strategy is Coca-cola The predictive intervals were constructed and visualised by the plot below. Technically, I would not be confident in none of the predictions. This is simply because, as wide as the intervals are, none of the predictions could make it to the 5th or 95th percentiles of both box plots. This means that there were high variations in the predictions over the 1000 bootstraps. All the varing predictions fell outside the wide prediction intervals, thus making them unreliable.\n"
      ]
    },
    {
      "cell_type": "code",
      "metadata": {
        "id": "sq9spiwe2mjV",
        "colab": {
          "base_uri": "https://localhost:8080/",
          "height": 306
        },
        "outputId": "a2266632-7dfb-468c-f764-be094fa6ace8"
      },
      "source": [
        "X_test_df.head()"
      ],
      "execution_count": null,
      "outputs": [
        {
          "output_type": "execute_result",
          "data": {
            "text/html": [
              "<div>\n",
              "<style scoped>\n",
              "    .dataframe tbody tr th:only-of-type {\n",
              "        vertical-align: middle;\n",
              "    }\n",
              "\n",
              "    .dataframe tbody tr th {\n",
              "        vertical-align: top;\n",
              "    }\n",
              "\n",
              "    .dataframe thead th {\n",
              "        text-align: right;\n",
              "    }\n",
              "</style>\n",
              "<table border=\"1\" class=\"dataframe\">\n",
              "  <thead>\n",
              "    <tr style=\"text-align: right;\">\n",
              "      <th></th>\n",
              "      <th>electricity (mega W)</th>\n",
              "      <th>water (10^3 m3)</th>\n",
              "      <th>bus_stops (cents)</th>\n",
              "      <th>sport_events ($)</th>\n",
              "      <th>social_media ($)</th>\n",
              "      <th>TV ($)</th>\n",
              "      <th>radio ($)</th>\n",
              "      <th>newspaper ($)</th>\n",
              "      <th>Country_Mexico</th>\n",
              "      <th>Country_Rwanda</th>\n",
              "      <th>Country_USA</th>\n",
              "    </tr>\n",
              "  </thead>\n",
              "  <tbody>\n",
              "    <tr>\n",
              "      <th>company 1</th>\n",
              "      <td>0.029686</td>\n",
              "      <td>0.090833</td>\n",
              "      <td>0.376055</td>\n",
              "      <td>0.203223</td>\n",
              "      <td>0.599638</td>\n",
              "      <td>0.429047</td>\n",
              "      <td>0.133028</td>\n",
              "      <td>0.679627</td>\n",
              "      <td>0.0</td>\n",
              "      <td>0.0</td>\n",
              "      <td>1.0</td>\n",
              "    </tr>\n",
              "    <tr>\n",
              "      <th>company 2</th>\n",
              "      <td>0.063342</td>\n",
              "      <td>0.030091</td>\n",
              "      <td>0.253363</td>\n",
              "      <td>0.000000</td>\n",
              "      <td>0.352371</td>\n",
              "      <td>0.904168</td>\n",
              "      <td>0.107798</td>\n",
              "      <td>0.057543</td>\n",
              "      <td>0.0</td>\n",
              "      <td>1.0</td>\n",
              "      <td>0.0</td>\n",
              "    </tr>\n",
              "    <tr>\n",
              "      <th>company 3</th>\n",
              "      <td>0.087149</td>\n",
              "      <td>0.000657</td>\n",
              "      <td>0.515235</td>\n",
              "      <td>0.162088</td>\n",
              "      <td>0.799275</td>\n",
              "      <td>0.248995</td>\n",
              "      <td>0.571101</td>\n",
              "      <td>0.171073</td>\n",
              "      <td>0.0</td>\n",
              "      <td>0.0</td>\n",
              "      <td>1.0</td>\n",
              "    </tr>\n",
              "    <tr>\n",
              "      <th>company 4</th>\n",
              "      <td>0.007853</td>\n",
              "      <td>0.024098</td>\n",
              "      <td>0.089217</td>\n",
              "      <td>0.566153</td>\n",
              "      <td>0.751705</td>\n",
              "      <td>0.351198</td>\n",
              "      <td>0.619266</td>\n",
              "      <td>0.052877</td>\n",
              "      <td>0.0</td>\n",
              "      <td>0.0</td>\n",
              "      <td>1.0</td>\n",
              "    </tr>\n",
              "    <tr>\n",
              "      <th>company 5</th>\n",
              "      <td>0.058467</td>\n",
              "      <td>0.048149</td>\n",
              "      <td>0.651281</td>\n",
              "      <td>0.899008</td>\n",
              "      <td>0.873371</td>\n",
              "      <td>0.800542</td>\n",
              "      <td>0.064220</td>\n",
              "      <td>0.348367</td>\n",
              "      <td>0.0</td>\n",
              "      <td>1.0</td>\n",
              "      <td>0.0</td>\n",
              "    </tr>\n",
              "  </tbody>\n",
              "</table>\n",
              "</div>"
            ],
            "text/plain": [
              "           electricity (mega W)  water (10^3 m3)  ...  Country_Rwanda  Country_USA\n",
              "company 1              0.029686         0.090833  ...             0.0          1.0\n",
              "company 2              0.063342         0.030091  ...             1.0          0.0\n",
              "company 3              0.087149         0.000657  ...             0.0          1.0\n",
              "company 4              0.007853         0.024098  ...             0.0          1.0\n",
              "company 5              0.058467         0.048149  ...             1.0          0.0\n",
              "\n",
              "[5 rows x 11 columns]"
            ]
          },
          "metadata": {
            "tags": []
          },
          "execution_count": 30
        }
      ]
    },
    {
      "cell_type": "code",
      "metadata": {
        "id": "jDIO50Hb2mjY",
        "colab": {
          "base_uri": "https://localhost:8080/"
        },
        "outputId": "4b50eefc-259b-4e7f-9940-78b28d948780"
      },
      "source": [
        "# Step 1: predict on the test data\n",
        "# COMPLETE\n",
        "y_predict = linear_regressor.predict(X_test_df)\n",
        "\n",
        "# Step 2: get the 29th and 30th predictions\n",
        "# COMPLETE\n",
        "y_pred_29 = y_predict[29] \n",
        "y_pred_30 = y_predict[30]\n",
        "\n",
        "# print the total sales of company 29 and company 30\n",
        "print('Predicted sales for Coca-cola: %.2f (thousand units)' % y_pred_29)\n",
        "print('Predicted sales for Inyange: %.2f (thousand units)' % y_pred_30)\n"
      ],
      "execution_count": null,
      "outputs": [
        {
          "output_type": "stream",
          "text": [
            "Predicted sales for Coca-cola: 19.06 (thousand units)\n",
            "Predicted sales for Inyange: 16.07 (thousand units)\n"
          ],
          "name": "stdout"
        }
      ]
    },
    {
      "cell_type": "markdown",
      "metadata": {
        "id": "nyPD4OIm2mje"
      },
      "source": [
        "Construct the predictive interval for each predicted total sales. Based on these intervals, how confident are you in your predictions?\n",
        "\n",
        "**Answer**:\n",
        "company will have a higher total sales based on their marketing strategy is Coca-cola The predictive intervals were constructed and visualised by the plot below. Technically, I would not be confident in none of the predictions. This is simply because, as wide as the intervals are, none of the predictions could make it to the 5th or 95th percentiles of both box plots. This means that there were high variations in the predictions over the 1000 bootstraps. All the varing predictions fell outside the wide prediction intervals, thus making them unreliable.\n"
      ]
    },
    {
      "cell_type": "code",
      "metadata": {
        "id": "kikVEi_q2mjf",
        "colab": {
          "base_uri": "https://localhost:8080/",
          "height": 388
        },
        "outputId": "07a80cb8-c8fa-4a8a-f43f-8e43b81885f2"
      },
      "source": [
        "# Step 1: Uncommnent and run\n",
        "# ### we fit 1000 regression models on 1000 bootstrapped samples of our training data\n",
        "n_bootstrap = 1000\n",
        "# # make a list to store the predicted sales\n",
        "bootstrap_y_pred = []\n",
        "for n in range(n_bootstrap):\n",
        "#     # make new data\n",
        "     X_train, _, y_train, _ = split_data(X, y, seed=n)\n",
        "    # train linear regression model\n",
        "     linear_regressor.fit(X_train,y_train)\n",
        "     # predict on company 30 and 31\n",
        "     y_predict = linear_regressor.predict(X_test[29:31])\n",
        "    # add the prediction to the list\n",
        "     bootstrap_y_pred.append(y_predict)\n",
        "# convert the list into an array\n",
        "bootstrap_y_pred = np.array(bootstrap_y_pred)\n",
        "\n",
        "fig, ax = plt.subplots(1, 1, figsize=(10, 5))\n",
        "plot_predictive_intervals(bootstrap_y_pred, ['Coca-cola', 'Inyange'], ax)\n",
        "plt.show()"
      ],
      "execution_count": null,
      "outputs": [
        {
          "output_type": "display_data",
          "data": {
            "image/png": "[encoded data removed]",
            "text/plain": [
              "<Figure size 720x360 with 1 Axes>"
            ]
          },
          "metadata": {
            "tags": [],
            "needs_background": "light"
          }
        }
      ]
    },
    {
      "cell_type": "code",
      "metadata": {
        "id": "ncnNE42ZSGc1"
      },
      "source": [
        ""
      ],
      "execution_count": null,
      "outputs": []
    }
  ]
}