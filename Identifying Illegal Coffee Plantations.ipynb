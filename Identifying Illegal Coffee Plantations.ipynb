{
  "nbformat": 4,
  "nbformat_minor": 0,
  "metadata": {
    "colab": {
      "name": "Copy of Longin_and_Valentine of Starter Notebook for HW 2.ipynb",
      "provenance": [],
      "collapsed_sections": []
    },
    "kernelspec": {
      "display_name": "Python 3",
      "name": "python3"
    }
  },
  "cells": [
    {
      "cell_type": "markdown",
      "metadata": {
        "id": "UC_A597OOWts"
      },
      "source": [
        "# Homework 2: Identifying Illegal Coffee Plantations\n",
        "\n",
        "### Machine Learning and Computational Statistics (DSC6232)\n",
        "\n",
        "#### Instructors: Weiwei Pan, Melanie Fernandez, Pavlos Protopapas\n",
        "\n",
        "#### Due: July 3rd, 11:59pm Kigali time.\n"
      ]
    },
    {
      "cell_type": "markdown",
      "metadata": {
        "id": "vsd7O5dzOerJ"
      },
      "source": [
        "***Team Members:*** \n",
        "DUSENGEYEZU LONGIN AND UYISABYE VALENTINE\n",
        "\n",
        "**IDs**: 220020609 AND 221000259"
      ]
    },
    {
      "cell_type": "code",
      "metadata": {
        "id": "kmjKgNV6PRK5"
      },
      "source": [
        "# Import necessary libraries\n",
        "import numpy as np\n",
        "import pandas as pd\n",
        "from PIL import Image\n",
        "from sklearn.utils import resample\n",
        "from keras.models import Sequential\n",
        "from keras.layers import Conv2D, MaxPooling2D\n",
        "from keras.layers import Activation, Dropout, Flatten, Dense\n",
        "from tensorflow.keras.optimizers import SGD\n",
        "from sklearn.metrics import confusion_matrix, roc_auc_score\n",
        "from sklearn.model_selection import train_test_split\n",
        "from sklearn.metrics import f1_score\n",
        "from keras.regularizers import l1_l2\n",
        "import matplotlib\n",
        "import matplotlib.pylab as plt\n",
        "from google.colab import files"
      ],
      "execution_count": null,
      "outputs": []
    },
    {
      "cell_type": "markdown",
      "metadata": {
        "id": "XpbVVzHnliRn"
      },
      "source": [
        ""
      ]
    },
    {
      "cell_type": "markdown",
      "metadata": {
        "id": "SUVfZT9EQ_bK"
      },
      "source": [
        "# Loading Competition Data\n",
        "Run all the steps below to obtain the data"
      ]
    },
    {
      "cell_type": "markdown",
      "metadata": {
        "id": "xYTWFuJAljhv"
      },
      "source": [
        "**1. Introduction**\n",
        "\n",
        "Illegal coffee plantations are often located deep in the forest, they are difficult to detect. Therefore, satellite images are now being used to detect these plantations. However, there are vast numbers of satellite images being collected and it is both expensive and inefficient to process these images using human experts.\n",
        "\n",
        "Our task is to build a machine learning model that can automatically detect the presence of a coffee plantation in a satellite image. we are provided with a small training set of labeled images (the label is 1 if there is a coffee plantation in the image, and the label is 0 if there is not). "
      ]
    },
    {
      "cell_type": "code",
      "metadata": {
        "colab": {
          "base_uri": "https://localhost:8080/"
        },
        "id": "uq8eCx66PU5r",
        "outputId": "38203b09-d2a8-4c7b-dae5-277686f76950"
      },
      "source": [
        "# Read training data images\n",
        "X = np.loadtxt('https://raw.githubusercontent.com/onefishy/Rwanda-course-2020/master/Competition_data/X_train.txt') # read in the data as a DataFrame\n",
        "X.shape # show the shape of the dataset"
      ],
      "execution_count": null,
      "outputs": [
        {
          "data": {
            "text/plain": [
              "(1440, 400)"
            ]
          },
          "execution_count": 120,
          "metadata": {},
          "output_type": "execute_result"
        }
      ]
    },
    {
      "cell_type": "code",
      "metadata": {
        "colab": {
          "base_uri": "https://localhost:8080/"
        },
        "id": "oRyyQhkx3SlZ",
        "outputId": "e9f59bba-6cfa-46c9-c7a1-e75ca52614b1"
      },
      "source": [
        "# Reshape the X's to have the correct dimensionality\n",
        "X = X.reshape(X.shape[0], 20, 20)\n",
        "print(X.shape)"
      ],
      "execution_count": null,
      "outputs": [
        {
          "name": "stdout",
          "output_type": "stream",
          "text": [
            "(1440, 20, 20)\n"
          ]
        }
      ]
    },
    {
      "cell_type": "code",
      "metadata": {
        "colab": {
          "base_uri": "https://localhost:8080/"
        },
        "id": "q8NJVOQSeNgG",
        "outputId": "b38f02c5-5174-483e-f616-5a9d54777b4b"
      },
      "source": [
        "# Read training data labels\n",
        "y = np.loadtxt('https://raw.githubusercontent.com/onefishy/Rwanda-course-2020/master/Competition_data/y_train.txt')\n",
        "y.shape # show the shape of the labels"
      ],
      "execution_count": null,
      "outputs": [
        {
          "data": {
            "text/plain": [
              "(1440,)"
            ]
          },
          "execution_count": 122,
          "metadata": {},
          "output_type": "execute_result"
        }
      ]
    },
    {
      "cell_type": "markdown",
      "metadata": {
        "id": "gynj9CTBey-c"
      },
      "source": [
        "# Now we are done with downloading data! \n",
        "* Try building a model inside this notebook by create additional cells below with code to specify and fit the model\n",
        "* If you are fitting large neural nets, make sure this google colab notebook is running on GPUs\n",
        "* Check Edit --> Notebook settings --> Hardware accelerator: GPU"
      ]
    },
    {
      "cell_type": "code",
      "metadata": {
        "id": "NhsbZ-6w3CeG"
      },
      "source": [
        "# Split into train/test\n",
        "X_train, X_test, y_train, y_test = train_test_split(X, y, test_size=0.25)"
      ],
      "execution_count": null,
      "outputs": []
    },
    {
      "cell_type": "code",
      "metadata": {
        "colab": {
          "base_uri": "https://localhost:8080/",
          "height": 336
        },
        "id": "FSus64Gr6A-U",
        "outputId": "b6be6a8e-b606-4d12-b2b4-90130dd64457"
      },
      "source": [
        "# Make a bar chart showing the proportions of 0 labels and 1 labels in the training set\n",
        "fig, ax = plt.subplots(1, 1, figsize=(5, 5))\n",
        "# Percentage of training data labeled 0\n",
        "percent_0 = len(y_train[y_train == 0]) * 1. / len(y_train)\n",
        "# Percentage of training data labeled 1\n",
        "percent_1 = len(y_train[y_train == 1]) * 1. / len(y_train)\n",
        "# Plot percentages in a bar plot\n",
        "ax.bar((0, 1), (percent_0, percent_1), color=['red', 'blue'], alpha=0.5, align='center')\n",
        "# Prettify the plot\n",
        "ax.set_xticks([0, 1])\n",
        "ax.set_title('Proportions of Labels in Training Data')\n",
        "plt.show()"
      ],
      "execution_count": null,
      "outputs": [
        {
          "data": {
            "image/png": "[encoded data removed]",
            "text/plain": [
              "<Figure size 360x360 with 1 Axes>"
            ]
          },
          "metadata": {},
          "output_type": "display_data"
        }
      ]
    },
    {
      "cell_type": "code",
      "metadata": {
        "colab": {
          "base_uri": "https://localhost:8080/"
        },
        "id": "IPA6N8r6espi",
        "outputId": "c86a1786-17a8-4732-e089-4dbca3e5ec8a"
      },
      "source": [
        "# Construct a Convolutional Neural Network\n",
        "\n",
        "# Step 1: Set the stride size\n",
        "stride_size = (2, 2)\n",
        "\n",
        "# Step 2: Set the pool size\n",
        "pool_size = (2, 2)\n",
        "\n",
        "# Step 3: define a sequential object\n",
        "cnn_model = Sequential()\n",
        "\n",
        "# Step 4: add a convolutional layer \n",
        "cnn_model.add(\n",
        "    Conv2D(10, kernel_size=2, padding='same', activation='relu',\n",
        "           input_shape=(X_train.shape[-2], X_train.shape[-1], 1),\n",
        "))\n",
        "# second convolutional layer \n",
        "cnn_model.add(\n",
        "    Conv2D(10, kernel_size=3, padding='same', activation='relu'))\n",
        "# third convolutional layer \n",
        "cnn_model.add(\n",
        "    Conv2D(10, kernel_size=3, padding='same', activation='relu',\n",
        "           input_shape=(X_train.shape[-2], X_train.shape[-1], 1),\n",
        "))\n",
        "# Fourth convolutional layer \n",
        "cnn_model.add(\n",
        "    Conv2D(10, kernel_size=3, padding='same', activation='relu',\n",
        "           input_shape=(X_train.shape[-2], X_train.shape[-1], 1),\n",
        "))\n",
        "# Fifth convolutional layer \n",
        "cnn_model.add(\n",
        "    Conv2D(10, kernel_size=3, padding='same', activation='relu',\n",
        "           input_shape=(X_train.shape[-2], X_train.shape[-1], 1),\n",
        "))\n",
        "# # sixth convolutional layer \n",
        "cnn_model.add(\n",
        "    Conv2D(10, kernel_size=3, padding='same', activation='relu',\n",
        "           input_shape=(X_train.shape[-2], X_train.shape[-1], 1),\n",
        "))\n",
        "\n",
        "#seventh convolutional layer \n",
        "# cnn_model.add(\n",
        "#     Conv2D(10, kernel_size=3, padding='same', activation='relu',\n",
        "#            input_shape=(X_train.shape[-2], X_train.shape[-1], 1),\n",
        "# ))\n",
        "# # # eight convolutional layer \n",
        "\n",
        "# cnn_model.add(\n",
        "#     Conv2D(10, kernel_size=3, padding='same', activation='relu',\n",
        "#            input_shape=(X_train.shape[-2], X_train.shape[-1], 1),\n",
        "# ))\n",
        "\n",
        "\n",
        "\n",
        "# Step 5: add a max pooling layer\n",
        "cnn_model.add(MaxPooling2D(pool_size=pool_size, strides=stride_size))\n",
        "\n",
        "# Step 6: flatten\n",
        "cnn_model.add(Flatten())\n",
        "\n",
        "# Step 7: add a dense layer\n",
        "\n",
        "cnn_model.add(Dense(60, activation='tanh', kernel_regularizer=l1_l2(0.001,0.001)))\n",
        "\n",
        "# Step 8: use sigmoid activation to output a probability\n",
        "cnn_model.add(Dense(1, activation='sigmoid'))\n",
        "\n",
        "# Step 8: select the learning rate\n",
        "lr = 0.007\n",
        "\n",
        "# Step 10: Compile model \n",
        "cnn_model.compile(optimizer=SGD(lr=lr),\n",
        "                  loss='binary_crossentropy',\n",
        "                  metrics=['accuracy'])"
      ],
      "execution_count": null,
      "outputs": [
        {
          "name": "stderr",
          "output_type": "stream",
          "text": [
            "/usr/local/lib/python3.7/dist-packages/keras/optimizer_v2/optimizer_v2.py:356: UserWarning: The `lr` argument is deprecated, use `learning_rate` instead.\n",
            "  \"The `lr` argument is deprecated, use `learning_rate` instead.\")\n"
          ]
        }
      ]
    },
    {
      "cell_type": "markdown",
      "metadata": {
        "id": "bOre1a_cmKPj"
      },
      "source": [
        "A convolutional neural network (CNN, or ConvNet) is a class of deep neural networks, most commonly applied to analyzing visual imagery and also it is a special type of Neural Network used effectively for image recognition and classification. For our task we are using this convolution neural network to detect the place where there is a coffee plantation and the place where there is no coffee plantation\n",
        "\n",
        "We are using 6 convolution layer,for each convolution layer we create 10 nodes, kernel size of 3. We used relu non-linearity as activation. We also enable padding equal to same . And also we use the learning rate which is equal to 0.0007\n",
        "\n",
        "we used one dense layer and 50 nodes, net elastic regularisation which combine l1 and l2 at the same time to reduce overvitting, we used sigmoid action as binary classifier."
      ]
    },
    {
      "cell_type": "markdown",
      "metadata": {
        "id": "Z9GIeIAZmUjo"
      },
      "source": [
        "**By fitting our model well we are removing class imbalance by using class weight to remove it then we are using 150 batch_size and 300 epochs.**"
      ]
    },
    {
      "cell_type": "code",
      "metadata": {
        "colab": {
          "background_save": true
        },
        "id": "XWmAUpDo21p4"
      },
      "source": [
        "# Fit the model\n",
        "history = cnn_model.fit(np.expand_dims(X_train, axis=-1), y_train, batch_size=150, class_weight={1:5,0:10}, epochs=300, verbose=0)"
      ],
      "execution_count": null,
      "outputs": []
    },
    {
      "cell_type": "markdown",
      "metadata": {
        "id": "3DdwiHQAxx5e"
      },
      "source": [
        "**By fitting our model well we are removing class imbalance by using class weight to remove it then we are using 150 batch_size and 300 epochs.**"
      ]
    },
    {
      "cell_type": "code",
      "metadata": {
        "colab": {
          "background_save": true
        },
        "id": "BH2uIYuS27GG",
        "outputId": "9e54e275-40f1-4bb6-c30b-955c201b9ff4"
      },
      "source": [
        "# Plot the loss function and the evaluation metric over the course of training\n",
        "fig, ax = plt.subplots(1, 1, figsize=(10, 5))\n",
        "ax.plot(np.array(history.history['accuracy']), color='blue', label='training accuracy')\n",
        "ax.plot(np.array(history.history['loss']), color='red', label='training loss')\n",
        "ax.set_title('optimizer={}, learning rate={}'.format('SGD', lr))\n",
        "ax.legend(loc='upper right')\n",
        "plt.show()"
      ],
      "execution_count": null,
      "outputs": [
        {
          "data": {
            "image/png": "[encoded data removed]",
            "text/plain": [
              "<Figure size 720x360 with 1 Axes>"
            ]
          },
          "metadata": {},
          "output_type": "display_data"
        }
      ]
    },
    {
      "cell_type": "markdown",
      "metadata": {
        "id": "6dPfcxqfqr9k"
      },
      "source": [
        "**By ploting loss function and  evaluating metric over the course of training, we can conclude that  our model is better as our training loss converges and training accuracy  is better**"
      ]
    },
    {
      "cell_type": "code",
      "metadata": {
        "colab": {
          "background_save": true
        },
        "id": "w7MBwenG3XYk",
        "outputId": "ea7abfbc-854b-44f2-a8c1-e2690417c1b8"
      },
      "source": [
        "# Step 1: make prediction on test data\n",
        "y_pred = cnn_model.predict(np.expand_dims(X_test, axis=-1))\n",
        "y_pred_tr = cnn_model.predict(np.expand_dims(X_train, axis=-1))\n",
        "# Step 2: threthold the output probabilities\n",
        "y_pred = (y_pred >= 0.5) * 1.0\n",
        "\n",
        "y_pred_tr = (y_pred_tr >= 0.5) * 1.0\n",
        "\n",
        "# Step 3: print the confusion matrix\n",
        "print('Confusion Matrix train:')\n",
        "print(confusion_matrix(y_train, y_pred_tr))\n",
        "\n",
        "print('Confusion Matrix test:')\n",
        "print(confusion_matrix(y_test, y_pred))"
      ],
      "execution_count": null,
      "outputs": [
        {
          "name": "stdout",
          "output_type": "stream",
          "text": [
            "Confusion Matrix train:\n",
            "[[718   0]\n",
            " [  0 362]]\n",
            "Confusion Matrix test:\n",
            "[[224  18]\n",
            " [ 64  54]]\n"
          ]
        }
      ]
    },
    {
      "cell_type": "markdown",
      "metadata": {
        "id": "2igIU4tPq5UW"
      },
      "source": [
        "**Confusion Matrix**\n",
        "\n",
        "A confusion matrix is a table that is often used to describe the performance of a classification model (or \"classifier\") on a set of test data for which the true values are known.\n",
        "\n",
        "**In our model this confusion matrix shows that the true negative rate is 94.8% ,false positive rate is 0.51%, false negative rate is 31.25% and true positive rate is 68.75%**\n",
        "\n",
        "**This means that our model predicts that 94.8 percent we have no coffee plantation and actually is reality. It also predicts that at 68.75 percent we have coffee plantation which is actually  reality.**"
      ]
    },
    {
      "cell_type": "markdown",
      "metadata": {
        "id": "6tRyx76epip-"
      },
      "source": [
        "### Evaluate your predictions using the macro-F1 score"
      ]
    },
    {
      "cell_type": "markdown",
      "metadata": {
        "id": "xqiXb0M_rSdM"
      },
      "source": [
        "**The F1 Score is a measure of a test's accuracy ,that conveys the balance between the precision and the recall.**"
      ]
    },
    {
      "cell_type": "code",
      "metadata": {
        "colab": {
          "background_save": true
        },
        "id": "aXV98E5SphCv",
        "outputId": "5735741e-df81-4880-c4e0-16e3fc1eba56"
      },
      "source": [
        "print(f1_score(y_test, y_pred, average='macro'))\n",
        "print(f1_score(y_train, y_pred_tr, average='macro'))"
      ],
      "execution_count": null,
      "outputs": [
        {
          "name": "stdout",
          "output_type": "stream",
          "text": [
            "0.7068520357497516\n",
            "1.0\n"
          ]
        }
      ]
    },
    {
      "cell_type": "markdown",
      "metadata": {
        "id": "PgML5_SFrW2D"
      },
      "source": [
        "**Conclusion**\n",
        "\n",
        "The convolution neural network is best classifier to classify image, in this task of classifying no coffee plantantion and coffee plantation in forest, It classifies perfectly well where there is coffee plantation and where there is no coffee plantation at 99.47 % at training set and at 83.31 % at test set. Even though we have little overfitting, it is still best classifier, we therefore recommend convolutional neural network to be used in Image classification."
      ]
    },
    {
      "cell_type": "markdown",
      "metadata": {
        "id": "tQsdoWjWe5J2"
      },
      "source": [
        "# Use your model to predict on the test data, create a submission file\n",
        "Your submission file should follow the Kaggle submission template.\n"
      ]
    },
    {
      "cell_type": "code",
      "metadata": {
        "colab": {
          "background_save": true
        },
        "id": "6Vo9o4WGe2S0",
        "outputId": "480d3310-9786-4327-f3ce-05e41ce4e5af"
      },
      "source": [
        "# Read training data images\n",
        "X_holdout = pd.read_csv('https://raw.githubusercontent.com/onefishy/Rwanda-course-2020/master/Competition_data/X_test_df.csv') # read in the data as a DataFrame\n",
        "X_holdout.shape # show the shape of the dataset"
      ],
      "execution_count": null,
      "outputs": [
        {
          "data": {
            "text/plain": [
              "(476, 401)"
            ]
          },
          "execution_count": null,
          "metadata": {},
          "output_type": "execute_result"
        }
      ]
    },
    {
      "cell_type": "code",
      "metadata": {
        "colab": {
          "background_save": true
        },
        "id": "T5Dgj1R-qtVq",
        "outputId": "98b704d8-479a-40b6-fd8e-74628788c60e"
      },
      "source": [
        "X_holdout = X_holdout.values[:, 1:]\n",
        "\n",
        "# Reshape the X's to have the correct dimensionality\n",
        "X_holdout = X_holdout.reshape(X_holdout.shape[0], 20, 20)\n",
        "print(X_holdout.shape)"
      ],
      "execution_count": null,
      "outputs": [
        {
          "name": "stdout",
          "output_type": "stream",
          "text": [
            "(476, 20, 20)\n"
          ]
        }
      ]
    },
    {
      "cell_type": "code",
      "metadata": {
        "colab": {
          "background_save": true
        },
        "id": "55--QNjjfP2j"
      },
      "source": [
        "# Save your predictions to a DataFrame\n",
        "my_predictions = cnn_model.predict(np.expand_dims(X_holdout, axis=-1))\n",
        "# Step 2: threthold the output probabilities\n",
        "my_predictions = (my_predictions >= 0.5) * 1.0\n",
        "\n",
        "\n",
        "my_submission = pd.DataFrame(np.arange(len(my_predictions)), columns=['index'])\n",
        "my_submission['label'] = my_predictions.astype(int)\n",
        "\n",
        "# Save submission file\n",
        "my_submission.to_csv('my_submission.csv', index=None)"
      ],
      "execution_count": null,
      "outputs": []
    },
    {
      "cell_type": "markdown",
      "metadata": {
        "id": "E1I-XP6DfY4d"
      },
      "source": [
        "# Save and download the submission file and upload to the Kaggle website\n",
        "\n",
        "Then download `my_submission.csv` by running the following line and submit to the [Kaggle](https://www.kaggle.com/t/b9bc778c9e8842d28c5526f578e6c348) compeition website."
      ]
    },
    {
      "cell_type": "code",
      "metadata": {
        "colab": {
          "background_save": true
        },
        "id": "RQTq9PeafTx3",
        "outputId": "6f599f49-5ba0-4d81-eb1e-8192ce199b26"
      },
      "source": [
        "files.download('my_submission.csv') "
      ],
      "execution_count": null,
      "outputs": [
        {
          "data": {
            "application/javascript": [
              "\n",
              "    async function download(id, filename, size) {\n",
              "      if (!google.colab.kernel.accessAllowed) {\n",
              "        return;\n",
              "      }\n",
              "      const div = document.createElement('div');\n",
              "      const label = document.createElement('label');\n",
              "      label.textContent = `Downloading \"${filename}\": `;\n",
              "      div.appendChild(label);\n",
              "      const progress = document.createElement('progress');\n",
              "      progress.max = size;\n",
              "      div.appendChild(progress);\n",
              "      document.body.appendChild(div);\n",
              "\n",
              "      const buffers = [];\n",
              "      let downloaded = 0;\n",
              "\n",
              "      const channel = await google.colab.kernel.comms.open(id);\n",
              "      // Send a message to notify the kernel that we're ready.\n",
              "      channel.send({})\n",
              "\n",
              "      for await (const message of channel.messages) {\n",
              "        // Send a message to notify the kernel that we're ready.\n",
              "        channel.send({})\n",
              "        if (message.buffers) {\n",
              "          for (const buffer of message.buffers) {\n",
              "            buffers.push(buffer);\n",
              "            downloaded += buffer.byteLength;\n",
              "            progress.value = downloaded;\n",
              "          }\n",
              "        }\n",
              "      }\n",
              "      const blob = new Blob(buffers, {type: 'application/binary'});\n",
              "      const a = document.createElement('a');\n",
              "      a.href = window.URL.createObjectURL(blob);\n",
              "      a.download = filename;\n",
              "      div.appendChild(a);\n",
              "      a.click();\n",
              "      div.remove();\n",
              "    }\n",
              "  "
            ],
            "text/plain": [
              "<IPython.core.display.Javascript object>"
            ]
          },
          "metadata": {},
          "output_type": "display_data"
        },
        {
          "data": {
            "application/javascript": [
              "download(\"download_918f4877-2438-460b-bfd7-90f92b2fccf7\", \"my_submission.csv\", 2758)"
            ],
            "text/plain": [
              "<IPython.core.display.Javascript object>"
            ]
          },
          "metadata": {},
          "output_type": "display_data"
        }
      ]
    },
    {
      "cell_type": "code",
      "metadata": {
        "colab": {
          "background_save": true
        },
        "id": "hE9SAcIr9AQR"
      },
      "source": [
        ""
      ],
      "execution_count": null,
      "outputs": []
    }
  ]
}