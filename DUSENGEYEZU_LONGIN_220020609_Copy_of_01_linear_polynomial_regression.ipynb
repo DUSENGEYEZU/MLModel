{
  "nbformat": 4,
  "nbformat_minor": 0,
  "metadata": {
    "kernelspec": {
      "display_name": "Python 3",
      "language": "python",
      "name": "python3"
    },
    "language_info": {
      "codemirror_mode": {
        "name": "ipython",
        "version": 3
      },
      "file_extension": ".py",
      "mimetype": "text/x-python",
      "name": "python",
      "nbconvert_exporter": "python",
      "pygments_lexer": "ipython3",
      "version": "3.6.8"
    },
    "colab": {
      "name": "DUSENGEYEZU_LONGIN_220020609_Copy of 01-linear-polynomial-regression.ipynb",
      "provenance": [],
      "collapsed_sections": [],
      "include_colab_link": true
    }
  },
  "cells": [
    {
      "cell_type": "markdown",
      "metadata": {
        "id": "view-in-github",
        "colab_type": "text"
      },
      "source": [
        "<a href=\"https://colab.research.google.com/github/DUSENGEYEZU/MLModel/blob/master/DUSENGEYEZU_LONGIN_220020609_Copy_of_01_linear_polynomial_regression.ipynb\" target=\"_parent\"><img src=\"https://colab.research.google.com/assets/colab-badge.svg\" alt=\"Open In Colab\"/></a>"
      ]
    },
    {
      "cell_type": "markdown",
      "metadata": {
        "id": "Mu3nKbKu07FD"
      },
      "source": [
        "# DAY 1: Regression\n",
        "\n",
        "\n",
        "### Machine Learning and Computational Statistics (DSC6232)\n",
        "\n",
        "#### Instructors: Weiwei Pan, Melanie Fernandez, Pavlos Protopapas\n",
        "\n",
        "#### Due: July 22th, 2:00 pm Kigali Time"
      ]
    },
    {
      "cell_type": "markdown",
      "metadata": {
        "id": "D5IW6vvob4Wd"
      },
      "source": [
        "**First name**: LONGIN\n",
        "\n",
        "\n",
        "**Last name**: DUSENEYEZU\n"
      ]
    },
    {
      "cell_type": "markdown",
      "metadata": {
        "id": "WPPQ80UZoPjm"
      },
      "source": [
        "## Learning Goals:\n",
        "\n",
        "1. become familiar with sklearn libraries\n",
        "2. understand, fit and predict using linear and polynomial regression\n",
        "3. identify overfitting/underfitting \n",
        "4. split your data in train and test splits"
      ]
    },
    {
      "cell_type": "code",
      "metadata": {
        "id": "vyabblMA07FF"
      },
      "source": [
        "# import the necessary python libraries\n",
        "import numpy as np\n",
        "import matplotlib.pyplot as plt  \n",
        "\n",
        "from sklearn.preprocessing import PolynomialFeatures\n",
        "from sklearn.model_selection import train_test_split\n",
        "from sklearn.linear_model import LinearRegression\n",
        "from sklearn.metrics import mean_squared_error"
      ],
      "execution_count": null,
      "outputs": []
    },
    {
      "cell_type": "markdown",
      "metadata": {
        "id": "YUBdYcQF07FJ"
      },
      "source": [
        "### We include some auxiliary functions here that we will need to use later (no need to read in details!)"
      ]
    },
    {
      "cell_type": "code",
      "metadata": {
        "id": "2idNCje907FK"
      },
      "source": [
        "''' Function to generate a toy dataset '''\n",
        "def generate_toy_data(n_points=20, noise_std=0.25):\n",
        "\n",
        "    x = np.linspace(-5, 5, n_points)\n",
        "\n",
        "    #define a function relating input to output\n",
        "    f = lambda x: 0.01 * x**3\n",
        "\n",
        "    #generate noisy training labels\n",
        "    y = f(x) + np.random.normal(0, noise_std, n_points)\n",
        "    \n",
        "    return x, y"
      ],
      "execution_count": null,
      "outputs": []
    },
    {
      "cell_type": "markdown",
      "metadata": {
        "id": "G0bswK4opWje"
      },
      "source": [
        "## 1. Linear Regression (using sklearn library)\n",
        "\n",
        "`sklearn` is a machine learning library for python. One nice property is that models share the same interface (every model has methods like `.fit`, `.predict` and `.predict_proba`).\n",
        "\n",
        "Let's fit a linear regressor to some data and get used to the `sklearn` library functions.\n"
      ]
    },
    {
      "cell_type": "code",
      "metadata": {
        "id": "cAoUHvgL3CKW",
        "colab": {
          "base_uri": "https://localhost:8080/"
        },
        "outputId": "4671ff20-517c-4ee3-afd1-262b9fc8ca73"
      },
      "source": [
        "# 0. generate a data set for doing regression\n",
        "x, y = generate_toy_data() \n",
        "\n",
        "# split our data set into training and testing using a the 'train_test_split' function from sklearn\n",
        "# see the documentation for 'train_test_split' here: \n",
        "# https://scikit-learn.org/stable/modules/generated/sklearn.model_selection.train_test_split.html\n",
        "x_train, x_test, y_train, y_test = train_test_split(x, y, test_size=0.33, random_state=42)\n",
        "type(x)"
      ],
      "execution_count": null,
      "outputs": [
        {
          "output_type": "execute_result",
          "data": {
            "text/plain": [
              "numpy.ndarray"
            ]
          },
          "metadata": {},
          "execution_count": 13
        }
      ]
    },
    {
      "cell_type": "code",
      "metadata": {
        "colab": {
          "base_uri": "https://localhost:8080/"
        },
        "id": "2m2wi848SbVC",
        "outputId": "6f17d71b-4c3c-49e7-f5e0-b6033a5f00c8"
      },
      "source": [
        "x_train\n",
        "#print(x_train)\n",
        "x_train.reshape(-1,1)\n",
        "print(y_train)"
      ],
      "execution_count": null,
      "outputs": [
        {
          "output_type": "stream",
          "name": "stdout",
          "text": [
            "[ 0.21594492  1.3917029   0.73536793  0.14096674 -0.30601646  0.16679016\n",
            "  1.6117914   0.10324354 -0.13721036  0.01892228 -0.05730442 -0.17360435\n",
            "  0.19311991]\n"
          ]
        }
      ]
    },
    {
      "cell_type": "code",
      "metadata": {
        "id": "9Wwwda6I07Fb",
        "colab": {
          "base_uri": "https://localhost:8080/",
          "height": 320
        },
        "outputId": "df137083-98c2-4049-f9eb-584414cc1bff"
      },
      "source": [
        "# 1. Instantiate an Linear Regression model object\n",
        "linear_regressor = LinearRegression()\n",
        "# 2. Fit model to the training data\n",
        "linear_regressor.fit(x_train.reshape(-1,1),y_train.reshape(-1,1))\n",
        "# 3. Make prediction on test input data \n",
        "y_pred = linear_regressor.predict(x_test.reshape(-1,1))\n",
        "# 4. Visualize results\n",
        "f, ax = plt.subplots(1, 1, figsize=(10, 5)) # make a figure with one row and one column of size 10x5\n",
        "ax.scatter(x_train, y_train) # scatter plot the training data\n",
        "ax.plot(x_test, y_pred, 'r')  # plot the learned linear regression function by plotting the predictions\n",
        "plt.show() # display the figure\n"
      ],
      "execution_count": null,
      "outputs": [
        {
          "output_type": "display_data",
          "data": {
            "image/png": "[encoded data removed]",
            "text/plain": [
              "<Figure size 720x360 with 1 Axes>"
            ]
          },
          "metadata": {
            "needs_background": "light"
          }
        }
      ]
    },
    {
      "cell_type": "markdown",
      "metadata": {
        "id": "CYJMeI8rfaIP"
      },
      "source": [
        "**Exercise 1:** Compute the Mean Square Error (MSE) of your model on the training dataset and on the testing dataset."
      ]
    },
    {
      "cell_type": "code",
      "metadata": {
        "id": "rhcusuTLgq1R",
        "colab": {
          "base_uri": "https://localhost:8080/"
        },
        "outputId": "5c01d998-994f-428e-b453-46b073d3df57"
      },
      "source": [
        "# Hint: you can use a pre-defined MSE function in the library documentation at: \n",
        "# https://scikit-learn.org/stable/modules/generated/sklearn.metrics.mean_squared_error.html\n",
        "#\n",
        "## COMPLETE\n",
        "y_pred_for_tarin=linear_regressor.predict(x_train.reshape(-1,1))\n",
        "training_mse=mean_squared_error(y_train.reshape(-1,1), y_pred_for_tarin)\n",
        "test_mse =mean_squared_error(y_test.reshape(-1,1), y_pred)\n",
        "#\n",
        "print('MSE on training data is: {}'.format(training_mse))\n",
        "print('MSE on test data is: {}'.format(test_mse))\n"
      ],
      "execution_count": null,
      "outputs": [
        {
          "output_type": "stream",
          "name": "stdout",
          "text": [
            "MSE on training data is: 0.1254507596458518\n",
            "MSE on test data is: 0.1191879739024498\n"
          ]
        }
      ]
    },
    {
      "cell_type": "markdown",
      "metadata": {
        "id": "CbTr2Zmmechj"
      },
      "source": [
        "**Exercise 2:** Is a linear regressor a good model for this data? Why or why not? Support your answer using concepts you learned from lecture, the visualizations of the data and the model, as well as the MSE.\n",
        "\n",
        "**Answer:** Actually it hard to say that model is on good on data while you have only one model, it is better to user when you add other model like polynomial regression and compare the result.\n",
        "But when we use concept we learned from the class, as you see MSE on training data is: 0.09617479806469659 and MSE on test data is: 0.049044229022728016 you can see all error are closer and small which justify that linear regression fit well our data. Also when we visualize the graph you can see it fit well our data even there is same noise.    \n",
        "\n",
        "\n"
      ]
    },
    {
      "cell_type": "markdown",
      "metadata": {
        "id": "e-dmEhQbDkDV"
      },
      "source": [
        ""
      ]
    },
    {
      "cell_type": "markdown",
      "metadata": {
        "id": "7ZZOX9iyeCHS"
      },
      "source": [
        "Next, let's implement a polynomial regression model for the same dataset."
      ]
    },
    {
      "cell_type": "markdown",
      "metadata": {
        "id": "a-k_Lo1Mqx4Z"
      },
      "source": [
        "## 2. Polynomial Regression (using sklearn library)\n",
        "\n",
        "In this Section, we will experiment with fitting polynomial regression model of various degrees. We will explore how the choice of polynomial degree relates to underfitting and overfitting.\n",
        "\n",
        "**Exercise 3:** Fit polynomial regression models with degrees equal to 2, 4, and 16. Visualize each model along with the training data. Compute the training and test MSE for each model. "
      ]
    },
    {
      "cell_type": "code",
      "metadata": {
        "id": "2KsrmILy07Ff",
        "colab": {
          "base_uri": "https://localhost:8080/",
          "height": 387
        },
        "outputId": "31e9e72c-a993-4546-a25c-5ede150b75cc"
      },
      "source": [
        "# Make a list of polynomial degrees we want to try\n",
        "poly_degree = np.array([2, 4, 16])\n",
        "\n",
        "# Visualize the three models in a figure with one row and 3 columns, with size 15x5\n",
        "fig, ax = plt.subplots(1, 3, figsize=(15, 5))\n",
        "\n",
        "# Iterate over the polynomial degrees and the subplots in the figure\n",
        "for i in range(3):\n",
        "  ax[i].scatter(x_train, y_train, color='blue', label='training data') # scatter plot the training data\n",
        "\n",
        "  # Step 1: \n",
        "  # Instantiate a sklearn PolynomialFeatures model of degree=poly_degree[i] \n",
        "  # and transform both the training and the testing data to add polynomial features to our datasets.\n",
        "  # (Hint: look for documentation on sklearn.preprocessing.PolynomialFeatures)\n",
        "  ## COMPLETE\n",
        "  degree=poly_degree[i]\n",
        "  poly_model= PolynomialFeatures(degree)\n",
        "  # Transform\n",
        "  x_train_poly= poly_model.fit_transform(x_train[:, np.newaxis])\n",
        "  x_test_poly= poly_model.fit_transform(x_test[:, np.newaxis])\n",
        "\n",
        "  # Step 2:\n",
        "  # Instantiate a LinearRegression model, fit the model, and make predictions on training and test data\n",
        "  # You should set fit_intercept=False for this LinearRegression model, since the intercept is already\n",
        "  # generated by PolynomialFeatures\n",
        "  ## COMPLETE\n",
        "  model= LinearRegression(fit_intercept=False)\n",
        "  model.fit(x_train_poly, y_train)\n",
        "  y_train_poly_pred=model.predict(x_train_poly)\n",
        "  y_test_poly_pred=model.predict(x_test_poly)\n",
        "\n",
        "  # Step 3:\n",
        "  # Plot the learned polynomial regression model by plotting the model prediction against the training input \n",
        "  # COMPLETE\n",
        "  x_plot= x_train.copy()\n",
        "  y_plot= y_train_poly_pred.copy()\n",
        "  idxs_sorted = np.argsort(x_plot)\n",
        "  ax[i].plot(x_plot[idxs_sorted], y_plot[idxs_sorted], color='y', label='Trained Polynomial Model', marker='X')\n",
        "\n",
        "  # Step 4:\n",
        "  # Compute and print the training and test MSE.\n",
        "  # COMPLETE\n",
        "  mse_train = mean_squared_error(y_train, y_train_poly_pred)\n",
        "  mse_test = mean_squared_error(y_test, y_test_poly_pred)\n",
        "  \n",
        "  print('For degree {}, training MSE is: {:.3f}, test MSE is: {:.3f}'.format(poly_degree[i], mse_train, mse_test))\n",
        "\n",
        "  ax[i].set_title('Degree = {}'.format(poly_degree[i])) # set the title of the ith subplot\n",
        "  ax[i].legend(loc='best') # display the legend for the plot\n",
        "\n",
        "plt.show() # display the figure"
      ],
      "execution_count": null,
      "outputs": [
        {
          "output_type": "stream",
          "name": "stdout",
          "text": [
            "For degree 2, training MSE is: 0.099, test MSE is: 0.271\n",
            "For degree 4, training MSE is: 0.082, test MSE is: 0.137\n",
            "For degree 16, training MSE is: 0.000, test MSE is: 16683984902.433\n"
          ]
        },
        {
          "output_type": "display_data",
          "data": {
            "image/png": "[encoded data removed]",
            "text/plain": [
              "<Figure size 1080x360 with 3 Axes>"
            ]
          },
          "metadata": {
            "needs_background": "light"
          }
        }
      ]
    },
    {
      "cell_type": "markdown",
      "metadata": {
        "id": "8FAC6BQa07Fk"
      },
      "source": [
        "**Exercise 4:** Visually, which function is the most appropriate for the data? Why? Support your answer using concepts you learned in lecture.\n",
        "\n",
        "**Answer:** Visually you can exclude automatically model with degree of freedom 0f 16 because it cover all data even outliers. Even we can see it is overfitting data when we look at its errors where training MSE is: 0.000, test MSE is: 1898591047.58. Test MSE is very higher.\n",
        "Now let us choose between model with degree 2 and 4. I can choose model with with 4 as degree of freedom  because visually it has best line that fit our data as compared to the one with 2 as degree of freedom.\n",
        "Also when we look at errors both for training error and testing error it has smallest errors.\n",
        "NB: I can choose model with degree of freedom 4.  \n",
        "  \n",
        "\n"
      ]
    },
    {
      "cell_type": "markdown",
      "metadata": {
        "id": "E8Kth8OoOQTT"
      },
      "source": [
        "## 3. Can MSE be used to detect overfitting? If yes, how?\n",
        "\n",
        "**Answer:** \n",
        "I can say  **“yes”** although MSE error it can not only reliable way of detecting overfitting but it can be used.\n",
        "If testing MSE is very high compared to Training error you can suspect overfitting in your model but is not only way you can you use in order to draw conclusion because  highest error can be caused by too much noise in data .\n"
      ]
    },
    {
      "cell_type": "markdown",
      "metadata": {
        "id": "YvJpXTJVMWmG"
      },
      "source": [
        "**Exercise 5:** In the previous example, how does the MSE in the train and test set vary as we increase the degree of the polynomial? Based on these values, how can we choose the best polynomial degree for the data?\n",
        "\n",
        "**Answer:**As we increase degree of freedom training MSE reduced and testing MSE increases, as it reach at point where MSE for test data set increasingly very high this means model reach to the point where overfitting our dataset.\n",
        "Now you have to choose degree of freedom that is appropriate which cannot Couse our model to be under fitted or over fitted  \n"
      ]
    },
    {
      "cell_type": "markdown",
      "metadata": {
        "id": "aO9vDtIDOJJo"
      },
      "source": [
        "---\n",
        "# The following section is for Extra Credit, it is optional.\n",
        "\n",
        "## 4. Can MSE be used to detect underfitting? If yes, how?\n",
        "\n",
        "**Answer:** \n",
        "I can say “yes” although MSE error it can not only reliable way of detecting under fitting but it can be used.\n",
        "If Training and testing MSE is very high and closer to each other you can suspect underfitting in your model but is not only way you can you use in order to draw conclusion because highest error can be caused by too much noise in data .\n",
        "\n"
      ]
    },
    {
      "cell_type": "markdown",
      "metadata": {
        "id": "9uSFBnEKU7Gs"
      },
      "source": [
        "In the following, let us generate noisy data from $f(x) = x^3$.\n",
        "\n",
        "We generate two datasets:\n",
        "* Dataset 1 has low noise.\n",
        "* Dataset 2 has high noise."
      ]
    },
    {
      "cell_type": "code",
      "metadata": {
        "id": "uD28BbufL0k-",
        "colab": {
          "base_uri": "https://localhost:8080/",
          "height": 336
        },
        "outputId": "c8f2a16b-812c-4a8f-ce1f-ca59de23fab7"
      },
      "source": [
        "np.random.seed(10)\n",
        "# DATASET 1\n",
        "x1, y1 = generate_toy_data(n_points=50, noise_std=0.1) # generate low noise data\n",
        "x_train1, x_test1, y_train1, y_test1 = train_test_split(x1, y1, test_size=0.33, random_state=42) #split data into training and test\n",
        "\n",
        "# DATASET 2\n",
        "x2, y2 = generate_toy_data(n_points=50, noise_std=0.4) # generate high noise data\n",
        "x_train2, x_test2, y_train2, y_test2 = train_test_split(x2, y2, test_size=0.33, random_state=42) #split data into training and test\n",
        "\n",
        "# Visualize the two datasets in a figure with one row and 2 columns, with size 10x5\n",
        "fig, ax = plt.subplots(1, 2, figsize=(10, 5))\n",
        "\n",
        "ax[0].scatter(x_train1, y_train1, color='blue') # plot dataset 1\n",
        "ax[1].scatter(x_train2, y_train2, color='blue') # plot dataset 2\n",
        "\n",
        "ax[0].set_title('Dataset 1: low noise') # set the title for subplot 1\n",
        "ax[1].set_title('Dataset 2: high noise') # set the title for subplot 2\n",
        "\n",
        "plt.show() # display the figure"
      ],
      "execution_count": null,
      "outputs": [
        {
          "output_type": "display_data",
          "data": {
            "image/png": "[encoded data removed]",
            "text/plain": [
              "<Figure size 720x360 with 2 Axes>"
            ]
          },
          "metadata": {
            "needs_background": "light"
          }
        }
      ]
    },
    {
      "cell_type": "markdown",
      "metadata": {
        "id": "ttoUqO23DTm7"
      },
      "source": [
        "**Exercise 6 (Extra Credit):** Fit a linear regression model to the low noise dataset and a polynomial of degree 3 to the high noise dataset.  Compute training and test MSE for each model."
      ]
    },
    {
      "cell_type": "code",
      "metadata": {
        "id": "ehBnmwSeWJAt",
        "colab": {
          "base_uri": "https://localhost:8080/",
          "height": 370
        },
        "outputId": "383afa8f-1c73-4fa4-fc0e-8b74cd6ca967"
      },
      "source": [
        "# Visualize the two models in a figure with one row and 2 columns, with size 10x5\n",
        "fig, ax = plt.subplots(1, 2,figsize=(10, 5))\n",
        "\n",
        "# Step 1:\n",
        "# Instantiate a LinearRegression model, fit the model, and make predictions on training and test data\n",
        "## COMPLETE\n",
        "linear_regressor = LinearRegression()\n",
        "linear_regressor.fit(x_train1.reshape(-1,1),y_train1.reshape(-1,1))\n",
        "# 3. Make prediction on test input data \n",
        "y_pred1=linear_regressor.predict(x_test1.reshape(-1,1))\n",
        "y_pred_train1=linear_regressor.predict(x_train1.reshape(-1,1))\n",
        "# Step 2:\n",
        "# Plot the learned Linear regression model by plotting the model prediction against the training input \n",
        "# COMPLETE\n",
        "#\n",
        "ax[0].plot(x_train1, y_pred_train1, 'r')  # plot the learned linear regression function by plotting the predictions\n",
        "#\n",
        "# Step 3:\n",
        "# Compute and print the training and test MSE.\n",
        "# COMPLETE\n",
        "#\n",
        "\n",
        "training_mse1=mean_squared_error(y_train1.reshape(-1,1), y_pred_train1)\n",
        "test_mse1 =mean_squared_error(y_test1.reshape(-1,1), y_pred1)\n",
        "\n",
        "#\n",
        "print('For low noise dataset, training MSE is: {:.3f}, test MSE is: {:.3f}'.format(training_mse1, test_mse1))\n",
        "\n",
        "ax[0].scatter(x_train1, y_train1, color='blue') # plot dataset 1\n",
        "ax[0].set_title('Low Noise Dataset')\n",
        "\n",
        "# Step 1: \n",
        "# Instantiate a sklearn PolynomialFeatures model of degree=3 \n",
        "# and transform both the training and the testing data to add polynomial features to our datasets.\n",
        "# (Hint: look for documentation on sklearn.preprocessing.PolynomialFeatures)\n",
        "## COMPLETE\n",
        "\n",
        "poly_model= PolynomialFeatures(3)\n",
        "# Transform\n",
        "x_train_poly2= poly_model.fit_transform(x_train2[:, np.newaxis])\n",
        "x_test_poly2= poly_model.fit_transform(x_test2[:, np.newaxis])\n",
        "\n",
        "\n",
        "\n",
        "# Step 2:\n",
        "# Instantiate a LinearRegression model, fit the model, and make predictions on training and test data\n",
        "## COMPLETE\n",
        "\n",
        "model2= LinearRegression(fit_intercept=False)\n",
        "model2.fit(x_train_poly2, y_train2)\n",
        "y_train_poly_pred2=model2.predict(x_train_poly2)\n",
        "y_test_poly_pred2=model2.predict(x_test_poly2)\n",
        "\n",
        "# Step 3:\n",
        "# Plot the learned polynomial regression model by plotting the model prediction against the training input \n",
        "# COMPLETE\n",
        "#\n",
        "x_plot2= x_train2.copy()\n",
        "y_plot2= y_train_poly_pred2.copy()\n",
        "idxs_sorted = np.argsort(x_plot2)\n",
        "ax[1].plot(x_plot2[idxs_sorted], y_plot2[idxs_sorted], color='y', label='Trained Polynomial Model', marker='X')\n",
        "#\n",
        "# Step 4:\n",
        "# Compute and print the training and test MSE.\n",
        "# COMPLETE\n",
        "#\n",
        "mse_train2 = mean_squared_error(y_train2, y_train_poly_pred2)\n",
        "mse_test2 = mean_squared_error(y_test2, y_test_poly_pred2)\n",
        "#\n",
        "print('For high noise dataset, training MSE is: {:.3f}, test MSE is: {:.3f}'.format(mse_train2, mse_test2))\n",
        "\n",
        "ax[1].scatter(x_train2.reshape(-1,1), y_train2, color='blue') # plot dataset 2\n",
        "ax[1].set_title('High Noise Dataset')\n",
        "\n",
        "plt.show()"
      ],
      "execution_count": null,
      "outputs": [
        {
          "output_type": "stream",
          "name": "stdout",
          "text": [
            "For low noise dataset, training MSE is: 0.048, test MSE is: 0.041\n",
            "For high noise dataset, training MSE is: 0.093, test MSE is: 0.326\n"
          ]
        },
        {
          "output_type": "display_data",
          "data": {
            "image/png": "[encoded data removed]",
            "text/plain": [
              "<Figure size 720x360 with 2 Axes>"
            ]
          },
          "metadata": {
            "needs_background": "light"
          }
        }
      ]
    },
    {
      "cell_type": "markdown",
      "metadata": {
        "id": "4YXf6o81hV-W"
      },
      "source": [
        "**Exercise 7 (Extra Credit):** Let's compare the way each model fits their respective datasets.\n",
        "\n",
        "*  **A.** Which model fits the data better, based only on the training and test MSE? Why?\n",
        "\n",
        "**Answer:** Linear regression for low noise data based on  the training and test MSE is the best model that fit their data as it has smaller error for both training and test data when compared to polynomial model   \n",
        "\n",
        "* **B.** Remember that both dataset are generated from $f(x) = x^3$, with this fact in mind, which model is the better fit? Why?\n",
        "\n",
        "**Answer:** Having in mind that data is generated by $f(x) = x^3$ And have too much noise I can say that polynomial model because it has 3 as degree of freedom and try to capture to mush data so that errors for both training and test are smaller.  \n",
        "\n",
        "\n",
        "*  **C.** What does this experiment say about using MSE to detect underfitting?\n",
        "\n",
        "**Answer:** This experiment help us to confirm that  MSE is not only way you can only use to  detect underfitting because for example for low noise data it seems like model is very good and for higher noise model is not very good while is contrary. Also to detect underfiting we need to consider nature of data and use other techniques that help to have enough facts that help you \n",
        "in  drawing conclusion   \n"
      ]
    },
    {
      "cell_type": "code",
      "metadata": {
        "id": "SA51F0rtOQPP"
      },
      "source": [
        "NB: for more stastical analysis of linerar reguration you can flow this link\n",
        "    \n",
        " # https://www.hackdeploy.com/python-linear-regression-analysis/"
      ],
      "execution_count": null,
      "outputs": []
    },
    {
      "cell_type": "markdown",
      "source": [
        ""
      ],
      "metadata": {
        "id": "wJ57HuF0gFgk"
      }
    }
  ]
}