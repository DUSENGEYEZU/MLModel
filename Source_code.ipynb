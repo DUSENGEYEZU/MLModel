{
 "cells": [
  {
   "cell_type": "markdown",
   "id": "374f2c0a",
   "metadata": {},
   "source": [
    "# Importing necessary libraries \n"
   ]
  },
  {
   "cell_type": "code",
   "execution_count": 44,
   "id": "5d226eda",
   "metadata": {
    "ExecuteTime": {
     "end_time": "2021-09-03T20:41:30.581960Z",
     "start_time": "2021-09-03T20:41:30.562971Z"
    }
   },
   "outputs": [],
   "source": [
    "import numpy as np\n",
    "import pandas as pd \n",
    "from sklearn.impute import KNNImputer"
   ]
  },
  {
   "cell_type": "code",
   "execution_count": 46,
   "id": "5f0e2eab",
   "metadata": {
    "ExecuteTime": {
     "end_time": "2021-09-03T20:44:25.617418Z",
     "start_time": "2021-09-03T20:44:25.593315Z"
    }
   },
   "outputs": [
    {
     "data": {
      "text/html": [
       "<div>\n",
       "<style scoped>\n",
       "    .dataframe tbody tr th:only-of-type {\n",
       "        vertical-align: middle;\n",
       "    }\n",
       "\n",
       "    .dataframe tbody tr th {\n",
       "        vertical-align: top;\n",
       "    }\n",
       "\n",
       "    .dataframe thead th {\n",
       "        text-align: right;\n",
       "    }\n",
       "</style>\n",
       "<table border=\"1\" class=\"dataframe\">\n",
       "  <thead>\n",
       "    <tr style=\"text-align: right;\">\n",
       "      <th></th>\n",
       "      <th>Year</th>\n",
       "      <th>VNP</th>\n",
       "      <th>ANP</th>\n",
       "      <th>NNP</th>\n",
       "      <th>Total_Visits</th>\n",
       "    </tr>\n",
       "  </thead>\n",
       "  <tbody>\n",
       "    <tr>\n",
       "      <th>0</th>\n",
       "      <td>1974</td>\n",
       "      <td>449.0</td>\n",
       "      <td>3708.0</td>\n",
       "      <td>NaN</td>\n",
       "      <td>4157</td>\n",
       "    </tr>\n",
       "    <tr>\n",
       "      <th>1</th>\n",
       "      <td>1975</td>\n",
       "      <td>923.0</td>\n",
       "      <td>5159.0</td>\n",
       "      <td>NaN</td>\n",
       "      <td>6082</td>\n",
       "    </tr>\n",
       "    <tr>\n",
       "      <th>2</th>\n",
       "      <td>1976</td>\n",
       "      <td>661.0</td>\n",
       "      <td>4685.0</td>\n",
       "      <td>NaN</td>\n",
       "      <td>5346</td>\n",
       "    </tr>\n",
       "    <tr>\n",
       "      <th>3</th>\n",
       "      <td>1977</td>\n",
       "      <td>970.0</td>\n",
       "      <td>5501.0</td>\n",
       "      <td>NaN</td>\n",
       "      <td>6471</td>\n",
       "    </tr>\n",
       "  </tbody>\n",
       "</table>\n",
       "</div>"
      ],
      "text/plain": [
       "   Year   VNP     ANP    NNP    Total_Visits \n",
       "0  1974  449.0  3708.0    NaN            4157\n",
       "1  1975  923.0  5159.0    NaN            6082\n",
       "2  1976  661.0  4685.0    NaN            5346\n",
       "3  1977  970.0  5501.0    NaN            6471"
      ]
     },
     "execution_count": 46,
     "metadata": {},
     "output_type": "execute_result"
    }
   ],
   "source": [
    "dataset=pd.read_csv(\"RDB_PARK_STATISTICS_2021_dataset.csv\")\n",
    "dataset.head(4)"
   ]
  },
  {
   "cell_type": "markdown",
   "id": "d9e3210e",
   "metadata": {},
   "source": [
    "# Data preprocessing \n"
   ]
  },
  {
   "cell_type": "code",
   "execution_count": 47,
   "id": "b5c10e21",
   "metadata": {
    "ExecuteTime": {
     "end_time": "2021-09-03T20:44:33.724682Z",
     "start_time": "2021-09-03T20:44:33.710622Z"
    }
   },
   "outputs": [],
   "source": [
    "dataset=dataset.replace(\"-\",np.nan)\n",
    "dataset=dataset.replace(\"/[^0-9]+/\",'')\n",
    "\n"
   ]
  },
  {
   "cell_type": "code",
   "execution_count": 48,
   "id": "c6be3c4a",
   "metadata": {
    "ExecuteTime": {
     "end_time": "2021-09-03T20:44:35.219662Z",
     "start_time": "2021-09-03T20:44:35.179686Z"
    }
   },
   "outputs": [
    {
     "data": {
      "text/html": [
       "<div>\n",
       "<style scoped>\n",
       "    .dataframe tbody tr th:only-of-type {\n",
       "        vertical-align: middle;\n",
       "    }\n",
       "\n",
       "    .dataframe tbody tr th {\n",
       "        vertical-align: top;\n",
       "    }\n",
       "\n",
       "    .dataframe thead th {\n",
       "        text-align: right;\n",
       "    }\n",
       "</style>\n",
       "<table border=\"1\" class=\"dataframe\">\n",
       "  <thead>\n",
       "    <tr style=\"text-align: right;\">\n",
       "      <th></th>\n",
       "      <th>Year</th>\n",
       "      <th>VNP</th>\n",
       "      <th>ANP</th>\n",
       "      <th>NNP</th>\n",
       "      <th>Total_Visits</th>\n",
       "    </tr>\n",
       "  </thead>\n",
       "  <tbody>\n",
       "    <tr>\n",
       "      <th>count</th>\n",
       "      <td>46.000000</td>\n",
       "      <td>45.000000</td>\n",
       "      <td>40.00000</td>\n",
       "      <td>30.000000</td>\n",
       "      <td>46.000000</td>\n",
       "    </tr>\n",
       "    <tr>\n",
       "      <th>mean</th>\n",
       "      <td>1996.500000</td>\n",
       "      <td>10403.622222</td>\n",
       "      <td>15886.85000</td>\n",
       "      <td>4813.933333</td>\n",
       "      <td>27131.630435</td>\n",
       "    </tr>\n",
       "    <tr>\n",
       "      <th>std</th>\n",
       "      <td>13.422618</td>\n",
       "      <td>11350.862002</td>\n",
       "      <td>14159.54905</td>\n",
       "      <td>5096.225283</td>\n",
       "      <td>29464.803016</td>\n",
       "    </tr>\n",
       "    <tr>\n",
       "      <th>min</th>\n",
       "      <td>1974.000000</td>\n",
       "      <td>61.000000</td>\n",
       "      <td>589.00000</td>\n",
       "      <td>38.000000</td>\n",
       "      <td>61.000000</td>\n",
       "    </tr>\n",
       "    <tr>\n",
       "      <th>25%</th>\n",
       "      <td>1985.250000</td>\n",
       "      <td>1653.000000</td>\n",
       "      <td>5415.50000</td>\n",
       "      <td>855.000000</td>\n",
       "      <td>5355.500000</td>\n",
       "    </tr>\n",
       "    <tr>\n",
       "      <th>50%</th>\n",
       "      <td>1996.500000</td>\n",
       "      <td>5356.000000</td>\n",
       "      <td>13724.00000</td>\n",
       "      <td>2777.000000</td>\n",
       "      <td>17358.500000</td>\n",
       "    </tr>\n",
       "    <tr>\n",
       "      <th>75%</th>\n",
       "      <td>2007.750000</td>\n",
       "      <td>18855.000000</td>\n",
       "      <td>17226.25000</td>\n",
       "      <td>7441.250000</td>\n",
       "      <td>38666.500000</td>\n",
       "    </tr>\n",
       "    <tr>\n",
       "      <th>max</th>\n",
       "      <td>2019.000000</td>\n",
       "      <td>35567.000000</td>\n",
       "      <td>58385.00000</td>\n",
       "      <td>17863.000000</td>\n",
       "      <td>111136.000000</td>\n",
       "    </tr>\n",
       "  </tbody>\n",
       "</table>\n",
       "</div>"
      ],
      "text/plain": [
       "              Year          VNP          ANP           NNP    Total_Visits \n",
       "count    46.000000     45.000000     40.00000     30.000000       46.000000\n",
       "mean   1996.500000  10403.622222  15886.85000   4813.933333    27131.630435\n",
       "std      13.422618  11350.862002  14159.54905   5096.225283    29464.803016\n",
       "min    1974.000000     61.000000    589.00000     38.000000       61.000000\n",
       "25%    1985.250000   1653.000000   5415.50000    855.000000     5355.500000\n",
       "50%    1996.500000   5356.000000  13724.00000   2777.000000    17358.500000\n",
       "75%    2007.750000  18855.000000  17226.25000   7441.250000    38666.500000\n",
       "max    2019.000000  35567.000000  58385.00000  17863.000000   111136.000000"
      ]
     },
     "execution_count": 48,
     "metadata": {},
     "output_type": "execute_result"
    }
   ],
   "source": [
    "# numerical chracteristics of data set\n",
    "dataset.describe()"
   ]
  },
  {
   "cell_type": "code",
   "execution_count": 49,
   "id": "56110b3c",
   "metadata": {
    "ExecuteTime": {
     "end_time": "2021-09-03T20:44:36.092790Z",
     "start_time": "2021-09-03T20:44:36.078777Z"
    }
   },
   "outputs": [
    {
     "data": {
      "text/plain": [
       "Year               0\n",
       " VNP               1\n",
       " ANP               6\n",
       " NNP              16\n",
       " Total_Visits      0\n",
       "dtype: int64"
      ]
     },
     "execution_count": 49,
     "metadata": {},
     "output_type": "execute_result"
    }
   ],
   "source": [
    "## check if there is null value(empty cell)\n",
    "dataset.isnull().sum()"
   ]
  },
  {
   "cell_type": "markdown",
   "id": "f4da8d8b",
   "metadata": {},
   "source": [
    "### Removing Null value "
   ]
  },
  {
   "cell_type": "code",
   "execution_count": 50,
   "id": "95289851",
   "metadata": {
    "ExecuteTime": {
     "end_time": "2021-09-03T20:44:37.761669Z",
     "start_time": "2021-09-03T20:44:37.706700Z"
    }
   },
   "outputs": [
    {
     "data": {
      "text/plain": [
       "Year              0\n",
       " VNP              0\n",
       " ANP              0\n",
       " NNP              0\n",
       " Total_Visits     0\n",
       "dtype: int64"
      ]
     },
     "execution_count": 50,
     "metadata": {},
     "output_type": "execute_result"
    }
   ],
   "source": [
    "# Step 1: define an knn imputer using KNNImputer\n",
    "\n",
    "imputer = KNNImputer(n_neighbors=5)\n",
    "\n",
    "# Step 2: impute the missing data\n",
    "dataset = pd.DataFrame(imputer.fit_transform(dataset), columns=dataset.columns, index=dataset.index)\n",
    "dataset.isnull().sum()"
   ]
  },
  {
   "cell_type": "markdown",
   "id": "02930005",
   "metadata": {},
   "source": [
    "Our dataset now is well prepared now we can try to use it"
   ]
  },
  {
   "cell_type": "markdown",
   "id": "45c11c47",
   "metadata": {},
   "source": [
    "# Data visualization "
   ]
  },
  {
   "cell_type": "code",
   "execution_count": null,
   "id": "9e92343e",
   "metadata": {},
   "outputs": [],
   "source": []
  }
 ],
 "metadata": {
  "hide_input": false,
  "kernelspec": {
   "display_name": "Python 3",
   "language": "python",
   "name": "python3"
  },
  "language_info": {
   "codemirror_mode": {
    "name": "ipython",
    "version": 3
   },
   "file_extension": ".py",
   "mimetype": "text/x-python",
   "name": "python",
   "nbconvert_exporter": "python",
   "pygments_lexer": "ipython3",
   "version": "3.8.8"
  },
  "latex_envs": {
   "LaTeX_envs_menu_present": true,
   "autoclose": false,
   "autocomplete": true,
   "bibliofile": "biblio.bib",
   "cite_by": "apalike",
   "current_citInitial": 1,
   "eqLabelWithNumbers": true,
   "eqNumInitial": 1,
   "hotkeys": {
    "equation": "Ctrl-E",
    "itemize": "Ctrl-I"
   },
   "labels_anchors": false,
   "latex_user_defs": false,
   "report_style_numbering": false,
   "user_envs_cfg": false
  },
  "nbTranslate": {
   "displayLangs": [
    "*"
   ],
   "hotkey": "alt-t",
   "langInMainMenu": true,
   "sourceLang": "en",
   "targetLang": "fr",
   "useGoogleTranslate": true
  },
  "toc": {
   "base_numbering": 1,
   "nav_menu": {},
   "number_sections": true,
   "sideBar": true,
   "skip_h1_title": false,
   "title_cell": "Table of Contents",
   "title_sidebar": "Contents",
   "toc_cell": false,
   "toc_position": {},
   "toc_section_display": true,
   "toc_window_display": false
  },
  "varInspector": {
   "cols": {
    "lenName": 16,
    "lenType": 16,
    "lenVar": 40
   },
   "kernels_config": {
    "python": {
     "delete_cmd_postfix": "",
     "delete_cmd_prefix": "del ",
     "library": "var_list.py",
     "varRefreshCmd": "print(var_dic_list())"
    },
    "r": {
     "delete_cmd_postfix": ") ",
     "delete_cmd_prefix": "rm(",
     "library": "var_list.r",
     "varRefreshCmd": "cat(var_dic_list()) "
    }
   },
   "types_to_exclude": [
    "module",
    "function",
    "builtin_function_or_method",
    "instance",
    "_Feature"
   ],
   "window_display": false
  }
 },
 "nbformat": 4,
 "nbformat_minor": 5
}
