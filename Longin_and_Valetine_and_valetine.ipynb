{
  "nbformat": 4,
  "nbformat_minor": 0,
  "metadata": {
    "kernelspec": {
      "language": "python",
      "display_name": "Python 3",
      "name": "python3"
    },
    "language_info": {
      "name": "python",
      "version": "3.7.10",
      "mimetype": "text/x-python",
      "codemirror_mode": {
        "name": "ipython",
        "version": 3
      },
      "pygments_lexer": "ipython3",
      "nbconvert_exporter": "python",
      "file_extension": ".py"
    },
    "colab": {
      "name": "Longin and Valetine_and valetine.ipynb",
      "provenance": []
    }
  },
  "cells": [
    {
      "cell_type": "markdown",
      "metadata": {
        "id": "58QYgpvKKd4F"
      },
      "source": [
        "# Homework #1: Predicting Fuel Consumption\n",
        "\n",
        "### Machine Learning and Computational Statistics (DSC6232)\n",
        "\n",
        "#### Instructors: Weiwei Pan, Melanie Fernandez, Pavlos Protopapas\n",
        "\n",
        "#### Due: August  12th, 2:00 pm Kigali Time"
      ]
    },
    {
      "cell_type": "markdown",
      "metadata": {
        "id": "Rf0GawJQKd4d"
      },
      "source": [
        "***Team Members:*** \n",
        "DUSENGEYEZU LONGIN AND UYISABYE VALETINE\n",
        "\n",
        "**IDs**: 220020609 AND 221000259"
      ]
    },
    {
      "cell_type": "markdown",
      "metadata": {
        "id": "4aQJM-klKd4k"
      },
      "source": [
        "# **Introduction**\n",
        "\n",
        "*Pollution is the introduction of harmful materials into the environment. this hamful materials are either solid, liquid, gas or any form of energy such as heat, sound, or radioactivity.*\n",
        "\n",
        "Pollution is a big issue in the city of Kigali. Policy makers in the city want to take action and deploy some measures to address this problem. You have been hired as a machine learning expert to analyze some data and help them make good decisions.\n",
        "\n",
        "Cars that consume more fuel pollute more. As a first step, we want to estimate how much fuel each individual car consumes every 100 km. The provided dataset concerns city-cycle fuel consumption in liters per 100 kilometers (target).\n",
        "\n",
        "The aim of this homework is to help you apply the skills that you have learned so far to a real dataset. This involves learning what data means, how to handle and visualize data, training, cross validation, prediction, testing your model, etc\n",
        "\n",
        "*To reach our target, we must have lowest MSE on testing dataset after submssion. Thus we have tried many different machine learning models for regression. Since our target was numerical continous.*"
      ]
    },
    {
      "cell_type": "code",
      "metadata": {
        "execution": {
          "iopub.status.busy": "2021-08-08T08:53:07.206432Z",
          "iopub.execute_input": "2021-08-08T08:53:07.206919Z",
          "iopub.status.idle": "2021-08-08T08:53:14.366766Z",
          "shell.execute_reply.started": "2021-08-08T08:53:07.206807Z",
          "shell.execute_reply": "2021-08-08T08:53:14.365708Z"
        },
        "trusted": true,
        "id": "VQyDq2HLKd4o"
      },
      "source": [
        "# as usual, let us load all the necessary libraries\n",
        "import numpy as np  # numerical computation with arrays\n",
        "import pandas as pd # library to manipulate datasets using dataframes\n",
        "import scipy as sp  # statistical library\n",
        "from google.colab import files\n",
        "\n",
        "# below sklearn libraries for different models\n",
        "from sklearn.metrics import r2_score\n",
        "from sklearn.linear_model import Ridge\n",
        "from sklearn.tree import DecisionTreeRegressor\n",
        "from sklearn import neighbors\n",
        "from sklearn.tree import DecisionTreeClassifier as DecisionTree\n",
        "from sklearn.ensemble import RandomForestClassifier as RandomForest\n",
        "from sklearn.preprocessing import PolynomialFeatures\n",
        "from sklearn.linear_model import LogisticRegression\n",
        "from sklearn.linear_model import LinearRegression\n",
        "from sklearn.impute import KNNImputer\n",
        "from sklearn.metrics import mean_squared_error\n",
        "from sklearn.preprocessing import MinMaxScaler\n",
        "\n",
        "#import libraries for implementing neural networks\n",
        "import keras\n",
        "from keras.models import Sequential\n",
        "from keras.layers import Dense, Dropout\n",
        "from keras import regularizers\n",
        "from keras.optimizers import SGD, Adam\n",
        "from keras.regularizers import l2\n",
        "\n",
        "# plot \n",
        "import matplotlib\n",
        "import matplotlib.pyplot as plt\n",
        "%matplotlib inline"
      ],
      "execution_count": null,
      "outputs": []
    },
    {
      "cell_type": "markdown",
      "metadata": {
        "id": "asGJkXwTKd4u"
      },
      "source": [
        "# Loading Competition Data\n",
        "Run all the steps below to obtain the data"
      ]
    },
    {
      "cell_type": "code",
      "metadata": {
        "execution": {
          "iopub.status.busy": "2021-08-08T08:53:14.368477Z",
          "iopub.execute_input": "2021-08-08T08:53:14.368915Z",
          "iopub.status.idle": "2021-08-08T08:53:14.441985Z",
          "shell.execute_reply.started": "2021-08-08T08:53:14.368872Z",
          "shell.execute_reply": "2021-08-08T08:53:14.440711Z"
        },
        "trusted": true,
        "id": "dHXo3v2vKd4w",
        "colab": {
          "base_uri": "https://localhost:8080/",
          "height": 142
        },
        "outputId": "399eb4d3-e774-4e54-8257-d00560a3caa1"
      },
      "source": [
        "# Read training data\n",
        "train_data = pd.read_csv('https://raw.githubusercontent.com/onefishy/Rwanda-course-2020/master/Competition_data/train.csv') # read in the data as a DataFrame\n",
        "train_data.head(3) # show the first 3 rows of the dataset"
      ],
      "execution_count": null,
      "outputs": [
        {
          "output_type": "execute_result",
          "data": {
            "text/html": [
              "<div>\n",
              "<style scoped>\n",
              "    .dataframe tbody tr th:only-of-type {\n",
              "        vertical-align: middle;\n",
              "    }\n",
              "\n",
              "    .dataframe tbody tr th {\n",
              "        vertical-align: top;\n",
              "    }\n",
              "\n",
              "    .dataframe thead th {\n",
              "        text-align: right;\n",
              "    }\n",
              "</style>\n",
              "<table border=\"1\" class=\"dataframe\">\n",
              "  <thead>\n",
              "    <tr style=\"text-align: right;\">\n",
              "      <th></th>\n",
              "      <th>cylinders</th>\n",
              "      <th>displacement</th>\n",
              "      <th>horsepower</th>\n",
              "      <th>weight</th>\n",
              "      <th>acceleration</th>\n",
              "      <th>model year</th>\n",
              "      <th>origin</th>\n",
              "      <th>car name</th>\n",
              "      <th>fuel (L/100km)</th>\n",
              "    </tr>\n",
              "  </thead>\n",
              "  <tbody>\n",
              "    <tr>\n",
              "      <th>0</th>\n",
              "      <td>4</td>\n",
              "      <td>106.0</td>\n",
              "      <td>63.00</td>\n",
              "      <td>2123.0</td>\n",
              "      <td>14.7</td>\n",
              "      <td>82</td>\n",
              "      <td>1</td>\n",
              "      <td>\"amc hornet\"</td>\n",
              "      <td>6.189737</td>\n",
              "    </tr>\n",
              "    <tr>\n",
              "      <th>1</th>\n",
              "      <td>8</td>\n",
              "      <td>400.0</td>\n",
              "      <td>150.0</td>\n",
              "      <td>3760.0</td>\n",
              "      <td>8.5</td>\n",
              "      <td>70</td>\n",
              "      <td>1</td>\n",
              "      <td>\"dodge challenger se\"</td>\n",
              "      <td>15.680667</td>\n",
              "    </tr>\n",
              "    <tr>\n",
              "      <th>2</th>\n",
              "      <td>4</td>\n",
              "      <td>104.0</td>\n",
              "      <td>70.00</td>\n",
              "      <td>2150.0</td>\n",
              "      <td>13.9</td>\n",
              "      <td>79</td>\n",
              "      <td>1</td>\n",
              "      <td>\"honda civic cvcc\"</td>\n",
              "      <td>6.817681</td>\n",
              "    </tr>\n",
              "  </tbody>\n",
              "</table>\n",
              "</div>"
            ],
            "text/plain": [
              "   cylinders  displacement  ...                  car name  fuel (L/100km)\n",
              "0          4         106.0  ...              \"amc hornet\"        6.189737\n",
              "1          8         400.0  ...     \"dodge challenger se\"       15.680667\n",
              "2          4         104.0  ...        \"honda civic cvcc\"        6.817681\n",
              "\n",
              "[3 rows x 9 columns]"
            ]
          },
          "metadata": {
            "tags": []
          },
          "execution_count": 61
        }
      ]
    },
    {
      "cell_type": "code",
      "metadata": {
        "execution": {
          "iopub.status.busy": "2021-08-08T08:53:14.444619Z",
          "iopub.execute_input": "2021-08-08T08:53:14.445068Z",
          "iopub.status.idle": "2021-08-08T08:53:14.477817Z",
          "shell.execute_reply.started": "2021-08-08T08:53:14.445023Z",
          "shell.execute_reply": "2021-08-08T08:53:14.476568Z"
        },
        "trusted": true,
        "id": "j53n2b4CKd43",
        "colab": {
          "base_uri": "https://localhost:8080/",
          "height": 142
        },
        "outputId": "1711a6ce-ab69-4241-f53f-ed01c3a37241"
      },
      "source": [
        "# Read test data \n",
        "test_data = pd.read_csv('https://raw.githubusercontent.com/onefishy/Rwanda-course-2020/master/Competition_data/test.csv') # read in the data as a DataFrame\n",
        "test_data.head(3) # show the first 3 rows of the dataset"
      ],
      "execution_count": null,
      "outputs": [
        {
          "output_type": "execute_result",
          "data": {
            "text/html": [
              "<div>\n",
              "<style scoped>\n",
              "    .dataframe tbody tr th:only-of-type {\n",
              "        vertical-align: middle;\n",
              "    }\n",
              "\n",
              "    .dataframe tbody tr th {\n",
              "        vertical-align: top;\n",
              "    }\n",
              "\n",
              "    .dataframe thead th {\n",
              "        text-align: right;\n",
              "    }\n",
              "</style>\n",
              "<table border=\"1\" class=\"dataframe\">\n",
              "  <thead>\n",
              "    <tr style=\"text-align: right;\">\n",
              "      <th></th>\n",
              "      <th>cylinders</th>\n",
              "      <th>displacement</th>\n",
              "      <th>horsepower</th>\n",
              "      <th>weight</th>\n",
              "      <th>acceleration</th>\n",
              "      <th>model year</th>\n",
              "      <th>origin</th>\n",
              "      <th>car name</th>\n",
              "    </tr>\n",
              "  </thead>\n",
              "  <tbody>\n",
              "    <tr>\n",
              "      <th>0</th>\n",
              "      <td>4</td>\n",
              "      <td>122.0</td>\n",
              "      <td>80.0</td>\n",
              "      <td>2450.0</td>\n",
              "      <td>15.5</td>\n",
              "      <td>74</td>\n",
              "      <td>1</td>\n",
              "      <td>\"ford galaxie 500\"</td>\n",
              "    </tr>\n",
              "    <tr>\n",
              "      <th>1</th>\n",
              "      <td>6</td>\n",
              "      <td>257.0</td>\n",
              "      <td>95.0</td>\n",
              "      <td>3191.0</td>\n",
              "      <td>17.8</td>\n",
              "      <td>76</td>\n",
              "      <td>1</td>\n",
              "      <td>\"ford pinto\"</td>\n",
              "    </tr>\n",
              "    <tr>\n",
              "      <th>2</th>\n",
              "      <td>4</td>\n",
              "      <td>87.0</td>\n",
              "      <td>65.0</td>\n",
              "      <td>2108.0</td>\n",
              "      <td>18.9</td>\n",
              "      <td>80</td>\n",
              "      <td>3</td>\n",
              "      <td>\"plymouth duster\"</td>\n",
              "    </tr>\n",
              "  </tbody>\n",
              "</table>\n",
              "</div>"
            ],
            "text/plain": [
              "   cylinders  displacement  ...  origin               car name\n",
              "0          4         122.0  ...       1     \"ford galaxie 500\"\n",
              "1          6         257.0  ...       1           \"ford pinto\"\n",
              "2          4          87.0  ...       3      \"plymouth duster\"\n",
              "\n",
              "[3 rows x 8 columns]"
            ]
          },
          "metadata": {
            "tags": []
          },
          "execution_count": 62
        }
      ]
    },
    {
      "cell_type": "markdown",
      "metadata": {
        "id": "cl6-q02sLnTH"
      },
      "source": [
        "# Now we are done with downloading data! \n",
        "* Try building a model inside this notebook by create additional cells below with code to specify and fit the model\n",
        "* If you are fitting large neural nets, make sure this google colab notebook is running on GPUs\n",
        "* Check Edit --> Notebook settings --> Hardware accelerator: GPU"
      ]
    },
    {
      "cell_type": "markdown",
      "metadata": {
        "id": "xjIXBkxgKd47"
      },
      "source": [
        "# Building our model after extracting data\n",
        "##**EXPLORATORY ANALYSIS FOR TRAIN AND TEST DATA:**\n",
        "*   **Identification of covariates.**\n",
        "*   **Size of our datasets**\n",
        "*   **Types of data annd identification of outilier**\n",
        "*   **Making imputation where necessary**\n",
        "*   **descriptive statistics/basic analysis : mean,max,min count,...**\n",
        "\n"
      ]
    },
    {
      "cell_type": "code",
      "metadata": {
        "execution": {
          "iopub.status.busy": "2021-08-08T08:53:14.480125Z",
          "iopub.execute_input": "2021-08-08T08:53:14.480554Z",
          "iopub.status.idle": "2021-08-08T08:53:14.503892Z",
          "shell.execute_reply.started": "2021-08-08T08:53:14.480510Z",
          "shell.execute_reply": "2021-08-08T08:53:14.502892Z"
        },
        "trusted": true,
        "id": "iJxVqCkrKd5A",
        "colab": {
          "base_uri": "https://localhost:8080/"
        },
        "outputId": "ff49226e-ed28-4ff2-c15c-d5d0f9373aa2"
      },
      "source": [
        "#get the summary of training dataset\n",
        "train_data.info()"
      ],
      "execution_count": null,
      "outputs": [
        {
          "output_type": "stream",
          "text": [
            "<class 'pandas.core.frame.DataFrame'>\n",
            "RangeIndex: 298 entries, 0 to 297\n",
            "Data columns (total 9 columns):\n",
            " #   Column          Non-Null Count  Dtype  \n",
            "---  ------          --------------  -----  \n",
            " 0   cylinders       298 non-null    int64  \n",
            " 1   displacement    298 non-null    float64\n",
            " 2   horsepower      298 non-null    object \n",
            " 3   weight          298 non-null    float64\n",
            " 4   acceleration    298 non-null    float64\n",
            " 5   model year      298 non-null    int64  \n",
            " 6   origin          298 non-null    int64  \n",
            " 7   car name        298 non-null    object \n",
            " 8   fuel (L/100km)  298 non-null    float64\n",
            "dtypes: float64(4), int64(3), object(2)\n",
            "memory usage: 21.1+ KB\n"
          ],
          "name": "stdout"
        }
      ]
    },
    {
      "cell_type": "code",
      "metadata": {
        "execution": {
          "iopub.status.busy": "2021-08-08T08:53:14.505183Z",
          "iopub.execute_input": "2021-08-08T08:53:14.505479Z",
          "iopub.status.idle": "2021-08-08T08:53:14.549950Z",
          "shell.execute_reply.started": "2021-08-08T08:53:14.505449Z",
          "shell.execute_reply": "2021-08-08T08:53:14.548721Z"
        },
        "trusted": true,
        "id": "0JfbiU0tKd5F",
        "colab": {
          "base_uri": "https://localhost:8080/",
          "height": 297
        },
        "outputId": "584162d0-34a3-4444-ee4a-e801cd88feb6"
      },
      "source": [
        "#Describing data\n",
        "train_data.describe()"
      ],
      "execution_count": null,
      "outputs": [
        {
          "output_type": "execute_result",
          "data": {
            "text/html": [
              "<div>\n",
              "<style scoped>\n",
              "    .dataframe tbody tr th:only-of-type {\n",
              "        vertical-align: middle;\n",
              "    }\n",
              "\n",
              "    .dataframe tbody tr th {\n",
              "        vertical-align: top;\n",
              "    }\n",
              "\n",
              "    .dataframe thead th {\n",
              "        text-align: right;\n",
              "    }\n",
              "</style>\n",
              "<table border=\"1\" class=\"dataframe\">\n",
              "  <thead>\n",
              "    <tr style=\"text-align: right;\">\n",
              "      <th></th>\n",
              "      <th>cylinders</th>\n",
              "      <th>displacement</th>\n",
              "      <th>weight</th>\n",
              "      <th>acceleration</th>\n",
              "      <th>model year</th>\n",
              "      <th>origin</th>\n",
              "      <th>fuel (L/100km)</th>\n",
              "    </tr>\n",
              "  </thead>\n",
              "  <tbody>\n",
              "    <tr>\n",
              "      <th>count</th>\n",
              "      <td>298.000000</td>\n",
              "      <td>298.000000</td>\n",
              "      <td>298.000000</td>\n",
              "      <td>298.000000</td>\n",
              "      <td>298.000000</td>\n",
              "      <td>298.000000</td>\n",
              "      <td>298.000000</td>\n",
              "    </tr>\n",
              "    <tr>\n",
              "      <th>mean</th>\n",
              "      <td>5.412752</td>\n",
              "      <td>189.921141</td>\n",
              "      <td>2769.526846</td>\n",
              "      <td>15.643624</td>\n",
              "      <td>76.013423</td>\n",
              "      <td>1.577181</td>\n",
              "      <td>11.151093</td>\n",
              "    </tr>\n",
              "    <tr>\n",
              "      <th>std</th>\n",
              "      <td>1.683982</td>\n",
              "      <td>102.477761</td>\n",
              "      <td>1325.244375</td>\n",
              "      <td>2.808101</td>\n",
              "      <td>3.697276</td>\n",
              "      <td>0.792908</td>\n",
              "      <td>3.955753</td>\n",
              "    </tr>\n",
              "    <tr>\n",
              "      <th>min</th>\n",
              "      <td>3.000000</td>\n",
              "      <td>67.000000</td>\n",
              "      <td>-4294.000000</td>\n",
              "      <td>8.500000</td>\n",
              "      <td>70.000000</td>\n",
              "      <td>1.000000</td>\n",
              "      <td>5.273767</td>\n",
              "    </tr>\n",
              "    <tr>\n",
              "      <th>25%</th>\n",
              "      <td>4.000000</td>\n",
              "      <td>104.250000</td>\n",
              "      <td>2193.500000</td>\n",
              "      <td>13.925000</td>\n",
              "      <td>73.000000</td>\n",
              "      <td>1.000000</td>\n",
              "      <td>8.007588</td>\n",
              "    </tr>\n",
              "    <tr>\n",
              "      <th>50%</th>\n",
              "      <td>4.000000</td>\n",
              "      <td>145.500000</td>\n",
              "      <td>2737.000000</td>\n",
              "      <td>15.500000</td>\n",
              "      <td>76.000000</td>\n",
              "      <td>1.000000</td>\n",
              "      <td>10.226522</td>\n",
              "    </tr>\n",
              "    <tr>\n",
              "      <th>75%</th>\n",
              "      <td>6.000000</td>\n",
              "      <td>259.000000</td>\n",
              "      <td>3492.250000</td>\n",
              "      <td>17.300000</td>\n",
              "      <td>79.000000</td>\n",
              "      <td>2.000000</td>\n",
              "      <td>13.067222</td>\n",
              "    </tr>\n",
              "    <tr>\n",
              "      <th>max</th>\n",
              "      <td>8.000000</td>\n",
              "      <td>455.000000</td>\n",
              "      <td>5141.000000</td>\n",
              "      <td>24.700000</td>\n",
              "      <td>82.000000</td>\n",
              "      <td>3.000000</td>\n",
              "      <td>26.134444</td>\n",
              "    </tr>\n",
              "  </tbody>\n",
              "</table>\n",
              "</div>"
            ],
            "text/plain": [
              "        cylinders  displacement  ...      origin  fuel (L/100km)\n",
              "count  298.000000    298.000000  ...  298.000000      298.000000\n",
              "mean     5.412752    189.921141  ...    1.577181       11.151093\n",
              "std      1.683982    102.477761  ...    0.792908        3.955753\n",
              "min      3.000000     67.000000  ...    1.000000        5.273767\n",
              "25%      4.000000    104.250000  ...    1.000000        8.007588\n",
              "50%      4.000000    145.500000  ...    1.000000       10.226522\n",
              "75%      6.000000    259.000000  ...    2.000000       13.067222\n",
              "max      8.000000    455.000000  ...    3.000000       26.134444\n",
              "\n",
              "[8 rows x 7 columns]"
            ]
          },
          "metadata": {
            "tags": []
          },
          "execution_count": 64
        }
      ]
    },
    {
      "cell_type": "markdown",
      "metadata": {
        "id": "Jzcmi-oqKd5G"
      },
      "source": [
        "*   **Fuel consomption is our target varible. As a discret variable, regression model can be used to perform the model that can fit our data** \n",
        "\n",
        "*   **some variables are not needed in this model: e.g Car name\n",
        "\n",
        "1.   ***We need to drop car name***\n",
        "2.   ***Encode records  like 'cylinders','horsepower','model year', and 'origin' covariates***\n",
        "\n"
      ]
    },
    {
      "cell_type": "code",
      "metadata": {
        "execution": {
          "iopub.status.busy": "2021-08-08T08:53:14.551566Z",
          "iopub.execute_input": "2021-08-08T08:53:14.551877Z",
          "iopub.status.idle": "2021-08-08T08:53:14.570304Z",
          "shell.execute_reply.started": "2021-08-08T08:53:14.551847Z",
          "shell.execute_reply": "2021-08-08T08:53:14.569083Z"
        },
        "trusted": true,
        "id": "a-S_DhcLKd5I",
        "colab": {
          "base_uri": "https://localhost:8080/",
          "height": 204
        },
        "outputId": "4407d697-99c2-4478-cca7-3ef2daab697e"
      },
      "source": [
        "#Droping unnecessary variables\n",
        "train_data.drop(['car name'], axis=1, inplace=True)\n",
        "train_data.head()"
      ],
      "execution_count": null,
      "outputs": [
        {
          "output_type": "execute_result",
          "data": {
            "text/html": [
              "<div>\n",
              "<style scoped>\n",
              "    .dataframe tbody tr th:only-of-type {\n",
              "        vertical-align: middle;\n",
              "    }\n",
              "\n",
              "    .dataframe tbody tr th {\n",
              "        vertical-align: top;\n",
              "    }\n",
              "\n",
              "    .dataframe thead th {\n",
              "        text-align: right;\n",
              "    }\n",
              "</style>\n",
              "<table border=\"1\" class=\"dataframe\">\n",
              "  <thead>\n",
              "    <tr style=\"text-align: right;\">\n",
              "      <th></th>\n",
              "      <th>cylinders</th>\n",
              "      <th>displacement</th>\n",
              "      <th>horsepower</th>\n",
              "      <th>weight</th>\n",
              "      <th>acceleration</th>\n",
              "      <th>model year</th>\n",
              "      <th>origin</th>\n",
              "      <th>fuel (L/100km)</th>\n",
              "    </tr>\n",
              "  </thead>\n",
              "  <tbody>\n",
              "    <tr>\n",
              "      <th>0</th>\n",
              "      <td>4</td>\n",
              "      <td>106.0</td>\n",
              "      <td>63.00</td>\n",
              "      <td>2123.0</td>\n",
              "      <td>14.7</td>\n",
              "      <td>82</td>\n",
              "      <td>1</td>\n",
              "      <td>6.189737</td>\n",
              "    </tr>\n",
              "    <tr>\n",
              "      <th>1</th>\n",
              "      <td>8</td>\n",
              "      <td>400.0</td>\n",
              "      <td>150.0</td>\n",
              "      <td>3760.0</td>\n",
              "      <td>8.5</td>\n",
              "      <td>70</td>\n",
              "      <td>1</td>\n",
              "      <td>15.680667</td>\n",
              "    </tr>\n",
              "    <tr>\n",
              "      <th>2</th>\n",
              "      <td>4</td>\n",
              "      <td>104.0</td>\n",
              "      <td>70.00</td>\n",
              "      <td>2150.0</td>\n",
              "      <td>13.9</td>\n",
              "      <td>79</td>\n",
              "      <td>1</td>\n",
              "      <td>6.817681</td>\n",
              "    </tr>\n",
              "    <tr>\n",
              "      <th>3</th>\n",
              "      <td>4</td>\n",
              "      <td>92.0</td>\n",
              "      <td>68.00</td>\n",
              "      <td>-1971.0</td>\n",
              "      <td>17.6</td>\n",
              "      <td>82</td>\n",
              "      <td>3</td>\n",
              "      <td>7.587419</td>\n",
              "    </tr>\n",
              "    <tr>\n",
              "      <th>4</th>\n",
              "      <td>6</td>\n",
              "      <td>167.0</td>\n",
              "      <td>120.0</td>\n",
              "      <td>3819.0</td>\n",
              "      <td>16.7</td>\n",
              "      <td>76</td>\n",
              "      <td>2</td>\n",
              "      <td>14.255152</td>\n",
              "    </tr>\n",
              "  </tbody>\n",
              "</table>\n",
              "</div>"
            ],
            "text/plain": [
              "   cylinders  displacement  horsepower  ...  model year  origin  fuel (L/100km)\n",
              "0          4         106.0     63.00    ...          82       1        6.189737\n",
              "1          8         400.0     150.0    ...          70       1       15.680667\n",
              "2          4         104.0     70.00    ...          79       1        6.817681\n",
              "3          4          92.0     68.00    ...          82       3        7.587419\n",
              "4          6         167.0     120.0    ...          76       2       14.255152\n",
              "\n",
              "[5 rows x 8 columns]"
            ]
          },
          "metadata": {
            "tags": []
          },
          "execution_count": 65
        }
      ]
    },
    {
      "cell_type": "code",
      "metadata": {
        "execution": {
          "iopub.status.busy": "2021-08-08T08:53:14.571827Z",
          "iopub.execute_input": "2021-08-08T08:53:14.572174Z",
          "iopub.status.idle": "2021-08-08T08:53:14.588222Z",
          "shell.execute_reply.started": "2021-08-08T08:53:14.572138Z",
          "shell.execute_reply": "2021-08-08T08:53:14.586893Z"
        },
        "trusted": true,
        "id": "BzTe0FaxKd5J",
        "colab": {
          "base_uri": "https://localhost:8080/"
        },
        "outputId": "842ae624-1df0-4913-b63f-3f4fbc3e0374"
      },
      "source": [
        "#Finding and understanding variables\n",
        "# Checking unique records in 'cylinders','horsepower','model year', 'origin' covariates\n",
        "print(\"cylinders: \",train_data['cylinders'].unique())\n",
        "print(\"horsepower: \",train_data['horsepower'].unique())\n",
        "print(\"model year: \",train_data['model year'].unique())\n",
        "print(\"origin: \",train_data['origin'].unique())"
      ],
      "execution_count": null,
      "outputs": [
        {
          "output_type": "stream",
          "text": [
            "cylinders:  [4 8 6 5 3]\n",
            "horsepower:  ['   63.00  ' '   150.0  ' '   70.00  ' '   68.00  ' '   120.0  '\n",
            " '   49.00  ' '   97.00  ' '   74.00  ' '   88.00  ' '   170.0  '\n",
            " '   90.00  ' '   130.0  ' '   140.0  ' '   165.0  ' '   115.0  '\n",
            " '   78.00  ' '   81.00  ' '   180.0  ' '   95.00  ' '   75.00  '\n",
            " '   ?      ' '   85.00  ' '   125.0  ' '   190.0  ' '   52.00  '\n",
            " '   198.0  ' '   87.00  ' '   100.0  ' '   83.00  ' '   64.00  '\n",
            " '   110.0  ' '   108.0  ' '   72.00  ' '   67.00  ' '   53.00  '\n",
            " '   105.0  ' '   80.00  ' '   98.00  ' '   91.00  ' '   60.00  '\n",
            " '   142.0  ' '   62.00  ' '   77.00  ' '   132.0  ' '   175.0  '\n",
            " '   148.0  ' '   71.00  ' '   145.0  ' '   46.00  ' '   93.00  '\n",
            " '   122.0  ' '   139.0  ' '   79.00  ' '   84.00  ' '   215.0  '\n",
            " '   76.00  ' '   65.00  ' '   133.0  ' '   92.00  ' '   86.00  '\n",
            " '   220.0  ' '   137.0  ' '   61.00  ' '   69.00  ' '   149.0  '\n",
            " '   200.0  ' '   152.0  ' '   103.0  ' '   155.0  ' '   208.0  '\n",
            " '   129.0  ' '   96.00  ' '   210.0  ' '   113.0  ' '   102.0  '\n",
            " '   48.00  ' '   112.0  ' '   193.0  ' '   107.0  ' '   158.0  '\n",
            " '   230.0  ' '   58.00  ' '   54.00  ' '   94.00  ' '   66.00  '\n",
            " '   153.0  ' '   160.0  ']\n",
            "model year:  [82 70 79 76 73 71 75 77 78 72 74 81 80]\n",
            "origin:  [1 3 2]\n"
          ],
          "name": "stdout"
        }
      ]
    },
    {
      "cell_type": "markdown",
      "metadata": {
        "id": "MDybTCl1Kd5O"
      },
      "source": [
        "**The data shows that thereis no missing data nor unwanted discrepencies**"
      ]
    },
    {
      "cell_type": "code",
      "metadata": {
        "execution": {
          "iopub.status.busy": "2021-08-08T08:53:14.590082Z",
          "iopub.execute_input": "2021-08-08T08:53:14.590420Z",
          "iopub.status.idle": "2021-08-08T08:53:14.604716Z",
          "shell.execute_reply.started": "2021-08-08T08:53:14.590386Z",
          "shell.execute_reply": "2021-08-08T08:53:14.603106Z"
        },
        "trusted": true,
        "id": "sDWhJ1LqKd5Q"
      },
      "source": [
        "# For each observation found in horsepower (whwere there is ?) column using Numpy\n",
        "train_data.replace(train_data.iloc[23][['horsepower']],np.NaN,inplace=True)\n",
        "#Converint the string to float \n",
        "train_data['horsepower'] = train_data['horsepower'].astype('float64')\n",
        "\n",
        "#Imputing using the mean\n",
        "mean_horsepower=train_data['horsepower'].mean()\n",
        "\n",
        "train_data['horsepower'].replace(np.NaN,mean_horsepower,inplace=True)"
      ],
      "execution_count": null,
      "outputs": []
    },
    {
      "cell_type": "markdown",
      "metadata": {
        "id": "PmYIeda_Kd5U"
      },
      "source": [
        "# Visualizing the data"
      ]
    },
    {
      "cell_type": "code",
      "metadata": {
        "execution": {
          "iopub.status.busy": "2021-08-08T08:53:14.608901Z",
          "iopub.execute_input": "2021-08-08T08:53:14.609232Z",
          "iopub.status.idle": "2021-08-08T08:53:15.581417Z",
          "shell.execute_reply.started": "2021-08-08T08:53:14.609203Z",
          "shell.execute_reply": "2021-08-08T08:53:15.580302Z"
        },
        "trusted": true,
        "id": "lMJIpFg2Kd5U",
        "colab": {
          "base_uri": "https://localhost:8080/",
          "height": 222
        },
        "outputId": "45885530-740a-4d51-9d9d-3d043e182803"
      },
      "source": [
        "#visualize displacent\n",
        "plt.subplot(3,3,1, )\n",
        "plt.hist(train_data['displacement'], bins = 15)\n",
        "plt.title('A Histogram of car displacement')\n",
        "\n",
        "plt.subplot(3,3,2)\n",
        "plt.hist(train_data['horsepower'], bins = 15)\n",
        "plt.title('A Histogram of car horsepower')\n",
        "\n",
        "plt.subplot(3,3,3)\n",
        "plt.hist(train_data['acceleration'], bins = 15)\n",
        "plt.title('A Histogram of car acceleration')\n",
        "\n",
        "plt.subplot(3,3,4)\n",
        "plt.hist(train_data['weight'], bins = 15)\n",
        "plt.title('A Histogram of car weight')\n",
        "\n",
        "plt.subplot(3,3,5)\n",
        "plt.hist(train_data['cylinders'], bins = 15)\n",
        "plt.title('A Histogram of car cylinders')\n",
        "\n",
        "plt.subplot(3,3,6)\n",
        "plt.hist(train_data['model year'], bins = 15)\n",
        "plt.title('A Histogram of car model year')"
      ],
      "execution_count": null,
      "outputs": [
        {
          "output_type": "execute_result",
          "data": {
            "text/plain": [
              "Text(0.5, 1.0, 'A Histogram of car model year')"
            ]
          },
          "metadata": {
            "tags": []
          },
          "execution_count": 68
        },
        {
          "output_type": "display_data",
          "data": {
            "image/png": "[encoded data removed]",
            "text/plain": [
              "<Figure size 432x288 with 6 Axes>"
            ]
          },
          "metadata": {
            "tags": [],
            "needs_background": "light"
          }
        }
      ]
    },
    {
      "cell_type": "code",
      "metadata": {
        "execution": {
          "iopub.status.busy": "2021-08-08T08:53:15.584044Z",
          "iopub.execute_input": "2021-08-08T08:53:15.584454Z",
          "iopub.status.idle": "2021-08-08T08:53:15.754128Z",
          "shell.execute_reply.started": "2021-08-08T08:53:15.584411Z",
          "shell.execute_reply": "2021-08-08T08:53:15.752884Z"
        },
        "trusted": true,
        "id": "VdA7HQKQKd5Y",
        "colab": {
          "base_uri": "https://localhost:8080/",
          "height": 281
        },
        "outputId": "d41bb65a-dab6-4796-9b47-db4891aaf6a4"
      },
      "source": [
        "plt.hist(train_data['origin'], bins = 8)\n",
        "plt.title('A Histogram of car origin')\n",
        "plt.show()"
      ],
      "execution_count": null,
      "outputs": [
        {
          "output_type": "display_data",
          "data": {
            "image/png": "[encoded data removed]",
            "text/plain": [
              "<Figure size 432x288 with 1 Axes>"
            ]
          },
          "metadata": {
            "tags": [],
            "needs_background": "light"
          }
        }
      ]
    },
    {
      "cell_type": "code",
      "metadata": {
        "execution": {
          "iopub.status.busy": "2021-08-08T08:53:15.755495Z",
          "iopub.execute_input": "2021-08-08T08:53:15.755822Z",
          "iopub.status.idle": "2021-08-08T08:53:15.800086Z",
          "shell.execute_reply.started": "2021-08-08T08:53:15.755773Z",
          "shell.execute_reply": "2021-08-08T08:53:15.799013Z"
        },
        "trusted": true,
        "id": "yG58S-QIKd5Z",
        "colab": {
          "base_uri": "https://localhost:8080/",
          "height": 238
        },
        "outputId": "79d6790b-972d-4fdd-ed9d-dff63ae0631b"
      },
      "source": [
        "#dealing with outlier in training dataset\n",
        "#assign train_data to a new dataset for security purpose\n",
        "train_data_clean=train_data\n",
        "low = 0.05\n",
        "high = .95\n",
        "# Step 1: compute 5% percentile and the 95% percentile of each column in the dataset\n",
        "quantile_df = train_data_clean.quantile([low, high])\n",
        "quantile_df\n",
        "#Size of training dataset bofore removing outlier \n",
        "print('Number of rows before outlier removal: {}'.format(train_data_clean.shape[0]))\n",
        "#list_col = ['displacement', 'horsepower','weight', 'acceleration']\n",
        "list_col = ['weight']\n",
        "for column in list_col:\n",
        "   train_data_clean = train_data_clean[(train_data_clean[column] > quantile_df.loc[0.05, column]) & (train_data_clean[column] < quantile_df.loc[0.95, column])]\n",
        "#size of training data after removing outlier\n",
        "print('Number of rows after outlier removal: {}'.format(train_data_clean.shape[0]))\n",
        "train_data_clean.head()"
      ],
      "execution_count": null,
      "outputs": [
        {
          "output_type": "stream",
          "text": [
            "Number of rows before outlier removal: 298\n",
            "Number of rows after outlier removal: 268\n"
          ],
          "name": "stdout"
        },
        {
          "output_type": "execute_result",
          "data": {
            "text/html": [
              "<div>\n",
              "<style scoped>\n",
              "    .dataframe tbody tr th:only-of-type {\n",
              "        vertical-align: middle;\n",
              "    }\n",
              "\n",
              "    .dataframe tbody tr th {\n",
              "        vertical-align: top;\n",
              "    }\n",
              "\n",
              "    .dataframe thead th {\n",
              "        text-align: right;\n",
              "    }\n",
              "</style>\n",
              "<table border=\"1\" class=\"dataframe\">\n",
              "  <thead>\n",
              "    <tr style=\"text-align: right;\">\n",
              "      <th></th>\n",
              "      <th>cylinders</th>\n",
              "      <th>displacement</th>\n",
              "      <th>horsepower</th>\n",
              "      <th>weight</th>\n",
              "      <th>acceleration</th>\n",
              "      <th>model year</th>\n",
              "      <th>origin</th>\n",
              "      <th>fuel (L/100km)</th>\n",
              "    </tr>\n",
              "  </thead>\n",
              "  <tbody>\n",
              "    <tr>\n",
              "      <th>0</th>\n",
              "      <td>4</td>\n",
              "      <td>106.0</td>\n",
              "      <td>63.0</td>\n",
              "      <td>2123.0</td>\n",
              "      <td>14.7</td>\n",
              "      <td>82</td>\n",
              "      <td>1</td>\n",
              "      <td>6.189737</td>\n",
              "    </tr>\n",
              "    <tr>\n",
              "      <th>1</th>\n",
              "      <td>8</td>\n",
              "      <td>400.0</td>\n",
              "      <td>150.0</td>\n",
              "      <td>3760.0</td>\n",
              "      <td>8.5</td>\n",
              "      <td>70</td>\n",
              "      <td>1</td>\n",
              "      <td>15.680667</td>\n",
              "    </tr>\n",
              "    <tr>\n",
              "      <th>2</th>\n",
              "      <td>4</td>\n",
              "      <td>104.0</td>\n",
              "      <td>70.0</td>\n",
              "      <td>2150.0</td>\n",
              "      <td>13.9</td>\n",
              "      <td>79</td>\n",
              "      <td>1</td>\n",
              "      <td>6.817681</td>\n",
              "    </tr>\n",
              "    <tr>\n",
              "      <th>4</th>\n",
              "      <td>6</td>\n",
              "      <td>167.0</td>\n",
              "      <td>120.0</td>\n",
              "      <td>3819.0</td>\n",
              "      <td>16.7</td>\n",
              "      <td>76</td>\n",
              "      <td>2</td>\n",
              "      <td>14.255152</td>\n",
              "    </tr>\n",
              "    <tr>\n",
              "      <th>5</th>\n",
              "      <td>4</td>\n",
              "      <td>67.0</td>\n",
              "      <td>49.0</td>\n",
              "      <td>1865.0</td>\n",
              "      <td>18.5</td>\n",
              "      <td>73</td>\n",
              "      <td>2</td>\n",
              "      <td>8.110690</td>\n",
              "    </tr>\n",
              "  </tbody>\n",
              "</table>\n",
              "</div>"
            ],
            "text/plain": [
              "   cylinders  displacement  horsepower  ...  model year  origin  fuel (L/100km)\n",
              "0          4         106.0        63.0  ...          82       1        6.189737\n",
              "1          8         400.0       150.0  ...          70       1       15.680667\n",
              "2          4         104.0        70.0  ...          79       1        6.817681\n",
              "4          6         167.0       120.0  ...          76       2       14.255152\n",
              "5          4          67.0        49.0  ...          73       2        8.110690\n",
              "\n",
              "[5 rows x 8 columns]"
            ]
          },
          "metadata": {
            "tags": []
          },
          "execution_count": 70
        }
      ]
    },
    {
      "cell_type": "code",
      "metadata": {
        "execution": {
          "iopub.status.busy": "2021-08-08T08:53:15.801610Z",
          "iopub.execute_input": "2021-08-08T08:53:15.802018Z",
          "iopub.status.idle": "2021-08-08T08:53:15.810963Z",
          "shell.execute_reply.started": "2021-08-08T08:53:15.801985Z",
          "shell.execute_reply": "2021-08-08T08:53:15.809665Z"
        },
        "trusted": true,
        "id": "xz0oMeq_Kd5d",
        "colab": {
          "base_uri": "https://localhost:8080/"
        },
        "outputId": "ae056f95-b401-4630-e8a9-d73e52f5f68b"
      },
      "source": [
        "# Preparing the Train dataset\n",
        "#Defining Y_train\n",
        "train_data_clean=train_data\n",
        "y_train=train_data_clean['fuel (L/100km)']\n",
        "y_train.head()"
      ],
      "execution_count": null,
      "outputs": [
        {
          "output_type": "execute_result",
          "data": {
            "text/plain": [
              "0     6.189737\n",
              "1    15.680667\n",
              "2     6.817681\n",
              "3     7.587419\n",
              "4    14.255152\n",
              "Name: fuel (L/100km), dtype: float64"
            ]
          },
          "metadata": {
            "tags": []
          },
          "execution_count": 71
        }
      ]
    },
    {
      "cell_type": "code",
      "metadata": {
        "execution": {
          "iopub.status.busy": "2021-08-08T08:53:15.812761Z",
          "iopub.execute_input": "2021-08-08T08:53:15.813211Z",
          "iopub.status.idle": "2021-08-08T08:53:15.836940Z",
          "shell.execute_reply.started": "2021-08-08T08:53:15.813167Z",
          "shell.execute_reply": "2021-08-08T08:53:15.835504Z"
        },
        "trusted": true,
        "id": "jYpa22MYKd5g",
        "colab": {
          "base_uri": "https://localhost:8080/",
          "height": 204
        },
        "outputId": "e80f697f-7f5b-431f-cca7-278b16e58226"
      },
      "source": [
        "#extract training covariates from training dataset\n",
        "train_data_clean.drop(['fuel (L/100km)'], axis=1, inplace=True)\n",
        "train_data_clean.head()"
      ],
      "execution_count": null,
      "outputs": [
        {
          "output_type": "execute_result",
          "data": {
            "text/html": [
              "<div>\n",
              "<style scoped>\n",
              "    .dataframe tbody tr th:only-of-type {\n",
              "        vertical-align: middle;\n",
              "    }\n",
              "\n",
              "    .dataframe tbody tr th {\n",
              "        vertical-align: top;\n",
              "    }\n",
              "\n",
              "    .dataframe thead th {\n",
              "        text-align: right;\n",
              "    }\n",
              "</style>\n",
              "<table border=\"1\" class=\"dataframe\">\n",
              "  <thead>\n",
              "    <tr style=\"text-align: right;\">\n",
              "      <th></th>\n",
              "      <th>cylinders</th>\n",
              "      <th>displacement</th>\n",
              "      <th>horsepower</th>\n",
              "      <th>weight</th>\n",
              "      <th>acceleration</th>\n",
              "      <th>model year</th>\n",
              "      <th>origin</th>\n",
              "    </tr>\n",
              "  </thead>\n",
              "  <tbody>\n",
              "    <tr>\n",
              "      <th>0</th>\n",
              "      <td>4</td>\n",
              "      <td>106.0</td>\n",
              "      <td>63.0</td>\n",
              "      <td>2123.0</td>\n",
              "      <td>14.7</td>\n",
              "      <td>82</td>\n",
              "      <td>1</td>\n",
              "    </tr>\n",
              "    <tr>\n",
              "      <th>1</th>\n",
              "      <td>8</td>\n",
              "      <td>400.0</td>\n",
              "      <td>150.0</td>\n",
              "      <td>3760.0</td>\n",
              "      <td>8.5</td>\n",
              "      <td>70</td>\n",
              "      <td>1</td>\n",
              "    </tr>\n",
              "    <tr>\n",
              "      <th>2</th>\n",
              "      <td>4</td>\n",
              "      <td>104.0</td>\n",
              "      <td>70.0</td>\n",
              "      <td>2150.0</td>\n",
              "      <td>13.9</td>\n",
              "      <td>79</td>\n",
              "      <td>1</td>\n",
              "    </tr>\n",
              "    <tr>\n",
              "      <th>3</th>\n",
              "      <td>4</td>\n",
              "      <td>92.0</td>\n",
              "      <td>68.0</td>\n",
              "      <td>-1971.0</td>\n",
              "      <td>17.6</td>\n",
              "      <td>82</td>\n",
              "      <td>3</td>\n",
              "    </tr>\n",
              "    <tr>\n",
              "      <th>4</th>\n",
              "      <td>6</td>\n",
              "      <td>167.0</td>\n",
              "      <td>120.0</td>\n",
              "      <td>3819.0</td>\n",
              "      <td>16.7</td>\n",
              "      <td>76</td>\n",
              "      <td>2</td>\n",
              "    </tr>\n",
              "  </tbody>\n",
              "</table>\n",
              "</div>"
            ],
            "text/plain": [
              "   cylinders  displacement  horsepower  ...  acceleration  model year  origin\n",
              "0          4         106.0        63.0  ...          14.7          82       1\n",
              "1          8         400.0       150.0  ...           8.5          70       1\n",
              "2          4         104.0        70.0  ...          13.9          79       1\n",
              "3          4          92.0        68.0  ...          17.6          82       3\n",
              "4          6         167.0       120.0  ...          16.7          76       2\n",
              "\n",
              "[5 rows x 7 columns]"
            ]
          },
          "metadata": {
            "tags": []
          },
          "execution_count": 72
        }
      ]
    },
    {
      "cell_type": "code",
      "metadata": {
        "execution": {
          "iopub.status.busy": "2021-08-08T08:53:15.838617Z",
          "iopub.execute_input": "2021-08-08T08:53:15.839031Z",
          "iopub.status.idle": "2021-08-08T08:53:15.856859Z",
          "shell.execute_reply.started": "2021-08-08T08:53:15.838995Z",
          "shell.execute_reply": "2021-08-08T08:53:15.855665Z"
        },
        "trusted": true,
        "id": "IT_pqVRkKd5j",
        "colab": {
          "base_uri": "https://localhost:8080/"
        },
        "outputId": "1f0fe7ec-5ea8-4e61-f569-eb1bad611866"
      },
      "source": [
        "train_data_clean.info()"
      ],
      "execution_count": null,
      "outputs": [
        {
          "output_type": "stream",
          "text": [
            "<class 'pandas.core.frame.DataFrame'>\n",
            "RangeIndex: 298 entries, 0 to 297\n",
            "Data columns (total 7 columns):\n",
            " #   Column        Non-Null Count  Dtype  \n",
            "---  ------        --------------  -----  \n",
            " 0   cylinders     298 non-null    int64  \n",
            " 1   displacement  298 non-null    float64\n",
            " 2   horsepower    298 non-null    float64\n",
            " 3   weight        298 non-null    float64\n",
            " 4   acceleration  298 non-null    float64\n",
            " 5   model year    298 non-null    int64  \n",
            " 6   origin        298 non-null    int64  \n",
            "dtypes: float64(4), int64(3)\n",
            "memory usage: 16.4 KB\n"
          ],
          "name": "stdout"
        }
      ]
    },
    {
      "cell_type": "code",
      "metadata": {
        "execution": {
          "iopub.status.busy": "2021-08-08T08:53:15.858168Z",
          "iopub.execute_input": "2021-08-08T08:53:15.858516Z",
          "iopub.status.idle": "2021-08-08T08:53:15.901166Z",
          "shell.execute_reply.started": "2021-08-08T08:53:15.858486Z",
          "shell.execute_reply": "2021-08-08T08:53:15.899876Z"
        },
        "trusted": true,
        "id": "3s9eZBozKd5k",
        "colab": {
          "base_uri": "https://localhost:8080/",
          "height": 224
        },
        "outputId": "ea98023c-a657-436e-c59d-36db261f86bc"
      },
      "source": [
        "\n",
        "## Encoding the covariate 'cylinders','model year','origin' on training dataset for prediction\n",
        "train_df=train_data_clean\n",
        "one_hot_cylinders_t = pd.get_dummies(train_df['cylinders'], prefix='cylinders')\n",
        "one_hot_year_t = pd.get_dummies(train_df['model year'], prefix='model_year')\n",
        "one_hot_origin_t = pd.get_dummies(train_df['origin'], prefix='origin')\n",
        "train_df = pd.concat([train_df, one_hot_cylinders_t], axis=1)\n",
        "train_df= pd.concat([train_df, one_hot_year_t], axis=1)\n",
        "train_df = pd.concat([train_df, one_hot_origin_t], axis=1)\n",
        "train_df.drop(['cylinders'], axis=1, inplace=True)\n",
        "train_df.drop(['origin'], axis=1, inplace=True)\n",
        "train_df.drop(['model year'], axis=1, inplace=True)\n",
        "train_df.head()"
      ],
      "execution_count": null,
      "outputs": [
        {
          "output_type": "execute_result",
          "data": {
            "text/html": [
              "<div>\n",
              "<style scoped>\n",
              "    .dataframe tbody tr th:only-of-type {\n",
              "        vertical-align: middle;\n",
              "    }\n",
              "\n",
              "    .dataframe tbody tr th {\n",
              "        vertical-align: top;\n",
              "    }\n",
              "\n",
              "    .dataframe thead th {\n",
              "        text-align: right;\n",
              "    }\n",
              "</style>\n",
              "<table border=\"1\" class=\"dataframe\">\n",
              "  <thead>\n",
              "    <tr style=\"text-align: right;\">\n",
              "      <th></th>\n",
              "      <th>displacement</th>\n",
              "      <th>horsepower</th>\n",
              "      <th>weight</th>\n",
              "      <th>acceleration</th>\n",
              "      <th>cylinders_3</th>\n",
              "      <th>cylinders_4</th>\n",
              "      <th>cylinders_5</th>\n",
              "      <th>cylinders_6</th>\n",
              "      <th>cylinders_8</th>\n",
              "      <th>model_year_70</th>\n",
              "      <th>model_year_71</th>\n",
              "      <th>model_year_72</th>\n",
              "      <th>model_year_73</th>\n",
              "      <th>model_year_74</th>\n",
              "      <th>model_year_75</th>\n",
              "      <th>model_year_76</th>\n",
              "      <th>model_year_77</th>\n",
              "      <th>model_year_78</th>\n",
              "      <th>model_year_79</th>\n",
              "      <th>model_year_80</th>\n",
              "      <th>model_year_81</th>\n",
              "      <th>model_year_82</th>\n",
              "      <th>origin_1</th>\n",
              "      <th>origin_2</th>\n",
              "      <th>origin_3</th>\n",
              "    </tr>\n",
              "  </thead>\n",
              "  <tbody>\n",
              "    <tr>\n",
              "      <th>0</th>\n",
              "      <td>106.0</td>\n",
              "      <td>63.0</td>\n",
              "      <td>2123.0</td>\n",
              "      <td>14.7</td>\n",
              "      <td>0</td>\n",
              "      <td>1</td>\n",
              "      <td>0</td>\n",
              "      <td>0</td>\n",
              "      <td>0</td>\n",
              "      <td>0</td>\n",
              "      <td>0</td>\n",
              "      <td>0</td>\n",
              "      <td>0</td>\n",
              "      <td>0</td>\n",
              "      <td>0</td>\n",
              "      <td>0</td>\n",
              "      <td>0</td>\n",
              "      <td>0</td>\n",
              "      <td>0</td>\n",
              "      <td>0</td>\n",
              "      <td>0</td>\n",
              "      <td>1</td>\n",
              "      <td>1</td>\n",
              "      <td>0</td>\n",
              "      <td>0</td>\n",
              "    </tr>\n",
              "    <tr>\n",
              "      <th>1</th>\n",
              "      <td>400.0</td>\n",
              "      <td>150.0</td>\n",
              "      <td>3760.0</td>\n",
              "      <td>8.5</td>\n",
              "      <td>0</td>\n",
              "      <td>0</td>\n",
              "      <td>0</td>\n",
              "      <td>0</td>\n",
              "      <td>1</td>\n",
              "      <td>1</td>\n",
              "      <td>0</td>\n",
              "      <td>0</td>\n",
              "      <td>0</td>\n",
              "      <td>0</td>\n",
              "      <td>0</td>\n",
              "      <td>0</td>\n",
              "      <td>0</td>\n",
              "      <td>0</td>\n",
              "      <td>0</td>\n",
              "      <td>0</td>\n",
              "      <td>0</td>\n",
              "      <td>0</td>\n",
              "      <td>1</td>\n",
              "      <td>0</td>\n",
              "      <td>0</td>\n",
              "    </tr>\n",
              "    <tr>\n",
              "      <th>2</th>\n",
              "      <td>104.0</td>\n",
              "      <td>70.0</td>\n",
              "      <td>2150.0</td>\n",
              "      <td>13.9</td>\n",
              "      <td>0</td>\n",
              "      <td>1</td>\n",
              "      <td>0</td>\n",
              "      <td>0</td>\n",
              "      <td>0</td>\n",
              "      <td>0</td>\n",
              "      <td>0</td>\n",
              "      <td>0</td>\n",
              "      <td>0</td>\n",
              "      <td>0</td>\n",
              "      <td>0</td>\n",
              "      <td>0</td>\n",
              "      <td>0</td>\n",
              "      <td>0</td>\n",
              "      <td>1</td>\n",
              "      <td>0</td>\n",
              "      <td>0</td>\n",
              "      <td>0</td>\n",
              "      <td>1</td>\n",
              "      <td>0</td>\n",
              "      <td>0</td>\n",
              "    </tr>\n",
              "    <tr>\n",
              "      <th>3</th>\n",
              "      <td>92.0</td>\n",
              "      <td>68.0</td>\n",
              "      <td>-1971.0</td>\n",
              "      <td>17.6</td>\n",
              "      <td>0</td>\n",
              "      <td>1</td>\n",
              "      <td>0</td>\n",
              "      <td>0</td>\n",
              "      <td>0</td>\n",
              "      <td>0</td>\n",
              "      <td>0</td>\n",
              "      <td>0</td>\n",
              "      <td>0</td>\n",
              "      <td>0</td>\n",
              "      <td>0</td>\n",
              "      <td>0</td>\n",
              "      <td>0</td>\n",
              "      <td>0</td>\n",
              "      <td>0</td>\n",
              "      <td>0</td>\n",
              "      <td>0</td>\n",
              "      <td>1</td>\n",
              "      <td>0</td>\n",
              "      <td>0</td>\n",
              "      <td>1</td>\n",
              "    </tr>\n",
              "    <tr>\n",
              "      <th>4</th>\n",
              "      <td>167.0</td>\n",
              "      <td>120.0</td>\n",
              "      <td>3819.0</td>\n",
              "      <td>16.7</td>\n",
              "      <td>0</td>\n",
              "      <td>0</td>\n",
              "      <td>0</td>\n",
              "      <td>1</td>\n",
              "      <td>0</td>\n",
              "      <td>0</td>\n",
              "      <td>0</td>\n",
              "      <td>0</td>\n",
              "      <td>0</td>\n",
              "      <td>0</td>\n",
              "      <td>0</td>\n",
              "      <td>1</td>\n",
              "      <td>0</td>\n",
              "      <td>0</td>\n",
              "      <td>0</td>\n",
              "      <td>0</td>\n",
              "      <td>0</td>\n",
              "      <td>0</td>\n",
              "      <td>0</td>\n",
              "      <td>1</td>\n",
              "      <td>0</td>\n",
              "    </tr>\n",
              "  </tbody>\n",
              "</table>\n",
              "</div>"
            ],
            "text/plain": [
              "   displacement  horsepower  weight  ...  origin_1  origin_2  origin_3\n",
              "0         106.0        63.0  2123.0  ...         1         0         0\n",
              "1         400.0       150.0  3760.0  ...         1         0         0\n",
              "2         104.0        70.0  2150.0  ...         1         0         0\n",
              "3          92.0        68.0 -1971.0  ...         0         0         1\n",
              "4         167.0       120.0  3819.0  ...         0         1         0\n",
              "\n",
              "[5 rows x 25 columns]"
            ]
          },
          "metadata": {
            "tags": []
          },
          "execution_count": 74
        }
      ]
    },
    {
      "cell_type": "code",
      "metadata": {
        "execution": {
          "iopub.status.busy": "2021-08-08T08:53:15.902759Z",
          "iopub.execute_input": "2021-08-08T08:53:15.903173Z",
          "iopub.status.idle": "2021-08-08T08:53:15.943191Z",
          "shell.execute_reply.started": "2021-08-08T08:53:15.903134Z",
          "shell.execute_reply": "2021-08-08T08:53:15.941849Z"
        },
        "trusted": true,
        "id": "wr7sJRL5Kd5l",
        "colab": {
          "base_uri": "https://localhost:8080/",
          "height": 297
        },
        "outputId": "c8d6da8a-185d-4035-9576-65f56b4a6b62"
      },
      "source": [
        "#Applying the train to test data\n",
        "#summary of descriptive statistics on testing data\n",
        "test_data.describe()"
      ],
      "execution_count": null,
      "outputs": [
        {
          "output_type": "execute_result",
          "data": {
            "text/html": [
              "<div>\n",
              "<style scoped>\n",
              "    .dataframe tbody tr th:only-of-type {\n",
              "        vertical-align: middle;\n",
              "    }\n",
              "\n",
              "    .dataframe tbody tr th {\n",
              "        vertical-align: top;\n",
              "    }\n",
              "\n",
              "    .dataframe thead th {\n",
              "        text-align: right;\n",
              "    }\n",
              "</style>\n",
              "<table border=\"1\" class=\"dataframe\">\n",
              "  <thead>\n",
              "    <tr style=\"text-align: right;\">\n",
              "      <th></th>\n",
              "      <th>cylinders</th>\n",
              "      <th>displacement</th>\n",
              "      <th>horsepower</th>\n",
              "      <th>weight</th>\n",
              "      <th>acceleration</th>\n",
              "      <th>model year</th>\n",
              "      <th>origin</th>\n",
              "    </tr>\n",
              "  </thead>\n",
              "  <tbody>\n",
              "    <tr>\n",
              "      <th>count</th>\n",
              "      <td>100.000000</td>\n",
              "      <td>100.000000</td>\n",
              "      <td>100.000000</td>\n",
              "      <td>100.000000</td>\n",
              "      <td>100.000000</td>\n",
              "      <td>100.000000</td>\n",
              "      <td>100.000000</td>\n",
              "    </tr>\n",
              "    <tr>\n",
              "      <th>mean</th>\n",
              "      <td>5.580000</td>\n",
              "      <td>204.130000</td>\n",
              "      <td>104.960000</td>\n",
              "      <td>3025.160000</td>\n",
              "      <td>15.643000</td>\n",
              "      <td>76.000000</td>\n",
              "      <td>1.560000</td>\n",
              "    </tr>\n",
              "    <tr>\n",
              "      <th>std</th>\n",
              "      <td>1.753381</td>\n",
              "      <td>109.301054</td>\n",
              "      <td>39.082384</td>\n",
              "      <td>855.939365</td>\n",
              "      <td>3.029827</td>\n",
              "      <td>3.717282</td>\n",
              "      <td>0.832666</td>\n",
              "    </tr>\n",
              "    <tr>\n",
              "      <th>min</th>\n",
              "      <td>3.000000</td>\n",
              "      <td>71.000000</td>\n",
              "      <td>46.000000</td>\n",
              "      <td>1772.000000</td>\n",
              "      <td>9.000000</td>\n",
              "      <td>70.000000</td>\n",
              "      <td>1.000000</td>\n",
              "    </tr>\n",
              "    <tr>\n",
              "      <th>25%</th>\n",
              "      <td>4.000000</td>\n",
              "      <td>99.000000</td>\n",
              "      <td>77.250000</td>\n",
              "      <td>2284.250000</td>\n",
              "      <td>13.575000</td>\n",
              "      <td>73.000000</td>\n",
              "      <td>1.000000</td>\n",
              "    </tr>\n",
              "    <tr>\n",
              "      <th>50%</th>\n",
              "      <td>6.000000</td>\n",
              "      <td>171.000000</td>\n",
              "      <td>95.000000</td>\n",
              "      <td>2859.500000</td>\n",
              "      <td>15.500000</td>\n",
              "      <td>76.000000</td>\n",
              "      <td>1.000000</td>\n",
              "    </tr>\n",
              "    <tr>\n",
              "      <th>75%</th>\n",
              "      <td>8.000000</td>\n",
              "      <td>302.500000</td>\n",
              "      <td>126.000000</td>\n",
              "      <td>3724.000000</td>\n",
              "      <td>17.850000</td>\n",
              "      <td>79.000000</td>\n",
              "      <td>2.000000</td>\n",
              "    </tr>\n",
              "    <tr>\n",
              "      <th>max</th>\n",
              "      <td>8.000000</td>\n",
              "      <td>456.000000</td>\n",
              "      <td>225.000000</td>\n",
              "      <td>4949.000000</td>\n",
              "      <td>23.600000</td>\n",
              "      <td>82.000000</td>\n",
              "      <td>3.000000</td>\n",
              "    </tr>\n",
              "  </tbody>\n",
              "</table>\n",
              "</div>"
            ],
            "text/plain": [
              "        cylinders  displacement  ...  model year      origin\n",
              "count  100.000000    100.000000  ...  100.000000  100.000000\n",
              "mean     5.580000    204.130000  ...   76.000000    1.560000\n",
              "std      1.753381    109.301054  ...    3.717282    0.832666\n",
              "min      3.000000     71.000000  ...   70.000000    1.000000\n",
              "25%      4.000000     99.000000  ...   73.000000    1.000000\n",
              "50%      6.000000    171.000000  ...   76.000000    1.000000\n",
              "75%      8.000000    302.500000  ...   79.000000    2.000000\n",
              "max      8.000000    456.000000  ...   82.000000    3.000000\n",
              "\n",
              "[8 rows x 7 columns]"
            ]
          },
          "metadata": {
            "tags": []
          },
          "execution_count": 75
        }
      ]
    },
    {
      "cell_type": "code",
      "metadata": {
        "execution": {
          "iopub.status.busy": "2021-08-08T08:53:15.945075Z",
          "iopub.execute_input": "2021-08-08T08:53:15.945489Z",
          "iopub.status.idle": "2021-08-08T08:53:15.968341Z",
          "shell.execute_reply.started": "2021-08-08T08:53:15.945446Z",
          "shell.execute_reply": "2021-08-08T08:53:15.966681Z"
        },
        "trusted": true,
        "id": "HqpFLF4vKd5l",
        "colab": {
          "base_uri": "https://localhost:8080/",
          "height": 204
        },
        "outputId": "58ebf88a-194d-4bca-d104-9c66fa8e6246"
      },
      "source": [
        "#dropping 'car name'\n",
        "test_data.drop(['car name'], axis=1,inplace=True)\n",
        "test_data.head()"
      ],
      "execution_count": null,
      "outputs": [
        {
          "output_type": "execute_result",
          "data": {
            "text/html": [
              "<div>\n",
              "<style scoped>\n",
              "    .dataframe tbody tr th:only-of-type {\n",
              "        vertical-align: middle;\n",
              "    }\n",
              "\n",
              "    .dataframe tbody tr th {\n",
              "        vertical-align: top;\n",
              "    }\n",
              "\n",
              "    .dataframe thead th {\n",
              "        text-align: right;\n",
              "    }\n",
              "</style>\n",
              "<table border=\"1\" class=\"dataframe\">\n",
              "  <thead>\n",
              "    <tr style=\"text-align: right;\">\n",
              "      <th></th>\n",
              "      <th>cylinders</th>\n",
              "      <th>displacement</th>\n",
              "      <th>horsepower</th>\n",
              "      <th>weight</th>\n",
              "      <th>acceleration</th>\n",
              "      <th>model year</th>\n",
              "      <th>origin</th>\n",
              "    </tr>\n",
              "  </thead>\n",
              "  <tbody>\n",
              "    <tr>\n",
              "      <th>0</th>\n",
              "      <td>4</td>\n",
              "      <td>122.0</td>\n",
              "      <td>80.0</td>\n",
              "      <td>2450.0</td>\n",
              "      <td>15.5</td>\n",
              "      <td>74</td>\n",
              "      <td>1</td>\n",
              "    </tr>\n",
              "    <tr>\n",
              "      <th>1</th>\n",
              "      <td>6</td>\n",
              "      <td>257.0</td>\n",
              "      <td>95.0</td>\n",
              "      <td>3191.0</td>\n",
              "      <td>17.8</td>\n",
              "      <td>76</td>\n",
              "      <td>1</td>\n",
              "    </tr>\n",
              "    <tr>\n",
              "      <th>2</th>\n",
              "      <td>4</td>\n",
              "      <td>87.0</td>\n",
              "      <td>65.0</td>\n",
              "      <td>2108.0</td>\n",
              "      <td>18.9</td>\n",
              "      <td>80</td>\n",
              "      <td>3</td>\n",
              "    </tr>\n",
              "    <tr>\n",
              "      <th>3</th>\n",
              "      <td>8</td>\n",
              "      <td>399.0</td>\n",
              "      <td>167.0</td>\n",
              "      <td>4906.0</td>\n",
              "      <td>12.5</td>\n",
              "      <td>73</td>\n",
              "      <td>1</td>\n",
              "    </tr>\n",
              "    <tr>\n",
              "      <th>4</th>\n",
              "      <td>8</td>\n",
              "      <td>399.0</td>\n",
              "      <td>150.0</td>\n",
              "      <td>4462.0</td>\n",
              "      <td>13.0</td>\n",
              "      <td>73</td>\n",
              "      <td>1</td>\n",
              "    </tr>\n",
              "  </tbody>\n",
              "</table>\n",
              "</div>"
            ],
            "text/plain": [
              "   cylinders  displacement  horsepower  ...  acceleration  model year  origin\n",
              "0          4         122.0        80.0  ...          15.5          74       1\n",
              "1          6         257.0        95.0  ...          17.8          76       1\n",
              "2          4          87.0        65.0  ...          18.9          80       3\n",
              "3          8         399.0       167.0  ...          12.5          73       1\n",
              "4          8         399.0       150.0  ...          13.0          73       1\n",
              "\n",
              "[5 rows x 7 columns]"
            ]
          },
          "metadata": {
            "tags": []
          },
          "execution_count": 76
        }
      ]
    },
    {
      "cell_type": "code",
      "metadata": {
        "execution": {
          "iopub.status.busy": "2021-08-08T08:53:15.970184Z",
          "iopub.execute_input": "2021-08-08T08:53:15.970588Z",
          "iopub.status.idle": "2021-08-08T08:53:15.996338Z",
          "shell.execute_reply.started": "2021-08-08T08:53:15.970547Z",
          "shell.execute_reply": "2021-08-08T08:53:15.995158Z"
        },
        "trusted": true,
        "id": "rl2DHvQGKd5m"
      },
      "source": [
        "# one hot encode the covariate 'cylinders','model year','origin' on testing dataset\n",
        "#set the new testing dataset for security purpose of loosing data\n",
        "test_data_clean=test_data\n",
        "one_hot_cylinders_t = pd.get_dummies(test_data_clean['cylinders'], prefix='cylinders')\n",
        "one_hot_year_t = pd.get_dummies(test_data_clean['model year'], prefix='model_year')\n",
        "one_hot_origin_t = pd.get_dummies(test_data_clean['origin'], prefix='origin')\n",
        "test_data_clean = pd.concat([test_data_clean, one_hot_cylinders_t], axis=1)\n",
        "test_data_clean = pd.concat([test_data_clean, one_hot_year_t], axis=1)\n",
        "test_data_clean = pd.concat([test_data_clean, one_hot_origin_t], axis=1)\n",
        "test_data_clean.drop(['cylinders'], axis=1, inplace=True)\n",
        "test_data_clean.drop(['model year'], axis=1, inplace=True)\n",
        "test_data_clean.drop(['origin'], axis=1, inplace=True)"
      ],
      "execution_count": null,
      "outputs": []
    },
    {
      "cell_type": "code",
      "metadata": {
        "execution": {
          "iopub.status.busy": "2021-08-08T08:53:15.998116Z",
          "iopub.execute_input": "2021-08-08T08:53:15.998397Z",
          "iopub.status.idle": "2021-08-08T08:53:16.031604Z",
          "shell.execute_reply.started": "2021-08-08T08:53:15.998368Z",
          "shell.execute_reply": "2021-08-08T08:53:16.029105Z"
        },
        "trusted": true,
        "id": "sv297HSgKd5n",
        "colab": {
          "base_uri": "https://localhost:8080/",
          "height": 224
        },
        "outputId": "b78abd7c-a276-4f42-afed-17eb57fb2ce7"
      },
      "source": [
        "# Checking\n",
        "train_df.head()"
      ],
      "execution_count": null,
      "outputs": [
        {
          "output_type": "execute_result",
          "data": {
            "text/html": [
              "<div>\n",
              "<style scoped>\n",
              "    .dataframe tbody tr th:only-of-type {\n",
              "        vertical-align: middle;\n",
              "    }\n",
              "\n",
              "    .dataframe tbody tr th {\n",
              "        vertical-align: top;\n",
              "    }\n",
              "\n",
              "    .dataframe thead th {\n",
              "        text-align: right;\n",
              "    }\n",
              "</style>\n",
              "<table border=\"1\" class=\"dataframe\">\n",
              "  <thead>\n",
              "    <tr style=\"text-align: right;\">\n",
              "      <th></th>\n",
              "      <th>displacement</th>\n",
              "      <th>horsepower</th>\n",
              "      <th>weight</th>\n",
              "      <th>acceleration</th>\n",
              "      <th>cylinders_3</th>\n",
              "      <th>cylinders_4</th>\n",
              "      <th>cylinders_5</th>\n",
              "      <th>cylinders_6</th>\n",
              "      <th>cylinders_8</th>\n",
              "      <th>model_year_70</th>\n",
              "      <th>model_year_71</th>\n",
              "      <th>model_year_72</th>\n",
              "      <th>model_year_73</th>\n",
              "      <th>model_year_74</th>\n",
              "      <th>model_year_75</th>\n",
              "      <th>model_year_76</th>\n",
              "      <th>model_year_77</th>\n",
              "      <th>model_year_78</th>\n",
              "      <th>model_year_79</th>\n",
              "      <th>model_year_80</th>\n",
              "      <th>model_year_81</th>\n",
              "      <th>model_year_82</th>\n",
              "      <th>origin_1</th>\n",
              "      <th>origin_2</th>\n",
              "      <th>origin_3</th>\n",
              "    </tr>\n",
              "  </thead>\n",
              "  <tbody>\n",
              "    <tr>\n",
              "      <th>0</th>\n",
              "      <td>106.0</td>\n",
              "      <td>63.0</td>\n",
              "      <td>2123.0</td>\n",
              "      <td>14.7</td>\n",
              "      <td>0</td>\n",
              "      <td>1</td>\n",
              "      <td>0</td>\n",
              "      <td>0</td>\n",
              "      <td>0</td>\n",
              "      <td>0</td>\n",
              "      <td>0</td>\n",
              "      <td>0</td>\n",
              "      <td>0</td>\n",
              "      <td>0</td>\n",
              "      <td>0</td>\n",
              "      <td>0</td>\n",
              "      <td>0</td>\n",
              "      <td>0</td>\n",
              "      <td>0</td>\n",
              "      <td>0</td>\n",
              "      <td>0</td>\n",
              "      <td>1</td>\n",
              "      <td>1</td>\n",
              "      <td>0</td>\n",
              "      <td>0</td>\n",
              "    </tr>\n",
              "    <tr>\n",
              "      <th>1</th>\n",
              "      <td>400.0</td>\n",
              "      <td>150.0</td>\n",
              "      <td>3760.0</td>\n",
              "      <td>8.5</td>\n",
              "      <td>0</td>\n",
              "      <td>0</td>\n",
              "      <td>0</td>\n",
              "      <td>0</td>\n",
              "      <td>1</td>\n",
              "      <td>1</td>\n",
              "      <td>0</td>\n",
              "      <td>0</td>\n",
              "      <td>0</td>\n",
              "      <td>0</td>\n",
              "      <td>0</td>\n",
              "      <td>0</td>\n",
              "      <td>0</td>\n",
              "      <td>0</td>\n",
              "      <td>0</td>\n",
              "      <td>0</td>\n",
              "      <td>0</td>\n",
              "      <td>0</td>\n",
              "      <td>1</td>\n",
              "      <td>0</td>\n",
              "      <td>0</td>\n",
              "    </tr>\n",
              "    <tr>\n",
              "      <th>2</th>\n",
              "      <td>104.0</td>\n",
              "      <td>70.0</td>\n",
              "      <td>2150.0</td>\n",
              "      <td>13.9</td>\n",
              "      <td>0</td>\n",
              "      <td>1</td>\n",
              "      <td>0</td>\n",
              "      <td>0</td>\n",
              "      <td>0</td>\n",
              "      <td>0</td>\n",
              "      <td>0</td>\n",
              "      <td>0</td>\n",
              "      <td>0</td>\n",
              "      <td>0</td>\n",
              "      <td>0</td>\n",
              "      <td>0</td>\n",
              "      <td>0</td>\n",
              "      <td>0</td>\n",
              "      <td>1</td>\n",
              "      <td>0</td>\n",
              "      <td>0</td>\n",
              "      <td>0</td>\n",
              "      <td>1</td>\n",
              "      <td>0</td>\n",
              "      <td>0</td>\n",
              "    </tr>\n",
              "    <tr>\n",
              "      <th>3</th>\n",
              "      <td>92.0</td>\n",
              "      <td>68.0</td>\n",
              "      <td>-1971.0</td>\n",
              "      <td>17.6</td>\n",
              "      <td>0</td>\n",
              "      <td>1</td>\n",
              "      <td>0</td>\n",
              "      <td>0</td>\n",
              "      <td>0</td>\n",
              "      <td>0</td>\n",
              "      <td>0</td>\n",
              "      <td>0</td>\n",
              "      <td>0</td>\n",
              "      <td>0</td>\n",
              "      <td>0</td>\n",
              "      <td>0</td>\n",
              "      <td>0</td>\n",
              "      <td>0</td>\n",
              "      <td>0</td>\n",
              "      <td>0</td>\n",
              "      <td>0</td>\n",
              "      <td>1</td>\n",
              "      <td>0</td>\n",
              "      <td>0</td>\n",
              "      <td>1</td>\n",
              "    </tr>\n",
              "    <tr>\n",
              "      <th>4</th>\n",
              "      <td>167.0</td>\n",
              "      <td>120.0</td>\n",
              "      <td>3819.0</td>\n",
              "      <td>16.7</td>\n",
              "      <td>0</td>\n",
              "      <td>0</td>\n",
              "      <td>0</td>\n",
              "      <td>1</td>\n",
              "      <td>0</td>\n",
              "      <td>0</td>\n",
              "      <td>0</td>\n",
              "      <td>0</td>\n",
              "      <td>0</td>\n",
              "      <td>0</td>\n",
              "      <td>0</td>\n",
              "      <td>1</td>\n",
              "      <td>0</td>\n",
              "      <td>0</td>\n",
              "      <td>0</td>\n",
              "      <td>0</td>\n",
              "      <td>0</td>\n",
              "      <td>0</td>\n",
              "      <td>0</td>\n",
              "      <td>1</td>\n",
              "      <td>0</td>\n",
              "    </tr>\n",
              "  </tbody>\n",
              "</table>\n",
              "</div>"
            ],
            "text/plain": [
              "   displacement  horsepower  weight  ...  origin_1  origin_2  origin_3\n",
              "0         106.0        63.0  2123.0  ...         1         0         0\n",
              "1         400.0       150.0  3760.0  ...         1         0         0\n",
              "2         104.0        70.0  2150.0  ...         1         0         0\n",
              "3          92.0        68.0 -1971.0  ...         0         0         1\n",
              "4         167.0       120.0  3819.0  ...         0         1         0\n",
              "\n",
              "[5 rows x 25 columns]"
            ]
          },
          "metadata": {
            "tags": []
          },
          "execution_count": 78
        }
      ]
    },
    {
      "cell_type": "code",
      "metadata": {
        "execution": {
          "iopub.status.busy": "2021-08-08T08:53:16.033520Z",
          "iopub.execute_input": "2021-08-08T08:53:16.034185Z",
          "iopub.status.idle": "2021-08-08T08:53:16.040114Z",
          "shell.execute_reply.started": "2021-08-08T08:53:16.034138Z",
          "shell.execute_reply": "2021-08-08T08:53:16.039059Z"
        },
        "trusted": true,
        "id": "k2oqE5dsKd5n"
      },
      "source": [
        "#drop cylinders_5 for balancing the two dataset; training and testing\n",
        "train_df.drop(['cylinders_5'], axis=1, inplace=True)"
      ],
      "execution_count": null,
      "outputs": []
    },
    {
      "cell_type": "code",
      "metadata": {
        "execution": {
          "iopub.status.busy": "2021-08-08T08:53:16.041442Z",
          "iopub.execute_input": "2021-08-08T08:53:16.041727Z",
          "iopub.status.idle": "2021-08-08T08:53:16.072015Z",
          "shell.execute_reply.started": "2021-08-08T08:53:16.041698Z",
          "shell.execute_reply": "2021-08-08T08:53:16.070949Z"
        },
        "trusted": true,
        "id": "scYtH-wuKd5o",
        "colab": {
          "base_uri": "https://localhost:8080/",
          "height": 224
        },
        "outputId": "2943635e-5adc-4e83-ae28-8898671f4800"
      },
      "source": [
        "test_data_clean.head()"
      ],
      "execution_count": null,
      "outputs": [
        {
          "output_type": "execute_result",
          "data": {
            "text/html": [
              "<div>\n",
              "<style scoped>\n",
              "    .dataframe tbody tr th:only-of-type {\n",
              "        vertical-align: middle;\n",
              "    }\n",
              "\n",
              "    .dataframe tbody tr th {\n",
              "        vertical-align: top;\n",
              "    }\n",
              "\n",
              "    .dataframe thead th {\n",
              "        text-align: right;\n",
              "    }\n",
              "</style>\n",
              "<table border=\"1\" class=\"dataframe\">\n",
              "  <thead>\n",
              "    <tr style=\"text-align: right;\">\n",
              "      <th></th>\n",
              "      <th>displacement</th>\n",
              "      <th>horsepower</th>\n",
              "      <th>weight</th>\n",
              "      <th>acceleration</th>\n",
              "      <th>cylinders_3</th>\n",
              "      <th>cylinders_4</th>\n",
              "      <th>cylinders_6</th>\n",
              "      <th>cylinders_8</th>\n",
              "      <th>model_year_70</th>\n",
              "      <th>model_year_71</th>\n",
              "      <th>model_year_72</th>\n",
              "      <th>model_year_73</th>\n",
              "      <th>model_year_74</th>\n",
              "      <th>model_year_75</th>\n",
              "      <th>model_year_76</th>\n",
              "      <th>model_year_77</th>\n",
              "      <th>model_year_78</th>\n",
              "      <th>model_year_79</th>\n",
              "      <th>model_year_80</th>\n",
              "      <th>model_year_81</th>\n",
              "      <th>model_year_82</th>\n",
              "      <th>origin_1</th>\n",
              "      <th>origin_2</th>\n",
              "      <th>origin_3</th>\n",
              "    </tr>\n",
              "  </thead>\n",
              "  <tbody>\n",
              "    <tr>\n",
              "      <th>0</th>\n",
              "      <td>122.0</td>\n",
              "      <td>80.0</td>\n",
              "      <td>2450.0</td>\n",
              "      <td>15.5</td>\n",
              "      <td>0</td>\n",
              "      <td>1</td>\n",
              "      <td>0</td>\n",
              "      <td>0</td>\n",
              "      <td>0</td>\n",
              "      <td>0</td>\n",
              "      <td>0</td>\n",
              "      <td>0</td>\n",
              "      <td>1</td>\n",
              "      <td>0</td>\n",
              "      <td>0</td>\n",
              "      <td>0</td>\n",
              "      <td>0</td>\n",
              "      <td>0</td>\n",
              "      <td>0</td>\n",
              "      <td>0</td>\n",
              "      <td>0</td>\n",
              "      <td>1</td>\n",
              "      <td>0</td>\n",
              "      <td>0</td>\n",
              "    </tr>\n",
              "    <tr>\n",
              "      <th>1</th>\n",
              "      <td>257.0</td>\n",
              "      <td>95.0</td>\n",
              "      <td>3191.0</td>\n",
              "      <td>17.8</td>\n",
              "      <td>0</td>\n",
              "      <td>0</td>\n",
              "      <td>1</td>\n",
              "      <td>0</td>\n",
              "      <td>0</td>\n",
              "      <td>0</td>\n",
              "      <td>0</td>\n",
              "      <td>0</td>\n",
              "      <td>0</td>\n",
              "      <td>0</td>\n",
              "      <td>1</td>\n",
              "      <td>0</td>\n",
              "      <td>0</td>\n",
              "      <td>0</td>\n",
              "      <td>0</td>\n",
              "      <td>0</td>\n",
              "      <td>0</td>\n",
              "      <td>1</td>\n",
              "      <td>0</td>\n",
              "      <td>0</td>\n",
              "    </tr>\n",
              "    <tr>\n",
              "      <th>2</th>\n",
              "      <td>87.0</td>\n",
              "      <td>65.0</td>\n",
              "      <td>2108.0</td>\n",
              "      <td>18.9</td>\n",
              "      <td>0</td>\n",
              "      <td>1</td>\n",
              "      <td>0</td>\n",
              "      <td>0</td>\n",
              "      <td>0</td>\n",
              "      <td>0</td>\n",
              "      <td>0</td>\n",
              "      <td>0</td>\n",
              "      <td>0</td>\n",
              "      <td>0</td>\n",
              "      <td>0</td>\n",
              "      <td>0</td>\n",
              "      <td>0</td>\n",
              "      <td>0</td>\n",
              "      <td>1</td>\n",
              "      <td>0</td>\n",
              "      <td>0</td>\n",
              "      <td>0</td>\n",
              "      <td>0</td>\n",
              "      <td>1</td>\n",
              "    </tr>\n",
              "    <tr>\n",
              "      <th>3</th>\n",
              "      <td>399.0</td>\n",
              "      <td>167.0</td>\n",
              "      <td>4906.0</td>\n",
              "      <td>12.5</td>\n",
              "      <td>0</td>\n",
              "      <td>0</td>\n",
              "      <td>0</td>\n",
              "      <td>1</td>\n",
              "      <td>0</td>\n",
              "      <td>0</td>\n",
              "      <td>0</td>\n",
              "      <td>1</td>\n",
              "      <td>0</td>\n",
              "      <td>0</td>\n",
              "      <td>0</td>\n",
              "      <td>0</td>\n",
              "      <td>0</td>\n",
              "      <td>0</td>\n",
              "      <td>0</td>\n",
              "      <td>0</td>\n",
              "      <td>0</td>\n",
              "      <td>1</td>\n",
              "      <td>0</td>\n",
              "      <td>0</td>\n",
              "    </tr>\n",
              "    <tr>\n",
              "      <th>4</th>\n",
              "      <td>399.0</td>\n",
              "      <td>150.0</td>\n",
              "      <td>4462.0</td>\n",
              "      <td>13.0</td>\n",
              "      <td>0</td>\n",
              "      <td>0</td>\n",
              "      <td>0</td>\n",
              "      <td>1</td>\n",
              "      <td>0</td>\n",
              "      <td>0</td>\n",
              "      <td>0</td>\n",
              "      <td>1</td>\n",
              "      <td>0</td>\n",
              "      <td>0</td>\n",
              "      <td>0</td>\n",
              "      <td>0</td>\n",
              "      <td>0</td>\n",
              "      <td>0</td>\n",
              "      <td>0</td>\n",
              "      <td>0</td>\n",
              "      <td>0</td>\n",
              "      <td>1</td>\n",
              "      <td>0</td>\n",
              "      <td>0</td>\n",
              "    </tr>\n",
              "  </tbody>\n",
              "</table>\n",
              "</div>"
            ],
            "text/plain": [
              "   displacement  horsepower  weight  ...  origin_1  origin_2  origin_3\n",
              "0         122.0        80.0  2450.0  ...         1         0         0\n",
              "1         257.0        95.0  3191.0  ...         1         0         0\n",
              "2          87.0        65.0  2108.0  ...         0         0         1\n",
              "3         399.0       167.0  4906.0  ...         1         0         0\n",
              "4         399.0       150.0  4462.0  ...         1         0         0\n",
              "\n",
              "[5 rows x 24 columns]"
            ]
          },
          "metadata": {
            "tags": []
          },
          "execution_count": 80
        }
      ]
    },
    {
      "cell_type": "markdown",
      "metadata": {
        "id": "u2qc2ws8Kd5o"
      },
      "source": [
        "****"
      ]
    },
    {
      "cell_type": "code",
      "metadata": {
        "execution": {
          "iopub.status.busy": "2021-08-08T08:53:16.073675Z",
          "iopub.execute_input": "2021-08-08T08:53:16.074098Z",
          "iopub.status.idle": "2021-08-08T08:53:16.084004Z",
          "shell.execute_reply.started": "2021-08-08T08:53:16.074054Z",
          "shell.execute_reply": "2021-08-08T08:53:16.082908Z"
        },
        "trusted": true,
        "id": "RpEu3EXDKd5p"
      },
      "source": [
        "# Preparing covariates / predictable from X_test dataset\n",
        "columns_df=test_data_clean.columns\n",
        "X_train=train_df"
      ],
      "execution_count": null,
      "outputs": []
    },
    {
      "cell_type": "code",
      "metadata": {
        "execution": {
          "iopub.status.busy": "2021-08-08T08:53:16.085559Z",
          "iopub.execute_input": "2021-08-08T08:53:16.085974Z",
          "iopub.status.idle": "2021-08-08T08:53:16.106452Z",
          "shell.execute_reply.started": "2021-08-08T08:53:16.085932Z",
          "shell.execute_reply": "2021-08-08T08:53:16.105402Z"
        },
        "trusted": true,
        "id": "KFwwCSpaKd5q",
        "colab": {
          "base_uri": "https://localhost:8080/"
        },
        "outputId": "f2b5d1f0-d1db-47b4-917d-c2454b482764"
      },
      "source": [
        "X_train.info()"
      ],
      "execution_count": null,
      "outputs": [
        {
          "output_type": "stream",
          "text": [
            "<class 'pandas.core.frame.DataFrame'>\n",
            "RangeIndex: 298 entries, 0 to 297\n",
            "Data columns (total 24 columns):\n",
            " #   Column         Non-Null Count  Dtype  \n",
            "---  ------         --------------  -----  \n",
            " 0   displacement   298 non-null    float64\n",
            " 1   horsepower     298 non-null    float64\n",
            " 2   weight         298 non-null    float64\n",
            " 3   acceleration   298 non-null    float64\n",
            " 4   cylinders_3    298 non-null    uint8  \n",
            " 5   cylinders_4    298 non-null    uint8  \n",
            " 6   cylinders_6    298 non-null    uint8  \n",
            " 7   cylinders_8    298 non-null    uint8  \n",
            " 8   model_year_70  298 non-null    uint8  \n",
            " 9   model_year_71  298 non-null    uint8  \n",
            " 10  model_year_72  298 non-null    uint8  \n",
            " 11  model_year_73  298 non-null    uint8  \n",
            " 12  model_year_74  298 non-null    uint8  \n",
            " 13  model_year_75  298 non-null    uint8  \n",
            " 14  model_year_76  298 non-null    uint8  \n",
            " 15  model_year_77  298 non-null    uint8  \n",
            " 16  model_year_78  298 non-null    uint8  \n",
            " 17  model_year_79  298 non-null    uint8  \n",
            " 18  model_year_80  298 non-null    uint8  \n",
            " 19  model_year_81  298 non-null    uint8  \n",
            " 20  model_year_82  298 non-null    uint8  \n",
            " 21  origin_1       298 non-null    uint8  \n",
            " 22  origin_2       298 non-null    uint8  \n",
            " 23  origin_3       298 non-null    uint8  \n",
            "dtypes: float64(4), uint8(20)\n",
            "memory usage: 15.3 KB\n"
          ],
          "name": "stdout"
        }
      ]
    },
    {
      "cell_type": "code",
      "metadata": {
        "execution": {
          "iopub.status.busy": "2021-08-08T08:53:16.107619Z",
          "iopub.execute_input": "2021-08-08T08:53:16.108119Z",
          "iopub.status.idle": "2021-08-08T08:53:16.130467Z",
          "shell.execute_reply.started": "2021-08-08T08:53:16.108082Z",
          "shell.execute_reply": "2021-08-08T08:53:16.129001Z"
        },
        "trusted": true,
        "id": "YMI9vMakKd5s",
        "colab": {
          "base_uri": "https://localhost:8080/"
        },
        "outputId": "7d28947b-8455-4957-e657-ef7e4293f107"
      },
      "source": [
        "X_train.info()"
      ],
      "execution_count": null,
      "outputs": [
        {
          "output_type": "stream",
          "text": [
            "<class 'pandas.core.frame.DataFrame'>\n",
            "RangeIndex: 298 entries, 0 to 297\n",
            "Data columns (total 24 columns):\n",
            " #   Column         Non-Null Count  Dtype  \n",
            "---  ------         --------------  -----  \n",
            " 0   displacement   298 non-null    float64\n",
            " 1   horsepower     298 non-null    float64\n",
            " 2   weight         298 non-null    float64\n",
            " 3   acceleration   298 non-null    float64\n",
            " 4   cylinders_3    298 non-null    uint8  \n",
            " 5   cylinders_4    298 non-null    uint8  \n",
            " 6   cylinders_6    298 non-null    uint8  \n",
            " 7   cylinders_8    298 non-null    uint8  \n",
            " 8   model_year_70  298 non-null    uint8  \n",
            " 9   model_year_71  298 non-null    uint8  \n",
            " 10  model_year_72  298 non-null    uint8  \n",
            " 11  model_year_73  298 non-null    uint8  \n",
            " 12  model_year_74  298 non-null    uint8  \n",
            " 13  model_year_75  298 non-null    uint8  \n",
            " 14  model_year_76  298 non-null    uint8  \n",
            " 15  model_year_77  298 non-null    uint8  \n",
            " 16  model_year_78  298 non-null    uint8  \n",
            " 17  model_year_79  298 non-null    uint8  \n",
            " 18  model_year_80  298 non-null    uint8  \n",
            " 19  model_year_81  298 non-null    uint8  \n",
            " 20  model_year_82  298 non-null    uint8  \n",
            " 21  origin_1       298 non-null    uint8  \n",
            " 22  origin_2       298 non-null    uint8  \n",
            " 23  origin_3       298 non-null    uint8  \n",
            "dtypes: float64(4), uint8(20)\n",
            "memory usage: 15.3 KB\n"
          ],
          "name": "stdout"
        }
      ]
    },
    {
      "cell_type": "code",
      "metadata": {
        "execution": {
          "iopub.status.busy": "2021-08-08T08:53:16.132149Z",
          "iopub.execute_input": "2021-08-08T08:53:16.132575Z",
          "iopub.status.idle": "2021-08-08T08:53:16.152723Z",
          "shell.execute_reply.started": "2021-08-08T08:53:16.132519Z",
          "shell.execute_reply": "2021-08-08T08:53:16.151923Z"
        },
        "trusted": true,
        "id": "ZnCxsoMEKd5t",
        "colab": {
          "base_uri": "https://localhost:8080/"
        },
        "outputId": "1772bf2b-d53f-458c-bca8-1ed07d202ca5"
      },
      "source": [
        "## Feature scalling\n",
        "scaler=MinMaxScaler()\n",
        "X_train=scaler.fit_transform(X_train)\n",
        "test_data_clean=scaler.fit_transform(test_data_clean)\n",
        "print(\"X_train: \",X_train[1])\n",
        "print(\"test data: \",test_data_clean[1])"
      ],
      "execution_count": null,
      "outputs": [
        {
          "output_type": "stream",
          "text": [
            "X_train:  [0.85824742 0.56521739 0.8536301  0.         0.         0.\n",
            " 0.         1.         1.         0.         0.         0.\n",
            " 0.         0.         0.         0.         0.         0.\n",
            " 0.         0.         0.         1.         0.         0.        ]\n",
            "test data:  [0.48311688 0.27374302 0.44664778 0.60273973 0.         0.\n",
            " 1.         0.         0.         0.         0.         0.\n",
            " 0.         0.         1.         0.         0.         0.\n",
            " 0.         0.         0.         1.         0.         0.        ]\n"
          ],
          "name": "stdout"
        }
      ]
    },
    {
      "cell_type": "code",
      "metadata": {
        "trusted": true,
        "id": "-yAOkOhlKd5u"
      },
      "source": [
        ""
      ],
      "execution_count": null,
      "outputs": []
    },
    {
      "cell_type": "markdown",
      "metadata": {
        "id": "ugpJjlVeKd5u"
      },
      "source": [
        "# Model 1**Linear regression Model**"
      ]
    },
    {
      "cell_type": "code",
      "metadata": {
        "execution": {
          "iopub.status.busy": "2021-08-08T08:53:16.153949Z",
          "iopub.execute_input": "2021-08-08T08:53:16.154251Z",
          "iopub.status.idle": "2021-08-08T08:53:16.329113Z",
          "shell.execute_reply.started": "2021-08-08T08:53:16.154223Z",
          "shell.execute_reply": "2021-08-08T08:53:16.327974Z"
        },
        "trusted": true,
        "id": "LQbO06CaKd5u"
      },
      "source": [
        "#working with linear regression\n",
        "#define linear regression\n",
        "linear_regression=LinearRegression()\n",
        "#fit the data\n",
        "linear_regression.fit(X_train,y_train)\n",
        "#make prediction on testing\n",
        "y_pred_test=linear_regression.predict(test_data_clean)\n",
        "#make predictions on training\n",
        "y_pred_train=linear_regression.predict(X_train)\n"
      ],
      "execution_count": null,
      "outputs": []
    },
    {
      "cell_type": "code",
      "metadata": {
        "execution": {
          "iopub.status.busy": "2021-08-08T08:53:16.332919Z",
          "iopub.execute_input": "2021-08-08T08:53:16.333451Z",
          "iopub.status.idle": "2021-08-08T08:53:16.345520Z",
          "shell.execute_reply.started": "2021-08-08T08:53:16.333417Z",
          "shell.execute_reply": "2021-08-08T08:53:16.343950Z"
        },
        "trusted": true,
        "id": "H3922O4nKd5v",
        "colab": {
          "base_uri": "https://localhost:8080/"
        },
        "outputId": "6636737c-6488-4b00-c682-a31f3f1fb5b0"
      },
      "source": [
        "#Swowing the heading for interpretation of coefficients\n",
        "print(columns_df)\n",
        "#compute mse on training\n",
        "mse_train=mean_squared_error(y_train,y_pred_train)\n",
        "#print coefficients\n",
        "print(\"model coefficients:\",linear_regression.coef_)\n",
        "#print interceipt\n",
        "print(\"model interceipt:\",linear_regression.intercept_)\n",
        "#printing score on training\n",
        "print(\"The model can predict (%): \",r2_score(y_train,y_pred_train))\n",
        "#printing mse on training\n",
        "print(\"The MSE for train is: \",mse_train)"
      ],
      "execution_count": null,
      "outputs": [
        {
          "output_type": "stream",
          "text": [
            "Index(['displacement', 'horsepower', 'weight', 'acceleration', 'cylinders_3',\n",
            "       'cylinders_4', 'cylinders_6', 'cylinders_8', 'model_year_70',\n",
            "       'model_year_71', 'model_year_72', 'model_year_73', 'model_year_74',\n",
            "       'model_year_75', 'model_year_76', 'model_year_77', 'model_year_78',\n",
            "       'model_year_79', 'model_year_80', 'model_year_81', 'model_year_82',\n",
            "       'origin_1', 'origin_2', 'origin_3'],\n",
            "      dtype='object')\n",
            "model coefficients: [ 1.79134426  9.86824121  0.05013393  3.99340934  1.95138758 -0.91128971\n",
            "  0.35556421  1.52612764  0.7932023   0.81741684  1.3893321   1.37726428\n",
            "  0.55270235  1.18534852  0.47623901 -0.50947079 -0.51073941 -1.39277759\n",
            " -1.51930315 -1.22125063 -1.43796381  0.28397839 -0.05838393 -0.22559446]\n",
            "model interceipt: 5.5415186544656025\n",
            "The model can predict (%):  0.8756950301197219\n",
            "The MSE for train is:  1.9385947600001465\n"
          ],
          "name": "stdout"
        }
      ]
    },
    {
      "cell_type": "code",
      "metadata": {
        "execution": {
          "iopub.status.busy": "2021-08-08T08:53:16.347379Z",
          "iopub.execute_input": "2021-08-08T08:53:16.347681Z",
          "iopub.status.idle": "2021-08-08T08:53:16.361639Z",
          "shell.execute_reply.started": "2021-08-08T08:53:16.347651Z",
          "shell.execute_reply": "2021-08-08T08:53:16.360416Z"
        },
        "trusted": true,
        "id": "BECYGjdQKd5w",
        "colab": {
          "base_uri": "https://localhost:8080/",
          "height": 235
        },
        "outputId": "da0533ed-3a3f-405f-fd81-9873f88cba0d"
      },
      "source": [
        "#Predicting the Y values\n",
        "predictions=pd.DataFrame(y_pred_test,columns=['predictions'])\n",
        "# creating a key identifyier\n",
        "index =predictions.index\n",
        "index.name = \"id\"\n",
        "predictions.head()"
      ],
      "execution_count": null,
      "outputs": [
        {
          "output_type": "execute_result",
          "data": {
            "text/html": [
              "<div>\n",
              "<style scoped>\n",
              "    .dataframe tbody tr th:only-of-type {\n",
              "        vertical-align: middle;\n",
              "    }\n",
              "\n",
              "    .dataframe tbody tr th {\n",
              "        vertical-align: top;\n",
              "    }\n",
              "\n",
              "    .dataframe thead th {\n",
              "        text-align: right;\n",
              "    }\n",
              "</style>\n",
              "<table border=\"1\" class=\"dataframe\">\n",
              "  <thead>\n",
              "    <tr style=\"text-align: right;\">\n",
              "      <th></th>\n",
              "      <th>predictions</th>\n",
              "    </tr>\n",
              "    <tr>\n",
              "      <th>id</th>\n",
              "      <th></th>\n",
              "    </tr>\n",
              "  </thead>\n",
              "  <tbody>\n",
              "    <tr>\n",
              "      <th>0</th>\n",
              "      <td>9.367206</td>\n",
              "    </tr>\n",
              "    <tr>\n",
              "      <th>1</th>\n",
              "      <td>12.653470</td>\n",
              "    </tr>\n",
              "    <tr>\n",
              "      <th>2</th>\n",
              "      <td>6.720406</td>\n",
              "    </tr>\n",
              "    <tr>\n",
              "      <th>3</th>\n",
              "      <td>17.932511</td>\n",
              "    </tr>\n",
              "    <tr>\n",
              "      <th>4</th>\n",
              "      <td>17.125058</td>\n",
              "    </tr>\n",
              "  </tbody>\n",
              "</table>\n",
              "</div>"
            ],
            "text/plain": [
              "    predictions\n",
              "id             \n",
              "0      9.367206\n",
              "1     12.653470\n",
              "2      6.720406\n",
              "3     17.932511\n",
              "4     17.125058"
            ]
          },
          "metadata": {
            "tags": []
          },
          "execution_count": 87
        }
      ]
    },
    {
      "cell_type": "code",
      "metadata": {
        "colab": {
          "base_uri": "https://localhost:8080/",
          "height": 17
        },
        "id": "wLuD66-Oa7_C",
        "outputId": "cb56f645-d640-4cab-ffd8-d5a73b7fac87"
      },
      "source": [
        "# saving and downloading csv file from ridge\n",
        "predictions.to_csv('predictions_reg.csv')\n",
        "from google.colab import files\n",
        "files.download('predictions_reg.csv')"
      ],
      "execution_count": null,
      "outputs": [
        {
          "output_type": "display_data",
          "data": {
            "application/javascript": [
              "\n",
              "    async function download(id, filename, size) {\n",
              "      if (!google.colab.kernel.accessAllowed) {\n",
              "        return;\n",
              "      }\n",
              "      const div = document.createElement('div');\n",
              "      const label = document.createElement('label');\n",
              "      label.textContent = `Downloading \"${filename}\": `;\n",
              "      div.appendChild(label);\n",
              "      const progress = document.createElement('progress');\n",
              "      progress.max = size;\n",
              "      div.appendChild(progress);\n",
              "      document.body.appendChild(div);\n",
              "\n",
              "      const buffers = [];\n",
              "      let downloaded = 0;\n",
              "\n",
              "      const channel = await google.colab.kernel.comms.open(id);\n",
              "      // Send a message to notify the kernel that we're ready.\n",
              "      channel.send({})\n",
              "\n",
              "      for await (const message of channel.messages) {\n",
              "        // Send a message to notify the kernel that we're ready.\n",
              "        channel.send({})\n",
              "        if (message.buffers) {\n",
              "          for (const buffer of message.buffers) {\n",
              "            buffers.push(buffer);\n",
              "            downloaded += buffer.byteLength;\n",
              "            progress.value = downloaded;\n",
              "          }\n",
              "        }\n",
              "      }\n",
              "      const blob = new Blob(buffers, {type: 'application/binary'});\n",
              "      const a = document.createElement('a');\n",
              "      a.href = window.URL.createObjectURL(blob);\n",
              "      a.download = filename;\n",
              "      div.appendChild(a);\n",
              "      a.click();\n",
              "      div.remove();\n",
              "    }\n",
              "  "
            ],
            "text/plain": [
              "<IPython.core.display.Javascript object>"
            ]
          },
          "metadata": {
            "tags": []
          }
        },
        {
          "output_type": "display_data",
          "data": {
            "application/javascript": [
              "download(\"download_8f6a91f2-9671-4993-b056-86230594fd20\", \"predictions_reg.csv\", 2143)"
            ],
            "text/plain": [
              "<IPython.core.display.Javascript object>"
            ]
          },
          "metadata": {
            "tags": []
          }
        }
      ]
    },
    {
      "cell_type": "markdown",
      "metadata": {
        "id": "PdbP_Vgiez_y"
      },
      "source": [
        "# polynomial\n"
      ]
    },
    {
      "cell_type": "code",
      "metadata": {
        "id": "qn-Im6l4exFV"
      },
      "source": [
        ""
      ],
      "execution_count": null,
      "outputs": []
    },
    {
      "cell_type": "markdown",
      "metadata": {
        "id": "y3RFOyYtKd5w"
      },
      "source": [
        "# Model 2: Lineal regression with regularization"
      ]
    },
    {
      "cell_type": "code",
      "metadata": {
        "execution": {
          "iopub.status.busy": "2021-08-08T08:53:16.363391Z",
          "iopub.execute_input": "2021-08-08T08:53:16.364266Z",
          "iopub.status.idle": "2021-08-08T08:53:16.465265Z",
          "shell.execute_reply.started": "2021-08-08T08:53:16.364213Z",
          "shell.execute_reply": "2021-08-08T08:53:16.464238Z"
        },
        "trusted": true,
        "id": "mMy6OwMTKd5z",
        "colab": {
          "base_uri": "https://localhost:8080/"
        },
        "outputId": "35eba49a-1a78-432a-86c5-328ef72aeef1"
      },
      "source": [
        "# Step 1: Define the polynomial features\n",
        "degree = 2\n",
        "features = PolynomialFeatures(degree)\n",
        "# Step 2: Transform training and test input with PolynomialFeatures\n",
        "X_train_poly = features.fit_transform(X_train)\n",
        "X_test_poly = features.fit_transform(test_data_clean)\n",
        "ridge_regression = Ridge(alpha=0.000000000001)\n",
        "# Step 4: Fit the regression model\n",
        "ridge_regression.fit(X_train_poly, y_train)\n",
        "# Step 5: Compute the train MSE\n",
        "y_train_mse = mean_squared_error(y_train, ridge_regression.predict(X_train_poly))\n",
        "#compute mse on tarining\n",
        "y_train_r2=r2_score(y_train, ridge_regression.predict(X_train_poly))\n",
        "#compute the predictions on testing.\n",
        "y_pred_test=(ridge_regression.predict(X_test_poly))\n",
        "#printing mse, score on training\n",
        "print('MSE on Training Data:', y_train_mse)\n",
        "print('The model can predict (%):', y_train_r2)"
      ],
      "execution_count": null,
      "outputs": [
        {
          "output_type": "stream",
          "text": [
            "MSE on Training Data: 0.5944407666741298\n",
            "The model can predict (%): 0.9618837607932915\n"
          ],
          "name": "stdout"
        }
      ]
    },
    {
      "cell_type": "code",
      "metadata": {
        "execution": {
          "iopub.status.busy": "2021-08-08T08:53:16.466698Z",
          "iopub.execute_input": "2021-08-08T08:53:16.467282Z",
          "iopub.status.idle": "2021-08-08T08:53:16.483000Z",
          "shell.execute_reply.started": "2021-08-08T08:53:16.467240Z",
          "shell.execute_reply": "2021-08-08T08:53:16.481745Z"
        },
        "trusted": true,
        "id": "VQgh8pi1Kd50",
        "colab": {
          "base_uri": "https://localhost:8080/",
          "height": 235
        },
        "outputId": "614a5929-cd10-4630-8cb1-db59c839c029"
      },
      "source": [
        "#make the predictions dataframe\n",
        "predictions=pd.DataFrame(y_pred_test,columns=['predictions'])\n",
        "index =predictions.index\n",
        "index.name = \"id\"\n",
        "predictions.head()"
      ],
      "execution_count": null,
      "outputs": [
        {
          "output_type": "execute_result",
          "data": {
            "text/html": [
              "<div>\n",
              "<style scoped>\n",
              "    .dataframe tbody tr th:only-of-type {\n",
              "        vertical-align: middle;\n",
              "    }\n",
              "\n",
              "    .dataframe tbody tr th {\n",
              "        vertical-align: top;\n",
              "    }\n",
              "\n",
              "    .dataframe thead th {\n",
              "        text-align: right;\n",
              "    }\n",
              "</style>\n",
              "<table border=\"1\" class=\"dataframe\">\n",
              "  <thead>\n",
              "    <tr style=\"text-align: right;\">\n",
              "      <th></th>\n",
              "      <th>predictions</th>\n",
              "    </tr>\n",
              "    <tr>\n",
              "      <th>id</th>\n",
              "      <th></th>\n",
              "    </tr>\n",
              "  </thead>\n",
              "  <tbody>\n",
              "    <tr>\n",
              "      <th>0</th>\n",
              "      <td>7.782852</td>\n",
              "    </tr>\n",
              "    <tr>\n",
              "      <th>1</th>\n",
              "      <td>13.168046</td>\n",
              "    </tr>\n",
              "    <tr>\n",
              "      <th>2</th>\n",
              "      <td>9.725854</td>\n",
              "    </tr>\n",
              "    <tr>\n",
              "      <th>3</th>\n",
              "      <td>20.339599</td>\n",
              "    </tr>\n",
              "    <tr>\n",
              "      <th>4</th>\n",
              "      <td>18.866036</td>\n",
              "    </tr>\n",
              "  </tbody>\n",
              "</table>\n",
              "</div>"
            ],
            "text/plain": [
              "    predictions\n",
              "id             \n",
              "0      7.782852\n",
              "1     13.168046\n",
              "2      9.725854\n",
              "3     20.339599\n",
              "4     18.866036"
            ]
          },
          "metadata": {
            "tags": []
          },
          "execution_count": 172
        }
      ]
    },
    {
      "cell_type": "code",
      "metadata": {
        "id": "8r5byWqfaUn6"
      },
      "source": [
        ""
      ],
      "execution_count": null,
      "outputs": []
    },
    {
      "cell_type": "code",
      "metadata": {
        "colab": {
          "base_uri": "https://localhost:8080/",
          "height": 34
        },
        "id": "R9pJhLW5TfYB",
        "outputId": "abf44338-8c85-4775-b3bf-8d1c4ae5c744"
      },
      "source": [
        "# saving and downloading csv file from ridge\n",
        "predictions.to_csv('predictions_0.csv')\n",
        "from google.colab import files\n",
        "files.download('predictions_0.csv')"
      ],
      "execution_count": null,
      "outputs": [
        {
          "output_type": "display_data",
          "data": {
            "application/javascript": [
              "\n",
              "    async function download(id, filename, size) {\n",
              "      if (!google.colab.kernel.accessAllowed) {\n",
              "        return;\n",
              "      }\n",
              "      const div = document.createElement('div');\n",
              "      const label = document.createElement('label');\n",
              "      label.textContent = `Downloading \"${filename}\": `;\n",
              "      div.appendChild(label);\n",
              "      const progress = document.createElement('progress');\n",
              "      progress.max = size;\n",
              "      div.appendChild(progress);\n",
              "      document.body.appendChild(div);\n",
              "\n",
              "      const buffers = [];\n",
              "      let downloaded = 0;\n",
              "\n",
              "      const channel = await google.colab.kernel.comms.open(id);\n",
              "      // Send a message to notify the kernel that we're ready.\n",
              "      channel.send({})\n",
              "\n",
              "      for await (const message of channel.messages) {\n",
              "        // Send a message to notify the kernel that we're ready.\n",
              "        channel.send({})\n",
              "        if (message.buffers) {\n",
              "          for (const buffer of message.buffers) {\n",
              "            buffers.push(buffer);\n",
              "            downloaded += buffer.byteLength;\n",
              "            progress.value = downloaded;\n",
              "          }\n",
              "        }\n",
              "      }\n",
              "      const blob = new Blob(buffers, {type: 'application/binary'});\n",
              "      const a = document.createElement('a');\n",
              "      a.href = window.URL.createObjectURL(blob);\n",
              "      a.download = filename;\n",
              "      div.appendChild(a);\n",
              "      a.click();\n",
              "      div.remove();\n",
              "    }\n",
              "  "
            ],
            "text/plain": [
              "<IPython.core.display.Javascript object>"
            ]
          },
          "metadata": {
            "tags": []
          }
        },
        {
          "output_type": "display_data",
          "data": {
            "application/javascript": [
              "download(\"download_cea80395-fe9b-4500-a9f5-1e1716dc94b8\", \"predictions_0.csv\", 2166)"
            ],
            "text/plain": [
              "<IPython.core.display.Javascript object>"
            ]
          },
          "metadata": {
            "tags": []
          }
        }
      ]
    },
    {
      "cell_type": "markdown",
      "metadata": {
        "id": "X6NluPDCFZe9"
      },
      "source": [
        "# Neural network"
      ]
    },
    {
      "cell_type": "code",
      "metadata": {
        "id": "lnDLIAfzFLI7"
      },
      "source": [
        "# from sklearn.neural_network import MLPRegressor\n",
        "# from sklearn.datasets import make_regression\n",
        "# from sklearn.model_selection import train_test_split"
      ],
      "execution_count": null,
      "outputs": []
    },
    {
      "cell_type": "code",
      "metadata": {
        "id": "Hg8BcI9xFLDs"
      },
      "source": [
        "# degree = 4\n",
        "# features = PolynomialFeatures(degree)\n",
        "# # Step 2: Transform training and test input with PolynomialFeatures\n",
        "# X_train_poly = features.fit_transform(X_train)\n",
        "# X_test_poly = features.fit_transform(test_data_clean)\n",
        "# regr = MLPRegressor(hidden_layer_sizes=(400,30),random_state=1, max_iter=10000,alpha=200).fit(X_train_poly, y_train)\n"
      ],
      "execution_count": null,
      "outputs": []
    },
    {
      "cell_type": "code",
      "metadata": {
        "id": "3Y_hFcLkFK_J"
      },
      "source": [
        "\n",
        "# y_pred_test=regr.predict(X_test_poly)\n",
        "# #make predictions on training\n",
        "# y_pred_train=regr.predict(X_train_poly)"
      ],
      "execution_count": null,
      "outputs": []
    },
    {
      "cell_type": "code",
      "metadata": {
        "id": "hmCfEDhuFK4e"
      },
      "source": [
        "\n",
        "# mse_train=mean_squared_error(y_train,y_pred_train)\n",
        "# print(\"The MSE for train is: \",mse_train)\n",
        "# #printing score on training\n",
        "# print(\"The model can predict (%): \",r2_score(y_train,y_pred_train))\n",
        "# #printing mse on training\n"
      ],
      "execution_count": null,
      "outputs": []
    },
    {
      "cell_type": "code",
      "metadata": {
        "id": "vRvZV0wLFKuC"
      },
      "source": [
        "# #Predicting the Y values\n",
        "# predictions=pd.DataFrame(y_pred_test,columns=['predictions'])\n",
        "# # creating a key identifyier\n",
        "# index =predictions.index\n",
        "# index.name = \"id\"\n",
        "# predictions.head()"
      ],
      "execution_count": null,
      "outputs": []
    },
    {
      "cell_type": "code",
      "metadata": {
        "id": "q15kEuWMFKgx"
      },
      "source": [
        "# # saving and downloading csv file from ridge\n",
        "# predictions.to_csv('predictions_neural.csv')\n",
        "# from google.colab import files\n",
        "# files.download('predictions_neural.csv')"
      ],
      "execution_count": null,
      "outputs": []
    },
    {
      "cell_type": "markdown",
      "metadata": {
        "id": "JN2T2WYtKd51"
      },
      "source": [
        "# Model 3 : Ridge regulalization"
      ]
    },
    {
      "cell_type": "code",
      "metadata": {
        "execution": {
          "iopub.status.busy": "2021-08-08T08:53:16.484755Z",
          "iopub.execute_input": "2021-08-08T08:53:16.485335Z",
          "iopub.status.idle": "2021-08-08T08:53:16.499188Z",
          "shell.execute_reply.started": "2021-08-08T08:53:16.485294Z",
          "shell.execute_reply": "2021-08-08T08:53:16.497706Z"
        },
        "trusted": true,
        "id": "nJOw66qsKd51",
        "colab": {
          "base_uri": "https://localhost:8080/"
        },
        "outputId": "3583077d-9da9-4a60-82cb-9efe68f1924e"
      },
      "source": [
        "#defining ridge\n",
        "ridge_regression = Ridge(alpha=30)\n",
        "#fit the data\n",
        "ridge_regression.fit(X_train, y_train)\n",
        "#compute mse on training\n",
        "y_train_mse = mean_squared_error(y_train, ridge_regression.predict(X_train))\n",
        "#compute score\n",
        "y_train_r2=r2_score(y_train, ridge_regression.predict(X_train))\n",
        "#make predictions on testing data\n",
        "y_pred_test=ridge_regression.predict(test_data_clean)\n",
        "#print mse and score on training\n",
        "print('MSE on Training Data:', y_train_mse)\n",
        "print('The model can predici (%):', y_train_r2)\n"
      ],
      "execution_count": null,
      "outputs": [
        {
          "output_type": "stream",
          "text": [
            "MSE on Training Data: 3.2172932080741368\n",
            "The model can predici (%): 0.7937033857836031\n"
          ],
          "name": "stdout"
        }
      ]
    },
    {
      "cell_type": "code",
      "metadata": {
        "execution": {
          "iopub.status.busy": "2021-08-08T08:57:37.650321Z",
          "iopub.execute_input": "2021-08-08T08:57:37.650676Z",
          "iopub.status.idle": "2021-08-08T08:57:37.662499Z",
          "shell.execute_reply.started": "2021-08-08T08:57:37.650648Z",
          "shell.execute_reply": "2021-08-08T08:57:37.661400Z"
        },
        "trusted": true,
        "id": "IcShmvuLKd52",
        "colab": {
          "base_uri": "https://localhost:8080/"
        },
        "outputId": "52bfb2fb-8d62-4b27-fffb-b62a65249b35"
      },
      "source": [
        "#make predictions dataframe\n",
        "predictions=pd.DataFrame(y_pred_test,columns=['predictions'])\n",
        "index =predictions.index\n",
        "index.name = \"id\"\n",
        "predictions.head()"
      ],
      "execution_count": null,
      "outputs": [
        {
          "output_type": "execute_result",
          "data": {
            "text/html": [
              "<div>\n",
              "<style scoped>\n",
              "    .dataframe tbody tr th:only-of-type {\n",
              "        vertical-align: middle;\n",
              "    }\n",
              "\n",
              "    .dataframe tbody tr th {\n",
              "        vertical-align: top;\n",
              "    }\n",
              "\n",
              "    .dataframe thead th {\n",
              "        text-align: right;\n",
              "    }\n",
              "</style>\n",
              "<table border=\"1\" class=\"dataframe\">\n",
              "  <thead>\n",
              "    <tr style=\"text-align: right;\">\n",
              "      <th></th>\n",
              "      <th>predictions</th>\n",
              "    </tr>\n",
              "    <tr>\n",
              "      <th>id</th>\n",
              "      <th></th>\n",
              "    </tr>\n",
              "  </thead>\n",
              "  <tbody>\n",
              "    <tr>\n",
              "      <th>0</th>\n",
              "      <td>9.455704</td>\n",
              "    </tr>\n",
              "    <tr>\n",
              "      <th>1</th>\n",
              "      <td>12.139858</td>\n",
              "    </tr>\n",
              "    <tr>\n",
              "      <th>2</th>\n",
              "      <td>7.123750</td>\n",
              "    </tr>\n",
              "    <tr>\n",
              "      <th>3</th>\n",
              "      <td>16.568259</td>\n",
              "    </tr>\n",
              "    <tr>\n",
              "      <th>4</th>\n",
              "      <td>16.345497</td>\n",
              "    </tr>\n",
              "  </tbody>\n",
              "</table>\n",
              "</div>"
            ],
            "text/plain": [
              "    predictions\n",
              "id             \n",
              "0      9.455704\n",
              "1     12.139858\n",
              "2      7.123750\n",
              "3     16.568259\n",
              "4     16.345497"
            ]
          },
          "metadata": {
            "tags": []
          },
          "execution_count": 99
        }
      ]
    },
    {
      "cell_type": "code",
      "metadata": {
        "colab": {
          "base_uri": "https://localhost:8080/"
        },
        "id": "FljoUorche64",
        "outputId": "0f0f26ed-2d9d-4f49-e43c-4e62372af99e"
      },
      "source": [
        "# saving and downloading csv file from ridge\n",
        "predictions.to_csv('predictions_L2.csv')\n",
        "from google.colab import files\n",
        "files.download('predictions_L2.csv')"
      ],
      "execution_count": null,
      "outputs": [
        {
          "output_type": "display_data",
          "data": {
            "application/javascript": [
              "\n",
              "    async function download(id, filename, size) {\n",
              "      if (!google.colab.kernel.accessAllowed) {\n",
              "        return;\n",
              "      }\n",
              "      const div = document.createElement('div');\n",
              "      const label = document.createElement('label');\n",
              "      label.textContent = `Downloading \"${filename}\": `;\n",
              "      div.appendChild(label);\n",
              "      const progress = document.createElement('progress');\n",
              "      progress.max = size;\n",
              "      div.appendChild(progress);\n",
              "      document.body.appendChild(div);\n",
              "\n",
              "      const buffers = [];\n",
              "      let downloaded = 0;\n",
              "\n",
              "      const channel = await google.colab.kernel.comms.open(id);\n",
              "      // Send a message to notify the kernel that we're ready.\n",
              "      channel.send({})\n",
              "\n",
              "      for await (const message of channel.messages) {\n",
              "        // Send a message to notify the kernel that we're ready.\n",
              "        channel.send({})\n",
              "        if (message.buffers) {\n",
              "          for (const buffer of message.buffers) {\n",
              "            buffers.push(buffer);\n",
              "            downloaded += buffer.byteLength;\n",
              "            progress.value = downloaded;\n",
              "          }\n",
              "        }\n",
              "      }\n",
              "      const blob = new Blob(buffers, {type: 'application/binary'});\n",
              "      const a = document.createElement('a');\n",
              "      a.href = window.URL.createObjectURL(blob);\n",
              "      a.download = filename;\n",
              "      div.appendChild(a);\n",
              "      a.click();\n",
              "      div.remove();\n",
              "    }\n",
              "  "
            ],
            "text/plain": [
              "<IPython.core.display.Javascript object>"
            ]
          },
          "metadata": {
            "tags": []
          }
        },
        {
          "output_type": "display_data",
          "data": {
            "application/javascript": [
              "download(\"download_cc8f529a-43b8-4171-b1f2-1e0da666e8bd\", \"predictions_L2.csv\", 2143)"
            ],
            "text/plain": [
              "<IPython.core.display.Javascript object>"
            ]
          },
          "metadata": {
            "tags": []
          }
        }
      ]
    },
    {
      "cell_type": "markdown",
      "metadata": {
        "id": "isWzBBj6Kd52"
      },
      "source": [
        "# Model4: **Using KNN for prediction**"
      ]
    },
    {
      "cell_type": "code",
      "metadata": {
        "execution": {
          "iopub.status.busy": "2021-08-08T08:53:16.500946Z",
          "iopub.execute_input": "2021-08-08T08:53:16.501640Z",
          "iopub.status.idle": "2021-08-08T08:53:16.522643Z",
          "shell.execute_reply.started": "2021-08-08T08:53:16.501549Z",
          "shell.execute_reply": "2021-08-08T08:53:16.521547Z"
        },
        "trusted": true,
        "id": "b8vPaHOwKd53"
      },
      "source": [
        "# Defining KNN model\n",
        "model = neighbors.KNeighborsRegressor(n_neighbors = 4)\n",
        "#fit the model\n",
        "model.fit(X_train,y_train)\n",
        "#make predictions on test data\n",
        "y_pred_test=model.predict(test_data_clean)\n",
        "#make predictions on training\n",
        "y_pred_train=model.predict(X_train)\n"
      ],
      "execution_count": null,
      "outputs": []
    },
    {
      "cell_type": "code",
      "metadata": {
        "execution": {
          "iopub.status.busy": "2021-08-08T08:53:16.524064Z",
          "iopub.execute_input": "2021-08-08T08:53:16.524644Z",
          "iopub.status.idle": "2021-08-08T08:53:16.533583Z",
          "shell.execute_reply.started": "2021-08-08T08:53:16.524604Z",
          "shell.execute_reply": "2021-08-08T08:53:16.532418Z"
        },
        "trusted": true,
        "id": "yDRHOdv7Kd53",
        "colab": {
          "base_uri": "https://localhost:8080/"
        },
        "outputId": "5a319cd8-6ef5-47d4-c677-a02d35006b51"
      },
      "source": [
        "#Calculating the mse on training\n",
        "mse_train=mean_squared_error(y_train,y_pred_train)\n",
        "#Calculating the mse and score on training\n",
        "print(\"The model can predict (%): \",r2_score(y_train,y_pred_train))\n",
        "print(\"MSE of the trainning data is: \",mse_train)"
      ],
      "execution_count": null,
      "outputs": [
        {
          "output_type": "stream",
          "text": [
            "The model can predict (%):  0.9141471619450605\n",
            "MSE of the trainning data is:  1.3389155891735016\n"
          ],
          "name": "stdout"
        }
      ]
    },
    {
      "cell_type": "code",
      "metadata": {
        "execution": {
          "iopub.status.busy": "2021-08-08T08:53:16.535514Z",
          "iopub.execute_input": "2021-08-08T08:53:16.536189Z",
          "iopub.status.idle": "2021-08-08T08:53:16.552651Z",
          "shell.execute_reply.started": "2021-08-08T08:53:16.536148Z",
          "shell.execute_reply": "2021-08-08T08:53:16.551140Z"
        },
        "trusted": true,
        "id": "BqhdAbBkKd54",
        "colab": {
          "base_uri": "https://localhost:8080/"
        },
        "outputId": "96a1e76a-2a28-4ac9-8916-4c604cebb0dc"
      },
      "source": [
        "#make predictions dataframe\n",
        "predictions=pd.DataFrame(y_pred_test,columns=['predictions'])\n",
        "index =predictions.index\n",
        "index.name = \"id\"\n",
        "predictions.head()"
      ],
      "execution_count": null,
      "outputs": [
        {
          "output_type": "execute_result",
          "data": {
            "text/html": [
              "<div>\n",
              "<style scoped>\n",
              "    .dataframe tbody tr th:only-of-type {\n",
              "        vertical-align: middle;\n",
              "    }\n",
              "\n",
              "    .dataframe tbody tr th {\n",
              "        vertical-align: top;\n",
              "    }\n",
              "\n",
              "    .dataframe thead th {\n",
              "        text-align: right;\n",
              "    }\n",
              "</style>\n",
              "<table border=\"1\" class=\"dataframe\">\n",
              "  <thead>\n",
              "    <tr style=\"text-align: right;\">\n",
              "      <th></th>\n",
              "      <th>predictions</th>\n",
              "    </tr>\n",
              "    <tr>\n",
              "      <th>id</th>\n",
              "      <th></th>\n",
              "    </tr>\n",
              "  </thead>\n",
              "  <tbody>\n",
              "    <tr>\n",
              "      <th>0</th>\n",
              "      <td>8.717951</td>\n",
              "    </tr>\n",
              "    <tr>\n",
              "      <th>1</th>\n",
              "      <td>10.676515</td>\n",
              "    </tr>\n",
              "    <tr>\n",
              "      <th>2</th>\n",
              "      <td>6.539221</td>\n",
              "    </tr>\n",
              "    <tr>\n",
              "      <th>3</th>\n",
              "      <td>19.292429</td>\n",
              "    </tr>\n",
              "    <tr>\n",
              "      <th>4</th>\n",
              "      <td>18.312387</td>\n",
              "    </tr>\n",
              "  </tbody>\n",
              "</table>\n",
              "</div>"
            ],
            "text/plain": [
              "    predictions\n",
              "id             \n",
              "0      8.717951\n",
              "1     10.676515\n",
              "2      6.539221\n",
              "3     19.292429\n",
              "4     18.312387"
            ]
          },
          "metadata": {
            "tags": []
          },
          "execution_count": 103
        }
      ]
    },
    {
      "cell_type": "code",
      "metadata": {
        "execution": {
          "iopub.status.busy": "2021-08-08T08:53:16.554092Z",
          "iopub.execute_input": "2021-08-08T08:53:16.554667Z",
          "iopub.status.idle": "2021-08-08T08:53:16.564644Z",
          "shell.execute_reply.started": "2021-08-08T08:53:16.554626Z",
          "shell.execute_reply": "2021-08-08T08:53:16.563263Z"
        },
        "trusted": true,
        "id": "yfDinEPAKd54",
        "colab": {
          "base_uri": "https://localhost:8080/"
        },
        "outputId": "36c724b4-b1e6-427f-8d74-99e8577a8d08"
      },
      "source": [
        "# saving and downloading csv file from ridge\n",
        "predictions.to_csv('predictions_1.csv')\n",
        "from google.colab import files\n",
        "files.download('predictions_1.csv')"
      ],
      "execution_count": null,
      "outputs": [
        {
          "output_type": "display_data",
          "data": {
            "application/javascript": [
              "\n",
              "    async function download(id, filename, size) {\n",
              "      if (!google.colab.kernel.accessAllowed) {\n",
              "        return;\n",
              "      }\n",
              "      const div = document.createElement('div');\n",
              "      const label = document.createElement('label');\n",
              "      label.textContent = `Downloading \"${filename}\": `;\n",
              "      div.appendChild(label);\n",
              "      const progress = document.createElement('progress');\n",
              "      progress.max = size;\n",
              "      div.appendChild(progress);\n",
              "      document.body.appendChild(div);\n",
              "\n",
              "      const buffers = [];\n",
              "      let downloaded = 0;\n",
              "\n",
              "      const channel = await google.colab.kernel.comms.open(id);\n",
              "      // Send a message to notify the kernel that we're ready.\n",
              "      channel.send({})\n",
              "\n",
              "      for await (const message of channel.messages) {\n",
              "        // Send a message to notify the kernel that we're ready.\n",
              "        channel.send({})\n",
              "        if (message.buffers) {\n",
              "          for (const buffer of message.buffers) {\n",
              "            buffers.push(buffer);\n",
              "            downloaded += buffer.byteLength;\n",
              "            progress.value = downloaded;\n",
              "          }\n",
              "        }\n",
              "      }\n",
              "      const blob = new Blob(buffers, {type: 'application/binary'});\n",
              "      const a = document.createElement('a');\n",
              "      a.href = window.URL.createObjectURL(blob);\n",
              "      a.download = filename;\n",
              "      div.appendChild(a);\n",
              "      a.click();\n",
              "      div.remove();\n",
              "    }\n",
              "  "
            ],
            "text/plain": [
              "<IPython.core.display.Javascript object>"
            ]
          },
          "metadata": {
            "tags": []
          }
        },
        {
          "output_type": "display_data",
          "data": {
            "application/javascript": [
              "download(\"download_33b47fbd-29ab-40cb-b1cf-6eda6524a3ce\", \"predictions_1.csv\", 2140)"
            ],
            "text/plain": [
              "<IPython.core.display.Javascript object>"
            ]
          },
          "metadata": {
            "tags": []
          }
        }
      ]
    },
    {
      "cell_type": "markdown",
      "metadata": {
        "id": "nypKVvxkKd54"
      },
      "source": [
        "# **MODEL 5:Decision Tree regression**. \n",
        "*We were trying to keep the model complex but also more fitting.*"
      ]
    },
    {
      "cell_type": "code",
      "metadata": {
        "execution": {
          "iopub.status.busy": "2021-08-08T09:03:29.959879Z",
          "iopub.execute_input": "2021-08-08T09:03:29.960218Z",
          "iopub.status.idle": "2021-08-08T09:03:29.969889Z",
          "shell.execute_reply.started": "2021-08-08T09:03:29.960190Z",
          "shell.execute_reply": "2021-08-08T09:03:29.968885Z"
        },
        "trusted": true,
        "id": "wqUEsQ3LKd55"
      },
      "source": [
        "#working with linear regression\n",
        "#define model\n",
        "regr = DecisionTreeRegressor(max_depth=3)\n",
        "#fit the model\n",
        "regr.fit(X_train,y_train)\n",
        "#make predictions over testing\n",
        "y_pred_test=regr.predict(test_data_clean)\n",
        "#make predictions on training\n",
        "y_pred_train=regr.predict(X_train)\n"
      ],
      "execution_count": null,
      "outputs": []
    },
    {
      "cell_type": "code",
      "metadata": {
        "execution": {
          "iopub.status.busy": "2021-08-08T09:03:39.078711Z",
          "iopub.execute_input": "2021-08-08T09:03:39.079205Z",
          "iopub.status.idle": "2021-08-08T09:03:39.085673Z",
          "shell.execute_reply.started": "2021-08-08T09:03:39.079175Z",
          "shell.execute_reply": "2021-08-08T09:03:39.084861Z"
        },
        "trusted": true,
        "id": "zDnoW2kwKd55",
        "colab": {
          "base_uri": "https://localhost:8080/"
        },
        "outputId": "863dbabe-6202-4b2e-8641-c84de275518d"
      },
      "source": [
        "#compute mse on training\n",
        "mse_train=mean_squared_error(y_train,y_pred_train)\n",
        "#print mse and score for training\n",
        "print(\"The model can predict (%) \",r2_score(y_train,y_pred_train))\n",
        "print(\"THe MSE for training data is: \",mse_train)"
      ],
      "execution_count": null,
      "outputs": [
        {
          "output_type": "stream",
          "text": [
            "The model can predict (%)  0.8393400905370755\n",
            "THe MSE for training data is:  2.505567226530804\n"
          ],
          "name": "stdout"
        }
      ]
    },
    {
      "cell_type": "code",
      "metadata": {
        "execution": {
          "iopub.status.busy": "2021-08-08T09:03:54.869246Z",
          "iopub.execute_input": "2021-08-08T09:03:54.869722Z",
          "iopub.status.idle": "2021-08-08T09:03:54.880143Z",
          "shell.execute_reply.started": "2021-08-08T09:03:54.869691Z",
          "shell.execute_reply": "2021-08-08T09:03:54.879133Z"
        },
        "trusted": true,
        "id": "2536gBqQKd56",
        "colab": {
          "base_uri": "https://localhost:8080/"
        },
        "outputId": "b2c9de4d-18a7-4e81-dc34-049e212b7ab0"
      },
      "source": [
        "#make predictions dataframe\n",
        "predictions=pd.DataFrame(y_pred_test,columns=['predictions'])\n",
        "index =predictions.index\n",
        "index.name = \"id\"\n",
        "predictions.head()"
      ],
      "execution_count": null,
      "outputs": [
        {
          "output_type": "execute_result",
          "data": {
            "text/html": [
              "<div>\n",
              "<style scoped>\n",
              "    .dataframe tbody tr th:only-of-type {\n",
              "        vertical-align: middle;\n",
              "    }\n",
              "\n",
              "    .dataframe tbody tr th {\n",
              "        vertical-align: top;\n",
              "    }\n",
              "\n",
              "    .dataframe thead th {\n",
              "        text-align: right;\n",
              "    }\n",
              "</style>\n",
              "<table border=\"1\" class=\"dataframe\">\n",
              "  <thead>\n",
              "    <tr style=\"text-align: right;\">\n",
              "      <th></th>\n",
              "      <th>predictions</th>\n",
              "    </tr>\n",
              "    <tr>\n",
              "      <th>id</th>\n",
              "      <th></th>\n",
              "    </tr>\n",
              "  </thead>\n",
              "  <tbody>\n",
              "    <tr>\n",
              "      <th>0</th>\n",
              "      <td>7.609165</td>\n",
              "    </tr>\n",
              "    <tr>\n",
              "      <th>1</th>\n",
              "      <td>11.967303</td>\n",
              "    </tr>\n",
              "    <tr>\n",
              "      <th>2</th>\n",
              "      <td>7.609165</td>\n",
              "    </tr>\n",
              "    <tr>\n",
              "      <th>3</th>\n",
              "      <td>18.092789</td>\n",
              "    </tr>\n",
              "    <tr>\n",
              "      <th>4</th>\n",
              "      <td>15.940808</td>\n",
              "    </tr>\n",
              "  </tbody>\n",
              "</table>\n",
              "</div>"
            ],
            "text/plain": [
              "    predictions\n",
              "id             \n",
              "0      7.609165\n",
              "1     11.967303\n",
              "2      7.609165\n",
              "3     18.092789\n",
              "4     15.940808"
            ]
          },
          "metadata": {
            "tags": []
          },
          "execution_count": 107
        }
      ]
    },
    {
      "cell_type": "code",
      "metadata": {
        "execution": {
          "iopub.status.busy": "2021-08-08T09:04:36.609125Z",
          "iopub.execute_input": "2021-08-08T09:04:36.609511Z",
          "iopub.status.idle": "2021-08-08T09:04:36.615364Z",
          "shell.execute_reply.started": "2021-08-08T09:04:36.609481Z",
          "shell.execute_reply": "2021-08-08T09:04:36.614248Z"
        },
        "trusted": true,
        "id": "j02wjTuiKd56",
        "colab": {
          "base_uri": "https://localhost:8080/"
        },
        "outputId": "4a987771-72bc-447a-d3f1-bc81daf1ed84"
      },
      "source": [
        "# saving and downloading csv file from Decision tree\n",
        "predictions.to_csv('predictions_2.csv')\n",
        "from google.colab import files\n",
        "files.download('predictions_2.csv')"
      ],
      "execution_count": null,
      "outputs": [
        {
          "output_type": "display_data",
          "data": {
            "application/javascript": [
              "\n",
              "    async function download(id, filename, size) {\n",
              "      if (!google.colab.kernel.accessAllowed) {\n",
              "        return;\n",
              "      }\n",
              "      const div = document.createElement('div');\n",
              "      const label = document.createElement('label');\n",
              "      label.textContent = `Downloading \"${filename}\": `;\n",
              "      div.appendChild(label);\n",
              "      const progress = document.createElement('progress');\n",
              "      progress.max = size;\n",
              "      div.appendChild(progress);\n",
              "      document.body.appendChild(div);\n",
              "\n",
              "      const buffers = [];\n",
              "      let downloaded = 0;\n",
              "\n",
              "      const channel = await google.colab.kernel.comms.open(id);\n",
              "      // Send a message to notify the kernel that we're ready.\n",
              "      channel.send({})\n",
              "\n",
              "      for await (const message of channel.messages) {\n",
              "        // Send a message to notify the kernel that we're ready.\n",
              "        channel.send({})\n",
              "        if (message.buffers) {\n",
              "          for (const buffer of message.buffers) {\n",
              "            buffers.push(buffer);\n",
              "            downloaded += buffer.byteLength;\n",
              "            progress.value = downloaded;\n",
              "          }\n",
              "        }\n",
              "      }\n",
              "      const blob = new Blob(buffers, {type: 'application/binary'});\n",
              "      const a = document.createElement('a');\n",
              "      a.href = window.URL.createObjectURL(blob);\n",
              "      a.download = filename;\n",
              "      div.appendChild(a);\n",
              "      a.click();\n",
              "      div.remove();\n",
              "    }\n",
              "  "
            ],
            "text/plain": [
              "<IPython.core.display.Javascript object>"
            ]
          },
          "metadata": {
            "tags": []
          }
        },
        {
          "output_type": "display_data",
          "data": {
            "application/javascript": [
              "download(\"download_5bdf05ba-b30f-4e6f-b101-683edba5a886\", \"predictions_2.csv\", 2100)"
            ],
            "text/plain": [
              "<IPython.core.display.Javascript object>"
            ]
          },
          "metadata": {
            "tags": []
          }
        }
      ]
    },
    {
      "cell_type": "code",
      "metadata": {
        "id": "TVEDVbY4RV3g",
        "colab": {
          "base_uri": "https://localhost:8080/"
        },
        "outputId": "7f3f4741-ba5c-48ce-a420-489056bdd269"
      },
      "source": [
        "# Here's a sample submission file\n",
        "sample_submission = pd.read_csv('https://raw.githubusercontent.com/onefishy/Rwanda-course-2020/master/Competition_data/sampleSubmission.csv') # read in the data as a DataFrame\n",
        "sample_submission.head(3) # show the first 3 rows of the dataset"
      ],
      "execution_count": null,
      "outputs": [
        {
          "output_type": "execute_result",
          "data": {
            "text/html": [
              "<div>\n",
              "<style scoped>\n",
              "    .dataframe tbody tr th:only-of-type {\n",
              "        vertical-align: middle;\n",
              "    }\n",
              "\n",
              "    .dataframe tbody tr th {\n",
              "        vertical-align: top;\n",
              "    }\n",
              "\n",
              "    .dataframe thead th {\n",
              "        text-align: right;\n",
              "    }\n",
              "</style>\n",
              "<table border=\"1\" class=\"dataframe\">\n",
              "  <thead>\n",
              "    <tr style=\"text-align: right;\">\n",
              "      <th></th>\n",
              "      <th>id</th>\n",
              "      <th>predictions</th>\n",
              "    </tr>\n",
              "  </thead>\n",
              "  <tbody>\n",
              "    <tr>\n",
              "      <th>0</th>\n",
              "      <td>0</td>\n",
              "      <td>22.661621</td>\n",
              "    </tr>\n",
              "    <tr>\n",
              "      <th>1</th>\n",
              "      <td>1</td>\n",
              "      <td>6.381661</td>\n",
              "    </tr>\n",
              "    <tr>\n",
              "      <th>2</th>\n",
              "      <td>2</td>\n",
              "      <td>21.673614</td>\n",
              "    </tr>\n",
              "  </tbody>\n",
              "</table>\n",
              "</div>"
            ],
            "text/plain": [
              "   id  predictions\n",
              "0   0    22.661621\n",
              "1   1     6.381661\n",
              "2   2    21.673614"
            ]
          },
          "metadata": {
            "tags": []
          },
          "execution_count": 109
        }
      ]
    },
    {
      "cell_type": "code",
      "metadata": {
        "execution": {
          "iopub.status.busy": "2021-08-08T09:14:29.402123Z",
          "iopub.execute_input": "2021-08-08T09:14:29.402476Z",
          "iopub.status.idle": "2021-08-08T09:14:29.442564Z",
          "shell.execute_reply.started": "2021-08-08T09:14:29.402448Z",
          "shell.execute_reply": "2021-08-08T09:14:29.440206Z"
        },
        "trusted": true,
        "id": "H877zQYKKd56"
      },
      "source": [
        "# Save your predictions to a DataFrame\n",
        "# my_submission = model.predict(test_data)\n",
        "\n",
        "# Save submission file\n",
        "# my_submission.to_csv('my_submission.csv', index=False)"
      ],
      "execution_count": null,
      "outputs": []
    },
    {
      "cell_type": "code",
      "metadata": {
        "id": "lr5bz6clRfnh"
      },
      "source": [
        "# Check that your submission looks the same as the samples submission\n",
        "# pd.read_csv('my_submission.csv')"
      ],
      "execution_count": null,
      "outputs": []
    },
    {
      "cell_type": "markdown",
      "metadata": {
        "id": "0GjYT9TzRxD-"
      },
      "source": [
        "# Save and download the submission file and upload to the Kaggle website\n",
        "\n",
        "Then download `my_submission.csv` by running the following line and submit to the [Kaggle](https://www.kaggle.com/t/b9bc778c9e8842d28c5526f578e6c348) compeition website."
      ]
    },
    {
      "cell_type": "code",
      "metadata": {
        "id": "IZLNhb64RuA9"
      },
      "source": [
        "# files.download('my_submission.csv') "
      ],
      "execution_count": null,
      "outputs": []
    }
  ]
}