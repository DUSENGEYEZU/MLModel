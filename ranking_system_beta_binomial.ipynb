{
  "nbformat": 4,
  "nbformat_minor": 0,
  "metadata": {
    "anaconda-cloud": {},
    "kernelspec": {
      "display_name": "Python 3",
      "language": "python",
      "name": "python3"
    },
    "language_info": {
      "codemirror_mode": {
        "name": "ipython",
        "version": 3
      },
      "file_extension": ".py",
      "mimetype": "text/x-python",
      "name": "python",
      "nbconvert_exporter": "python",
      "pygments_lexer": "ipython3",
      "version": "3.6.8"
    },
    "colab": {
      "name": "DUSENGEYEZU_LONGIN_of 12_ranking_system_beta_binomial.ipynb",
      "provenance": [],
      "collapsed_sections": []
    }
  },
  "cells": [
    {
      "cell_type": "markdown",
      "metadata": {
        "id": "Vlwh9scJ2pND"
      },
      "source": [
        "# DAY 12: Beta-Binomial Models\n",
        "\n",
        "### Machine Learning and Computational Statistics (DSC6232)\n",
        "\n",
        "#### Instructors: Weiwei Pan, Melanie Fernandez, Pavlos Protopapas\n",
        "\n",
        "#### Due: August 10th, 2:00 pm Kigali Time"
      ]
    },
    {
      "cell_type": "markdown",
      "metadata": {
        "id": "3WkhfBAkMN_a"
      },
      "source": [
        "**First name**: LONGIN\n",
        "\n",
        "\n",
        "**Last name**: DUSENGEYEZU\n",
        "\n",
        "**ID**: 220020609"
      ]
    },
    {
      "cell_type": "markdown",
      "metadata": {
        "id": "rsRzRcpjMaBZ"
      },
      "source": [
        "## Learning Goals:\n",
        "\n",
        "1. be able to apply Beta-Binomial models to determine fair rankings \n",
        "2. understand the effect of the prior and evidence in this model\n",
        "3. be able to interpret the prior and posterior as real-life beliefs"
      ]
    },
    {
      "cell_type": "markdown",
      "metadata": {
        "id": "8HWxh6FY2pNH"
      },
      "source": [
        "### Load necessary libraries"
      ]
    },
    {
      "cell_type": "code",
      "metadata": {
        "id": "map2N7G-2pNI"
      },
      "source": [
        "import numpy as np\n",
        "import pandas as pd\n",
        "import scipy as sp\n",
        "from scipy.stats import mode\n",
        "from sklearn import linear_model\n",
        "import matplotlib\n",
        "import matplotlib.pyplot as plt\n",
        "%matplotlib inline"
      ],
      "execution_count": null,
      "outputs": []
    },
    {
      "cell_type": "markdown",
      "metadata": {
        "id": "5Ta0C3pH2pNQ"
      },
      "source": [
        "### We include auxiliary functions here that we will need to use later \n",
        "\n",
        "**No need to read in details!**"
      ]
    },
    {
      "cell_type": "code",
      "metadata": {
        "id": "aXfC50q42pNR"
      },
      "source": [
        "def movie_stats(names_df,\n",
        "                ratings_df,\n",
        "                movie_name=None,\n",
        "                movie_name_contains=None,\n",
        "                verbose=False):\n",
        "    '''--------  movie_stats\n",
        "    A function that extracts the total number of ratings and number of likes for a movie\n",
        "    Input: \n",
        "         movie_name (an optional parameter containing the exact name of the movie)\n",
        "         movie_name_contains (an optional parameter containing part of the movie name)\n",
        "    Returns: \n",
        "         total_ratings (the total number of ratings for a movie)\n",
        "         likes (the total number of likes for a movie)\n",
        "    '''\n",
        "    \n",
        "    #If given an exact movie name:\n",
        "    if movie_name is not None:        \n",
        "        #Find the index of the movie, by name, in the \"names\" dataframe\n",
        "        movie_index = names_df[names_df['movie_name'] == movie_name].index[0]\n",
        "        #Get the id for the movie in the \"names\" dataframe\n",
        "        movie_id = names_df.loc[movie_index, 'movie_id']\n",
        "        #Get all ratings for the movie, by id, in the \"ratings\" dataframe\n",
        "        ratings_for_movie = ratings_df[ratings_df['movie_id'] == movie_id]\n",
        "        #Count the total number of ratings\n",
        "        total_ratings = len(ratings_for_movie)\n",
        "        #Count the likes (the 1's)\n",
        "        likes = ratings_for_movie['rating'].sum()\n",
        "    \n",
        "    #Otherwise, if given a partial movie name:\n",
        "    elif movie_name_contains is not None:\n",
        "        #Find the index of the movie, by name, in the \"names\" dataframe\n",
        "        movie_index = names_df[names_df['movie_name'].str.contains(movie_name_contains,case=False)].index[0]\n",
        "        if verbose: print(names_df['movie_name'][movie_index])\n",
        "        #Get the id for the movie in the \"names\" dataframe\n",
        "        movie_id = names_df.loc[movie_index, 'movie_id']\n",
        "        #Get all ratings for the movie, by id, in the \"ratings\" dataframe\n",
        "        ratings_for_movie = ratings_df[ratings_df['movie_id'] == movie_id]\n",
        "        #Count the total number of ratings\n",
        "        total_ratings = len(ratings_for_movie)\n",
        "        #Count the likes (the 1's)\n",
        "        likes = ratings_for_movie['rating'].sum()\n",
        "    \n",
        "    else:\n",
        "        total_ratings = 0.\n",
        "        likes = 0.\n",
        "    \n",
        "    return float(total_ratings), likes\n",
        "\n",
        "\n",
        "def generate_list_top_movies(names_df, ratings_df, n_movies=25):\n",
        "    '''--------  generate_list_top_movies\n",
        "    A function that makes a list of movie names and their ratings info,\n",
        "    based on like-percentage only\n",
        "    Input: \n",
        "         names_df (a dataframe containing the names of the movie)\n",
        "         ratings_df (a dataframe containing the movie ratings)\n",
        "         n_movies (an optional parameter indicating the number of movies to return)\n",
        "    Returns: \n",
        "         top_movies (the top movies ranked by like-percentage)\n",
        "    '''\n",
        "\n",
        "    likability = []\n",
        "\n",
        "    #Iterate through all the movie names\n",
        "    for name in names_df['movie_name'].values:\n",
        "        #Get ratings info for movie\n",
        "        total_ratings, likes = movie_stats(names_df, ratings_df, movie_name=name)\n",
        "        #Add movie info to our list\n",
        "        likability.append((name, likes, total_ratings, likes / total_ratings))\n",
        "\n",
        "    #Sort our list of movie info by like-percentage, in descending order\n",
        "    sorted_likability = sorted(likability, key=lambda t: t[3], reverse=True)  \n",
        "    #Get the movies with top 25 like-percentage\n",
        "    top_movies = sorted_likability[:n_movies]\n",
        "\n",
        "    #Print results of ranking\n",
        "    print('Top %d Movies' % n_movies)\n",
        "    print('****************************')\n",
        "    for movie, likes, total_ratings, likable in top_movies:\n",
        "        print(movie, ':', likable, '({}/{})'.format(likes, total_ratings))\n",
        "    return top_movies\n",
        "\n",
        "\n",
        "def plot_beta_prior(a, b, color, ax):\n",
        "    '''--------  plot_beta_prior\n",
        "    A function to visualize a beta pdf on a set of axes\n",
        "    Input: \n",
        "         a (parameter controlling shape of beta prior)\n",
        "         b (parameter controlling shape of beta prior)\n",
        "         color (color of beta pdf)\n",
        "         ax (axes on which to plot pdf)\n",
        "    Returns: \n",
        "         ax (axes with plot of beta pdf)\n",
        "    '''\n",
        "    \n",
        "    #Create a beta-distributed random variable with shape a, b\n",
        "    rv = sp.stats.beta(a, b)\n",
        "    #Create values from 0 to 1\n",
        "    x = np.linspace(0, 1, 100)\n",
        "    #Plot the beta pdf for values from 0 to 1\n",
        "    ax.plot(x, rv.pdf(x), '-', lw=2, color=color, label='a=' + str(a) + ', b=' + str(b))\n",
        "    #Set title, legend etc\n",
        "    ax.set_title('Beta prior with a=' + str(a) + ', b=' + str(b))\n",
        "    ax.legend(loc='best')\n",
        "    \n",
        "    return ax\n",
        "\n",
        "\n",
        "def sample_posterior(a, b, likes, ratings, n_samples):\n",
        "    '''--------  sample_posterior\n",
        "    A function that samples points from the posterior over a movie's \n",
        "    likability, given a binomial likelihood function and beta prior\n",
        "    Input: \n",
        "         a (parameter controlling shape of beta prior)\n",
        "         b (parameter controlling shape of beta prior)\n",
        "         likes (the number of likes in likelihood)\n",
        "         ratings (total number of ratings in likelihood)\n",
        "         n_samples (number of samples to take from posterior)\n",
        "    Returns: \n",
        "         post_samples (a array of points from the posterior)\n",
        "    '''\n",
        "    #Samples points from a beta distribution \n",
        "    #(the posterior of a binomial likelihood and a beta prior is a beta distribution!)\n",
        "    post_samples = np.random.beta(a + likes, b + ratings - likes, n_samples)\n",
        "    return post_samples\n",
        "\n",
        "\n",
        "def find_mode(values, num_bins):\n",
        "    '''--------  find_mode\n",
        "    A function that approximates the mode of a distribution given a sample from the distribution\n",
        "    Input: \n",
        "         values (samples from the distribution)\n",
        "         num_bins (number of bins to use in approximating histogram)\n",
        "    Returns: \n",
        "         mode (the approximate mode of the distribution)\n",
        "    '''\n",
        "    \n",
        "    #Make an approximation (histogram) of the distribution using the samples\n",
        "    bins, edges = np.histogram(values, bins=num_bins)\n",
        "    #Find the bin in the histogram with the max height\n",
        "    max_height_index = np.argmax(bins)\n",
        "    #Find the sample corresponding to the bin with the max height (the mode)\n",
        "    mode = (edges[max_height_index] + edges[max_height_index + 1]) / 2.\n",
        "    \n",
        "    return mode"
      ],
      "execution_count": null,
      "outputs": []
    },
    {
      "cell_type": "markdown",
      "metadata": {
        "id": "N_oMLFJK2pNz"
      },
      "source": [
        "# Application: building a ranking system of movies based on ratings\n",
        "\n",
        "The objective is to build a ranking system to recommend movies using ratings from users.\n",
        "\n",
        "One way of recommending movies is to give a list of movies that are generally agreed upon to be good. But how do we measure the \"goodness\" or \"likability\" of a movie?"
      ]
    },
    {
      "cell_type": "markdown",
      "metadata": {
        "id": "YJkeCDq42pN1"
      },
      "source": [
        "### Read the data and explore\n",
        "\n",
        "The dataset for this problem is contained in `ratings_df` (below). This dataset contains ratings from 100 users for 1000 movies. The first two columns contain the user and movie IDs. The last column contains a 1 if the user liked the movie, and 0 otherwise. Not every movie is rated by every user (i.e. some movies have more ratings than others).\n",
        "\n",
        "The names of the movies corresponding to the IDs are provided in `names.df` (below).\n",
        "\n",
        "Let's first read in the data in the csv file and get acquainted with our data."
      ]
    },
    {
      "cell_type": "code",
      "metadata": {
        "id": "uRYetwF52pN3",
        "colab": {
          "base_uri": "https://localhost:8080/",
          "height": 204
        },
        "outputId": "8a1011ce-4b46-4a96-b5fb-4d211fc3602a"
      },
      "source": [
        "# read in the movie ratings data from a csv file\n",
        "ratings_df = pd.read_csv('https://raw.githubusercontent.com/melaniefp/melaniefp.github.io/master/rwanda_course_files/dataset_4_ratings.txt', delimiter=',')\n",
        "# print out the first 5 rows of the dataframe\n",
        "ratings_df.head()"
      ],
      "execution_count": null,
      "outputs": [
        {
          "output_type": "execute_result",
          "data": {
            "text/html": [
              "<div>\n",
              "<style scoped>\n",
              "    .dataframe tbody tr th:only-of-type {\n",
              "        vertical-align: middle;\n",
              "    }\n",
              "\n",
              "    .dataframe tbody tr th {\n",
              "        vertical-align: top;\n",
              "    }\n",
              "\n",
              "    .dataframe thead th {\n",
              "        text-align: right;\n",
              "    }\n",
              "</style>\n",
              "<table border=\"1\" class=\"dataframe\">\n",
              "  <thead>\n",
              "    <tr style=\"text-align: right;\">\n",
              "      <th></th>\n",
              "      <th>user_id</th>\n",
              "      <th>movie_id</th>\n",
              "      <th>rating</th>\n",
              "    </tr>\n",
              "  </thead>\n",
              "  <tbody>\n",
              "    <tr>\n",
              "      <th>0</th>\n",
              "      <td>22.0</td>\n",
              "      <td>377.0</td>\n",
              "      <td>0.0</td>\n",
              "    </tr>\n",
              "    <tr>\n",
              "      <th>1</th>\n",
              "      <td>62.0</td>\n",
              "      <td>257.0</td>\n",
              "      <td>0.0</td>\n",
              "    </tr>\n",
              "    <tr>\n",
              "      <th>2</th>\n",
              "      <td>95.0</td>\n",
              "      <td>546.0</td>\n",
              "      <td>0.0</td>\n",
              "    </tr>\n",
              "    <tr>\n",
              "      <th>3</th>\n",
              "      <td>38.0</td>\n",
              "      <td>95.0</td>\n",
              "      <td>1.0</td>\n",
              "    </tr>\n",
              "    <tr>\n",
              "      <th>4</th>\n",
              "      <td>63.0</td>\n",
              "      <td>277.0</td>\n",
              "      <td>1.0</td>\n",
              "    </tr>\n",
              "  </tbody>\n",
              "</table>\n",
              "</div>"
            ],
            "text/plain": [
              "   user_id  movie_id  rating\n",
              "0     22.0     377.0     0.0\n",
              "1     62.0     257.0     0.0\n",
              "2     95.0     546.0     0.0\n",
              "3     38.0      95.0     1.0\n",
              "4     63.0     277.0     1.0"
            ]
          },
          "metadata": {
            "tags": []
          },
          "execution_count": 3
        }
      ]
    },
    {
      "cell_type": "code",
      "metadata": {
        "scrolled": true,
        "id": "Kb_E4m5V2pN9",
        "colab": {
          "base_uri": "https://localhost:8080/",
          "height": 204
        },
        "outputId": "e3a0c48b-1341-4c71-a54f-d0948b672def"
      },
      "source": [
        "# read in the movie names form a csv file\n",
        "names_df = pd.read_csv('https://raw.githubusercontent.com/melaniefp/melaniefp.github.io/master/rwanda_course_files/movie_names.csv')\n",
        "# print out the first 5 rows of the dataframe\n",
        "names_df.head()"
      ],
      "execution_count": null,
      "outputs": [
        {
          "output_type": "execute_result",
          "data": {
            "text/html": [
              "<div>\n",
              "<style scoped>\n",
              "    .dataframe tbody tr th:only-of-type {\n",
              "        vertical-align: middle;\n",
              "    }\n",
              "\n",
              "    .dataframe tbody tr th {\n",
              "        vertical-align: top;\n",
              "    }\n",
              "\n",
              "    .dataframe thead th {\n",
              "        text-align: right;\n",
              "    }\n",
              "</style>\n",
              "<table border=\"1\" class=\"dataframe\">\n",
              "  <thead>\n",
              "    <tr style=\"text-align: right;\">\n",
              "      <th></th>\n",
              "      <th>movie_id</th>\n",
              "      <th>movie_name</th>\n",
              "    </tr>\n",
              "  </thead>\n",
              "  <tbody>\n",
              "    <tr>\n",
              "      <th>0</th>\n",
              "      <td>1</td>\n",
              "      <td>Toy Story (1995)</td>\n",
              "    </tr>\n",
              "    <tr>\n",
              "      <th>1</th>\n",
              "      <td>2</td>\n",
              "      <td>GoldenEye (1995)</td>\n",
              "    </tr>\n",
              "    <tr>\n",
              "      <th>2</th>\n",
              "      <td>3</td>\n",
              "      <td>Four Rooms (1995)</td>\n",
              "    </tr>\n",
              "    <tr>\n",
              "      <th>3</th>\n",
              "      <td>4</td>\n",
              "      <td>Get Shorty (1995)</td>\n",
              "    </tr>\n",
              "    <tr>\n",
              "      <th>4</th>\n",
              "      <td>5</td>\n",
              "      <td>Copycat (1995)</td>\n",
              "    </tr>\n",
              "  </tbody>\n",
              "</table>\n",
              "</div>"
            ],
            "text/plain": [
              "   movie_id         movie_name\n",
              "0         1   Toy Story (1995)\n",
              "1         2   GoldenEye (1995)\n",
              "2         3  Four Rooms (1995)\n",
              "3         4  Get Shorty (1995)\n",
              "4         5     Copycat (1995)"
            ]
          },
          "metadata": {
            "tags": []
          },
          "execution_count": 4
        }
      ]
    },
    {
      "cell_type": "code",
      "metadata": {
        "colab": {
          "base_uri": "https://localhost:8080/",
          "height": 80
        },
        "id": "WOR7OPxTF1Xz",
        "outputId": "d3a35885-3ad8-4797-f84c-563568202e6d"
      },
      "source": [
        "names_df[names_df['movie_name'].str.contains('Unhook the Stars')]"
      ],
      "execution_count": null,
      "outputs": [
        {
          "output_type": "execute_result",
          "data": {
            "text/html": [
              "<div>\n",
              "<style scoped>\n",
              "    .dataframe tbody tr th:only-of-type {\n",
              "        vertical-align: middle;\n",
              "    }\n",
              "\n",
              "    .dataframe tbody tr th {\n",
              "        vertical-align: top;\n",
              "    }\n",
              "\n",
              "    .dataframe thead th {\n",
              "        text-align: right;\n",
              "    }\n",
              "</style>\n",
              "<table border=\"1\" class=\"dataframe\">\n",
              "  <thead>\n",
              "    <tr style=\"text-align: right;\">\n",
              "      <th></th>\n",
              "      <th>movie_id</th>\n",
              "      <th>movie_name</th>\n",
              "    </tr>\n",
              "  </thead>\n",
              "  <tbody>\n",
              "    <tr>\n",
              "      <th>145</th>\n",
              "      <td>146</td>\n",
              "      <td>Unhook the Stars (1996)</td>\n",
              "    </tr>\n",
              "  </tbody>\n",
              "</table>\n",
              "</div>"
            ],
            "text/plain": [
              "     movie_id               movie_name\n",
              "145       146  Unhook the Stars (1996)"
            ]
          },
          "metadata": {
            "tags": []
          },
          "execution_count": 5
        }
      ]
    },
    {
      "cell_type": "markdown",
      "metadata": {
        "id": "M_vCh_Nw2pOC"
      },
      "source": [
        "### Rank movies based on number of positive ratings (\"likes\")\n",
        "\n",
        "Let's compare the number of total ratings and \"likes\" for a couple of movies.\n",
        "\n",
        "**Exercise 1:** What is the number of total ratings and \"likes\" for the following movies?\n",
        "* `Batman Forever (1995)` **Total ratings = 10; Likes = 1**\n",
        "* `Unhook the Stars (1996)`**Total ratings = 1; Likes = 1**\n",
        "* `Shawshank Redemption, The (1994)`**Total ratings = 39; Likes = 39**\n",
        "\n",
        "To help you, the following helper function `compute_n_ratings_and_likes` takes a movie name, and returns total number of ratings, and total number of positive ratings (\"likes\").\n",
        "\n",
        "Based on the total number of \"likes\", which of the following movies would you recommend? Is that a good ranking system?\n",
        "\n",
        "**Answer:**\n",
        "\n",
        "Based on the likes, I would recommend Shawshank Redemption because it has more likes compared to other movies. \n",
        "\n",
        "Additionally this is not a good ranking system since it is taking into account the likelihood which is evidence of enough data only but ignoring the prior beliefs which also have an impact on the rating system like the type of movie, the actors of the movie and year it was published.\n",
        "\n",
        "\n",
        "Also as you can see all movies rating are not the same also like is not the same this means that for movie with small number of rating may be if rating increase also likes should increase or not we are not sure.so this is not good ranking system since where we have small data our ranking can be biased same time overfit our belief  \n",
        "\n"
      ]
    },
    {
      "cell_type": "code",
      "metadata": {
        "id": "RRDIckrn2pOD"
      },
      "source": [
        "# call the following function to extract the information\n",
        "def compute_movie_stats(movie_name=None, movie_name_contains=None):\n",
        "    total_ratings, likes = movie_stats(names_df, ratings_df,\n",
        "        movie_name=movie_name, movie_name_contains=movie_name_contains, verbose=True)\n",
        "    print('total number of ratings:', total_ratings)\n",
        "    print('number of likes:', likes,'\\n')\n",
        "    return total_ratings, likes"
      ],
      "execution_count": null,
      "outputs": []
    },
    {
      "cell_type": "code",
      "metadata": {
        "id": "KobPoO2y2pOI",
        "colab": {
          "base_uri": "https://localhost:8080/"
        },
        "outputId": "2f138782-f05a-4757-8153-bb2ad0065a4d"
      },
      "source": [
        "# Step 1: Print the number of ratings and likes for Batman\n",
        "compute_movie_stats(movie_name_contains='batman')\n",
        "\n",
        "# Step 2: Print the number of rating and likes for Unhood the Stars and Shawshank Redemption\n",
        "compute_movie_stats(movie_name_contains='Shawshank Redemption')\n",
        "compute_movie_stats(movie_name_contains='Unhook the Stars')"
      ],
      "execution_count": null,
      "outputs": [
        {
          "output_type": "stream",
          "text": [
            "Batman Forever (1995)\n",
            "total number of ratings: 10.0\n",
            "number of likes: 1.0 \n",
            "\n",
            "Shawshank Redemption, The (1994)\n",
            "total number of ratings: 39.0\n",
            "number of likes: 39.0 \n",
            "\n",
            "Unhook the Stars (1996)\n",
            "total number of ratings: 1.0\n",
            "number of likes: 1.0 \n",
            "\n"
          ],
          "name": "stdout"
        },
        {
          "output_type": "execute_result",
          "data": {
            "text/plain": [
              "(1.0, 1.0)"
            ]
          },
          "metadata": {
            "tags": []
          },
          "execution_count": 16
        }
      ]
    },
    {
      "cell_type": "markdown",
      "metadata": {
        "id": "JJgAe5Ly2pOQ"
      },
      "source": [
        "### Rank movies based on percentage of likes\n",
        "\n",
        "Now, instead of using the total number of likes, we use the total percentage of likes to rank the movies. Each movie will have a *score* associated:\n",
        "$$ score =\\frac{ n_{likes}}{ n_{ratings}} \\in [0,1]$$\n",
        "\n",
        "**Exercise 2:** Print out the top 25 movies ranked by the like-percentage. Do you feel like this list best represents the most \"popular\" or \"beloved\" movies in the database? If not, why isn't our ranking system doing a good job (what's wrong with ranking by like-percentage)?\n",
        "\n",
        "\n",
        "**Answer: No i don't think this list represents the best 25 movies, since even most of these first 25 have low ratings even if the like-percentage is 100%, having a small number of data points we are uncertain of the percentages but also again we can't fairly compare the movies with different ratings**"
      ]
    },
    {
      "cell_type": "code",
      "metadata": {
        "id": "UDR-NqPN2pOR",
        "colab": {
          "base_uri": "https://localhost:8080/"
        },
        "outputId": "5f94043f-e150-497e-a723-ad777ce958cd"
      },
      "source": [
        "# Step 1: Generate top-list of movies\n",
        "top_25_movies = generate_list_top_movies(names_df, ratings_df, n_movies=25)"
      ],
      "execution_count": null,
      "outputs": [
        {
          "output_type": "stream",
          "text": [
            "Top 25 Movies\n",
            "****************************\n",
            "French Twist (Gazon maudit) (1995) : 1.0 (2.0/2.0)\n",
            "Exotica (1994) : 1.0 (2.0/2.0)\n",
            "Three Colors: Red (1994) : 1.0 (12.0/12.0)\n",
            "Three Colors: White (1994) : 1.0 (8.0/8.0)\n",
            "Shawshank Redemption, The (1994) : 1.0 (39.0/39.0)\n",
            "Brother Minister: The Assassination of Malcolm X (1994) : 1.0 (1.0/1.0)\n",
            "Carlito's Way (1993) : 1.0 (4.0/4.0)\n",
            "Robert A. Heinlein's The Puppet Masters (1994) : 1.0 (2.0/2.0)\n",
            "Horseman on the Roof, The (Hussard sur le toit, Le) (1995) : 1.0 (2.0/2.0)\n",
            "Wallace & Gromit: The Best of Aardman Animation (1996) : 1.0 (6.0/6.0)\n",
            "Maya Lin: A Strong Clear Vision (1994) : 1.0 (1.0/1.0)\n",
            "Unhook the Stars (1996) : 1.0 (1.0/1.0)\n",
            "Wrong Trousers, The (1993) : 1.0 (14.0/14.0)\n",
            "Godfather: Part II, The (1974) : 1.0 (18.0/18.0)\n",
            "Ridicule (1996) : 1.0 (5.0/5.0)\n",
            "Pillow Book, The (1995) : 1.0 (2.0/2.0)\n",
            "When the Cats Away (Chacun cherche son chat) (1996) : 1.0 (3.0/3.0)\n",
            "unknown : 1.0 (2.0/2.0)\n",
            "Once Upon a Time... When We Were Colored (1995) : 1.0 (2.0/2.0)\n",
            "Assignment, The (1997) : 1.0 (1.0/1.0)\n",
            "Wonderland (1997) : 1.0 (2.0/2.0)\n",
            "Incognito (1997) : 1.0 (1.0/1.0)\n",
            "Blues Brothers 2000 (1998) : 1.0 (2.0/2.0)\n",
            "Fear of a Black Hat (1993) : 1.0 (2.0/2.0)\n",
            "To Catch a Thief (1955) : 1.0 (6.0/6.0)\n"
          ],
          "name": "stdout"
        }
      ]
    },
    {
      "cell_type": "markdown",
      "metadata": {
        "id": "Ojlujx-Y2pOY"
      },
      "source": [
        "### Exploring the effect of prior beliefs\n",
        "\n",
        "Recall that we can prejudice our models (if we don't like their results) by building in some prior beliefs about the model parameters. In this case, our model parameter is \"the likability of a movie\". So let's encode some prior beliefs for what we think are reasonable values for \"likability\". To keep things simple, we will restrict ourselves to using beta priors to model our beliefs about \"likability\".\n",
        "\n",
        "We have built for you a few helpful functions: one to help you visualize the pdf for various beta priors, one for approximating the posterior using samples, and one for calculating the mode of a distribution (given by some sampled values)."
      ]
    },
    {
      "cell_type": "markdown",
      "metadata": {
        "id": "e9jIn2lJ2pOZ"
      },
      "source": [
        "First, let's explore the shapes of various beta pdfs and let's interpret these shapes as prior beliefs.\n",
        "\n",
        "**Exercise 3:** The following is a set of five differe beta distributions. Describe in words what prior belief about the movie corresponds to each prior. Which beta prior encodes an appropriate belief about likability? Why?\n",
        "\n",
        "**Answer:**\n",
        "\n",
        "\n",
        "**1. Beta prior with a=1,b=1; we are assuming that the score of this distribution can take any value between 0 and 1 which implies we don't know which score is most likely to occur,It is like no prior belief about score**\n",
        "\n",
        "**2. Beta prior with a = 0.5, b = 0.5; our prior assumes that the movie will be either extremly liked or extremly disliked with a no score around 0.5, means that movie is good or not no mediam point**\n",
        "\n",
        "\n",
        "**3. Beta prior with a = 2, b = 0.5; our prior belief is that the movie is mediocre (neither too good nor too bad), and people will not have a strong feeling about it**\n",
        "\n",
        "**4. Beta prior with a = 4, b = 2; our prior belief is that  people will strongly like the movie since the highest score is centered around 0.8**\n",
        "\n",
        "**5. Beta prior with a = 2, b = 4; our prior belief is that  people will strongly  dislikely the movie since the highest score is centered around 0.3**\n",
        "\n",
        "**NB:  We cannot specify a good prior to set about likability of the movie because any of one can be Good prior or not actually it depends to the number of factors.\n",
        "But what you have to keep in mind is that prior belief play important role in the case of small data because can help to reduce overfitting but when we choose wrong prior model for small data model became mostly worse \n",
        "So it is recommended to choose prior which can fit to human interpretability of our data means that we can choose prior that help human being to taka good decision**\n"
      ]
    },
    {
      "cell_type": "code",
      "metadata": {
        "id": "NOcZpnId2pOa",
        "colab": {
          "base_uri": "https://localhost:8080/",
          "height": 260
        },
        "outputId": "1b15c251-e4ea-4169-ad61-678dfaec8cea"
      },
      "source": [
        "# Step 1: A list of beta distribution shapes to try out\n",
        "beta_shapes = [(1, 1), (0.5, 0.5), (2, 2), (4, 2), (2, 4)]\n",
        "\n",
        "# Step 2: Length of the list of shapes\n",
        "n = len(beta_shapes)\n",
        "\n",
        "# Step 3: Plot all the beta pdfs in a row\n",
        "fig, ax = plt.subplots(1, n, figsize=(20, 4))\n",
        "\n",
        "# Step 4: Start the index of the current subplot at 0\n",
        "ax_ind = 0\n",
        "\n",
        "# Step 5: Iterate through all the shapes\n",
        "for a, b in beta_shapes:\n",
        "    # Step 5a: Plot the beta pdf for a particular shape\n",
        "    plot_beta_prior(a, b, 'blue', ax[ax_ind])\n",
        "\n",
        "    # Step 5b: Increment the subplot index\n",
        "    ax_ind += 1\n",
        "    \n",
        "plt.tight_layout()    \n",
        "plt.show() "
      ],
      "execution_count": null,
      "outputs": [
        {
          "output_type": "display_data",
          "data": {
            "image/png": "[encoded data removed]",
            "text/plain": [
              "<Figure size 1440x288 with 5 Axes>"
            ]
          },
          "metadata": {
            "tags": [],
            "needs_background": "light"
          }
        }
      ]
    },
    {
      "cell_type": "markdown",
      "metadata": {
        "id": "R1Aqz6AM2pOf"
      },
      "source": [
        "\n",
        "Let's then look at the effect of the priors on the posterior of likability for a specific movie.\n",
        "\n",
        "**Exercise 4:** For the movie the \"French Twist\", print out the posterior of the Beta-Binomial model for each of five priors in Exercise 3. \n",
        "\n",
        "Describe in words what belief about the movie corresponds to each posterior.\n",
        "\n",
        "Describe the effect of the prior on the posterior distribution. \n",
        "\n",
        "\n",
        "**Answer:**\n",
        "\n",
        "We have seen in above exercise that once we have small data then our pictorial is affected by the prior. Here we  French Twist has rate of 2 and like 2 this is considered as small data in movie field just to measure likability of movies \n",
        "\n",
        "The Posterior with Beta prior (a=1, b=1), the posterior mode indicates that most of the likes are around 1  but also it take values from zero up to one, since there is little data about the model so the prior beliefs will still dominate thus being less certain about the results.\n",
        "\n",
        "Posterior with Beta prior (a=0.5, b=0.5), the posterior mode again indicates that most of the likes are around 1 also here it takes value any value from 1 up to zero since there is little data about the model Posterior indicate more uncertainty we are not sure about the result  but here  the prior belfiefs is not dominating  the likehilood.\n",
        "\n",
        "Posterior with Beta prior (a=2, b=2), the posterior mode indicates that most of the likes are around 0.77 which makes our beliefs to change very little from 0.5 as previsously indicated in exercise to 0.77 due to presence of little evidence\n",
        "\n",
        "Posterior with Beta prior (a=4, b=2), the posterior mode is around 0.82 which shows that most likes of movie are around 0.82 which gives the same results like the prior beliefs as in exercise 3 thus the results may not change as there is little evedence which makes the prior beliefs to over power the likelihood. But with more uncertainty.\n",
        "\n",
        "Posterior with Beta prior (a=2, b=4), the posterior mode is around 0.5 which makes our prior beliefs to change as seen in exercise 3 where the prior beliefs indicate that more likes are around 0.3 due to presence of little data points.\n",
        "\n",
        "**The the posterior distribution, the prior beliefs are likely to change based on what we see in the data because in case of little data, our beliefs may change little thus the prior beliefs may bias our conclusions also whatever conclusion we can take we are less confident since we have little observed data**  .\n",
        "\n",
        "\n",
        "\n",
        "\n",
        "  .\n",
        "\n",
        "\n",
        "\n"
      ]
    },
    {
      "cell_type": "code",
      "metadata": {
        "id": "clTqR1aE2pOg",
        "colab": {
          "base_uri": "https://localhost:8080/"
        },
        "outputId": "df3475d3-e6b6-4578-e92b-d77b264314c4"
      },
      "source": [
        "# Step 1: Get the name of the first movie in the previous top-25 list\n",
        "movie_name = top_25_movies[0][0]\n",
        "\n",
        "# Step 2: Get the ratings info for the first movie in the top 25 list\n",
        "likes = top_25_movies[0][1]\n",
        "total_ratings = top_25_movies[0][2]\n",
        "likability = top_25_movies[0][3]\n",
        "\n",
        "# Step 3: Print movie info\n",
        "print('{}: {} ({}/{})'.format(movie_name, likability, likes, total_ratings))"
      ],
      "execution_count": null,
      "outputs": [
        {
          "output_type": "stream",
          "text": [
            "French Twist (Gazon maudit) (1995): 1.0 (2.0/2.0)\n"
          ],
          "name": "stdout"
        }
      ]
    },
    {
      "cell_type": "code",
      "metadata": {
        "id": "KZ8ISP6h2pOl",
        "colab": {
          "base_uri": "https://localhost:8080/",
          "height": 262
        },
        "outputId": "bb6dff53-bae7-4bf1-f7d3-324d22f84375"
      },
      "source": [
        "# Step 4: Number of samples to use when approximating our posterior\n",
        "n_samples = 10000\n",
        "\n",
        "# Step 5: Plot the posterior corresponding to each prior\n",
        "fig, ax = plt.subplots(1, n, figsize=(20, 4))\n",
        "\n",
        "# Step 6: Start the index of the current subplot at 0\n",
        "ax_ind = 0\n",
        "\n",
        "# Step 7: Iterate through all the shapes\n",
        "for a, b in beta_shapes:   \n",
        "    # Step 7a: Draw samples from the posterior corresponding to a particular beta prior\n",
        "    post_samples = sample_posterior(a, b, likes, total_ratings, n_samples)\n",
        "\n",
        "    # Step 7b: Approximate the posterior with a histogram of these samples\n",
        "    ax[ax_ind].hist(post_samples, bins=30, color='red', alpha=0.5)\n",
        "\n",
        "    # Step 7c: Find the approximate mode of the posterior\n",
        "    mode = find_mode(post_samples, 30)\n",
        "\n",
        "    # Step 7d: Plot the mode as a vertical line\n",
        "    ax[ax_ind].axvline(x=mode, linewidth=3, label='Posterior mode')\n",
        "    \n",
        "    # Step 7e: Set title, legends etc\n",
        "    ax[ax_ind].set_title('Posterior, with Beta prior (a={}, b={})'.format(a, b))\n",
        "    ax[ax_ind].legend(loc='best')\n",
        "\n",
        "    # Step 7f: Increment the subplot index\n",
        "    ax_ind += 1\n",
        "\n",
        "plt.tight_layout()\n",
        "plt.show() "
      ],
      "execution_count": null,
      "outputs": [
        {
          "output_type": "display_data",
          "data": {
            "image/png": "[encoded data removed]",
            "text/plain": [
              "<Figure size 1440x288 with 5 Axes>"
            ]
          },
          "metadata": {
            "tags": [],
            "needs_background": "light"
          }
        }
      ]
    },
    {
      "cell_type": "markdown",
      "metadata": {
        "id": "wpvVIqvmcYnI"
      },
      "source": [
        "**Exercise 5:** For the movie the \"Shawshank Redemption\", print out the posterior of the Beta-Binomial model for each of five priors in Exercise 3. \n",
        "\n",
        "Describe in words what belief about the movie corresponds to each posterior.\n",
        "\n",
        "Describe the effect of the prior on the posterior distribution. \n",
        "\n",
        "Compare the posteriors for \"Shawshank Redemption\" to those for \"French Twist\", explain why the posteriors for these movies look different when the same priors are used. Relate your answers to the concepts from lecture.\n",
        "\n",
        "\n",
        "**Answer:**\n",
        "\n",
        "We have seen in above exercise that once we have small data then our pictorial is affected by the prior. Here we  Shawshank Redemption has rate of 39.0 and like 39.0 this is considered as small data in movie field just to measure likability of movies  but at least observed data is increased  compared to  the French Twist movie.\n",
        "\n",
        "The Posterior with Beta prior (a=1, b=1), the posterior mode indicates that most of the likes are around 1 now because data is increased posterior changes compared to exercise 4.\n",
        "\n",
        "Posterior with Beta prior (a=0.5, b=0.5), the posterior mode again indicates that most of the likes are around 1.\n",
        "\n",
        "Posterior with Beta prior (a=2, b=2), the posterior mode indicates that most of the likes are around 0.98 which makes our beliefs to change very much from 0.5 as previsously indicated in exercise to 0.77 due to presence of enough evidenece in form of much data points.\n",
        "\n",
        "Posterior with Beta prior (a=4, b=2), the posterior mode is around 0.98 which shows that most likes of movie are around 0.98 which also makes our prior beliefs to change as seen in exercise 3 thus due to the likelihood overpowering the prior beliefs.\n",
        "\n",
        "Posterior with Beta prior (a=2, b=4), the posterior mode is around 0.94 which makes our prior beliefs to change greatly as seen in exercise 3 where the prior beliefs indicate that more likes are aroud 0.3 since there is enough evidence in form of data.\n",
        "\n",
        "\n",
        "**When there is a lot of data, our beliefs change greatly from the prior beliefs since there is enough data and our conclusions are based on the enough evidence available not the prior beliefs**\n",
        "\n",
        "**The posteriors for Shawshank Redemption are different from those of French Twist irrespective of the same priors used because the posteriors of Shawshank Redemption are influenced by enough evidence in form of enough data(39 observations) while the posteriors of French Twist are influenced by prior beliefs because there is little data(2 observations).**\n",
        "\n",
        "\n"
      ]
    },
    {
      "cell_type": "code",
      "metadata": {
        "colab": {
          "base_uri": "https://localhost:8080/"
        },
        "id": "-SWszNf-R3Ay",
        "outputId": "99ac3eae-587e-4adb-e3aa-de5646b824c7"
      },
      "source": [
        "# Step 1: Get the name of the first movie in the previous top-25 list\n",
        "movie_name = top_25_movies[4][0]\n",
        "\n",
        "# Step 2: Get the ratings info for the first movie in the top 25 list\n",
        "likes = top_25_movies[4][1]\n",
        "total_ratings = top_25_movies[4][2]\n",
        "likability = top_25_movies[4][3]\n",
        "\n",
        "# Step 3: Print movie info\n",
        "print('{}: {} ({}/{})'.format(movie_name, likability, likes, total_ratings))"
      ],
      "execution_count": null,
      "outputs": [
        {
          "output_type": "stream",
          "text": [
            "Shawshank Redemption, The (1994): 1.0 (39.0/39.0)\n"
          ],
          "name": "stdout"
        }
      ]
    },
    {
      "cell_type": "code",
      "metadata": {
        "id": "6mJNkI1ncX6Z",
        "colab": {
          "base_uri": "https://localhost:8080/",
          "height": 262
        },
        "outputId": "d1bcf48b-eea5-41b5-9b56-e5ccd8302edd"
      },
      "source": [
        "# Step 4: Number of samples to use when approximating our posterior\n",
        "n_samples = 10000\n",
        "\n",
        "# Step 5: Plot the posterior corresponding to each prior\n",
        "fig, ax = plt.subplots(1, n, figsize=(20, 4))\n",
        "\n",
        "# Step 6: Start the index of the current subplot at 0\n",
        "ax_ind = 0\n",
        "\n",
        "# Step 7: Iterate through all the shapes\n",
        "for a, b in beta_shapes:   \n",
        "    # Step 7a: Draw samples from the posterior corresponding to a particular beta prior\n",
        "    post_samples = sample_posterior(a, b, likes, total_ratings, n_samples)\n",
        "\n",
        "    # Step 7b: Approximate the posterior with a histogram of these samples\n",
        "    ax[ax_ind].hist(post_samples, bins=30, color='red', alpha=0.5)\n",
        "\n",
        "    # Step 7c: Find the approximate mode of the posterior\n",
        "    mode = find_mode(post_samples, 30)\n",
        "\n",
        "    # Step 7d: Plot the mode as a vertical line\n",
        "    ax[ax_ind].axvline(x=mode, linewidth=3, label='Posterior mode')\n",
        "    \n",
        "    # Step 7e: Set title, legends etc\n",
        "    ax[ax_ind].set_title('Posterior, with Beta prior (a={}, b={})'.format(a, b))\n",
        "    ax[ax_ind].legend(loc='best')\n",
        "\n",
        "    # Step 7f: Increment the subplot index\n",
        "    ax_ind += 1\n",
        "\n",
        "plt.tight_layout()\n",
        "plt.show() "
      ],
      "execution_count": null,
      "outputs": [
        {
          "output_type": "display_data",
          "data": {
            "image/png": "[encoded data removed]",
            "text/plain": [
              "<Figure size 1440x288 with 5 Axes>"
            ]
          },
          "metadata": {
            "tags": [],
            "needs_background": "light"
          }
        }
      ]
    },
    {
      "cell_type": "markdown",
      "metadata": {
        "id": "KmbEnwDk2pOq"
      },
      "source": [
        "### Implement a ranking system that takes prior beliefs into account\n",
        "\n",
        "Let's choose a reasonable beta prior and build a list of top 25 movies that you would recommend to a new user based on the posterior mode.\n",
        "\n",
        "**Exercise 6:**\n",
        "In what important ways is our top 25 list using the posterior mode different from our top 25 list using the like-percent?\n",
        "\n",
        "Describe the possible benefits of using the posterior mode to rank movies instead of the like-percentage? Relate your answers to the concepts from lecture.\n",
        "\n",
        "Describe the possible draw-backs of using the posterior mode to rank movies. Relate your answers to the concepts from lecture.\n",
        "\n",
        "**Answer**:\n",
        "\n",
        "Using the posterior mode to rank movies is more biennial because it takes into account both the likelihood and prior beliefs where by the prior acts as the regulizer in case there is little data thus reducing overfitting unlike the the like-percantage which takes into account only the likelihood neglecting the people's beliefs about certain movies.\n",
        "\n",
        "\n",
        "Since the posterior mode is influenced by both likelihood and the prior beliefs, these prior beliefs may bias our conclusions as they change according to people's beliefs and views about a certain movie depending on the actors of movie they like or not, type of movie being published and other beliefs.\n",
        "\n",
        "\n",
        "\n",
        "**Using the posterior mode instead of like-percentage has the advantage of \"softening\" our conclusions from data. If I observe only one rating 1.0/1.0, I still cannot conclude that the movie is fantastic, I just haven't seen enough data to conclude. Using the posterior mode would give less extreme values, and allow for us to include our prior knowledge.**\n",
        "\n"
      ]
    },
    {
      "cell_type": "code",
      "metadata": {
        "id": "02znKQf92pOs",
        "colab": {
          "base_uri": "https://localhost:8080/"
        },
        "outputId": "9404e000-c32a-4e07-c807-e3df8442005e"
      },
      "source": [
        "# Step 1: Choose a beta prior that encodes a reasonable belief about likability \n",
        "a = 2 \n",
        "b = 2\n",
        "\n",
        "# Step 2: Make a list of movie names and their ratings info\n",
        "likability = []\n",
        "\n",
        "# Step 3: Iterate through all the movie names\n",
        "for name in names_df['movie_name'].values:\n",
        "    # Step 3a: Get ratings info for movie\n",
        "    total_ratings, likes = movie_stats(names_df, ratings_df, movie_name=name)\n",
        "\n",
        "    # Step 3b: Approximate the posterior given the ratings info and the prior\n",
        "    post_samples = sample_posterior(a, b, likes, total_ratings, n_samples)\n",
        "\n",
        "    # Step 3c: Approximate posterior mode\n",
        "    mode = find_mode(post_samples, 30)\n",
        "\n",
        "    # Step 3d: Add movie info to our list\n",
        "    likability.append((name, likes, total_ratings, mode))\n",
        "\n",
        "# Step 4: Sort our list of movie info by like-percentage, in descending order\n",
        "sorted_likability = sorted(likability, key=lambda t: t[3], reverse=True)  \n",
        "\n",
        "# Step 5: Get the movies with top 25 like-percentage\n",
        "top_25_movies = sorted_likability[:25]\n",
        "\n",
        "# Step 6: Print results of ranking\n",
        "print('Top 25 Movies')\n",
        "print('****************************')\n",
        "for movie, likes, total_ratings, likable in top_25_movies:\n",
        "    print(movie, ':', likable, '({}/{})'.format(likes, total_ratings))"
      ],
      "execution_count": null,
      "outputs": [
        {
          "output_type": "stream",
          "text": [
            "Top 25 Movies\n",
            "****************************\n",
            "Shawshank Redemption, The (1994) : 0.9783734475731154 (39.0/39.0)\n",
            "Cool Hand Luke (1967) : 0.9585178838742854 (20.0/20.0)\n",
            "Godfather: Part II, The (1974) : 0.950099464279061 (18.0/18.0)\n",
            "Manchurian Candidate, The (1962) : 0.9489478790310022 (17.0/17.0)\n",
            "Wrong Trousers, The (1993) : 0.9434786418898572 (14.0/14.0)\n",
            "Killing Fields, The (1984) : 0.9401786604204564 (14.0/14.0)\n",
            "Glory (1989) : 0.9390909008509292 (17.0/17.0)\n",
            "Raiders of the Lost Ark (1981) : 0.9351123518153979 (47.0/49.0)\n",
            "Third Man, The (1949) : 0.9243005920554204 (9.0/9.0)\n",
            "High Noon (1952) : 0.923593365860753 (11.0/11.0)\n",
            "Three Colors: Red (1994) : 0.9169010631037907 (12.0/12.0)\n",
            "Casablanca (1942) : 0.9135958148478721 (22.0/23.0)\n",
            "Vertigo (1958) : 0.9086261541109355 (22.0/23.0)\n",
            "Local Hero (1983) : 0.9062775057234164 (10.0/10.0)\n",
            "To Catch a Thief (1955) : 0.9042723254277931 (6.0/6.0)\n",
            "Treasure of the Sierra Madre, The (1948) : 0.900560243702849 (15.0/16.0)\n",
            "Dead Man Walking (1995) : 0.8971603929074391 (33.0/36.0)\n",
            "Thin Man, The (1934) : 0.8944684889104404 (8.0/8.0)\n",
            "Three Colors: White (1994) : 0.8932612053078646 (8.0/8.0)\n",
            "Alien (1979) : 0.8927777145788646 (28.0/30.0)\n",
            "Close Shave, A (1995) : 0.8925901920668473 (16.0/17.0)\n",
            "Maltese Falcon, The (1941) : 0.8913757998275922 (13.0/14.0)\n",
            "East of Eden (1955) : 0.8905031223757971 (8.0/8.0)\n",
            "Henry V (1989) : 0.8899065126063277 (16.0/17.0)\n",
            "Dr. Strangelove or: How I Learned to Stop Worrying and Love the Bomb (1963) : 0.8880733267228899 (22.0/24.0)\n"
          ],
          "name": "stdout"
        }
      ]
    },
    {
      "cell_type": "markdown",
      "metadata": {
        "id": "4yTNbsEd2pOz"
      },
      "source": [
        "---"
      ]
    }
  ]
}